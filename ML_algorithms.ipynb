{
 "cells": [
  {
   "cell_type": "markdown",
   "metadata": {},
   "source": [
    "### Intro\n",
    "\n",
    "There are a lot of unknowns when modeling complex data: which variable selection method to use (if any), which ML algorithms will perform best (and is it simply a matter of hyperparameter specification?), etc.\n",
    "\n",
    "Here I want to write a set of loops to look at all these issues. I'll include a range of variable selection methods (variables selected by VIF, LASSO, low correlations among each other, my own hunches based on biology, and environmental conditions divided by time point of each variable (same day, day before, etc.)). I'll also investigate how different classification algorithms (random forests, logistic, SVC) perform on a range of evaluation criteria (ROC, sensitivity, specificity, etc.). Regression approaches and evaluation was performed in a separate file.\n",
    " "
   ]
  },
  {
   "cell_type": "markdown",
   "metadata": {},
   "source": [
    "Start by importing the libraries and functions I'll need:"
   ]
  },
  {
   "cell_type": "code",
   "execution_count": 245,
   "metadata": {},
   "outputs": [],
   "source": [
    "import numpy as np\n",
    "import pandas as pd\n",
    "import scipy.stats\n",
    "import matplotlib.pyplot as plt\n",
    "import warnings\n",
    "\n",
    "\n",
    "from matplotlib import cm\n",
    "from matplotlib.colors import ListedColormap, LinearSegmentedColormap\n",
    "%matplotlib inline\n",
    "\n",
    "from sklearn.model_selection import train_test_split, cross_val_score, cross_validate, RandomizedSearchCV, GridSearchCV\n",
    "from sklearn.preprocessing import normalize, scale, Normalizer, StandardScaler, OrdinalEncoder, OneHotEncoder, FunctionTransformer\n",
    "from sklearn.linear_model import LogisticRegression, LinearRegression, Ridge, Lasso, LassoCV\n",
    "from sklearn.ensemble import RandomForestRegressor, RandomForestClassifier, VotingRegressor, StackingRegressor\n",
    "\n",
    "from sklearn.dummy import DummyRegressor, DummyClassifier\n",
    "from sklearn.experimental import enable_iterative_imputer\n",
    "from sklearn.impute import IterativeImputer, SimpleImputer\n",
    "from sklearn.compose import ColumnTransformer\n",
    "from sklearn.pipeline import Pipeline\n",
    "\n",
    "from sklearn import metrics\n",
    "from sklearn.metrics import r2_score, mean_squared_error\n",
    "from sklearn.metrics import precision_score, f1_score, accuracy_score, roc_curve, roc_auc_score, make_scorer\n",
    "from sklearn.metrics import classification_report, confusion_matrix, ConfusionMatrixDisplay, plot_confusion_matrix\n",
    "\n",
    "from sklearn.inspection import permutation_importance\n",
    "\n",
    "from sklearn.svm import SVR, SVC\n",
    "from sklearn.datasets import make_blobs\n",
    "from sklearn.tree import DecisionTreeRegressor\n",
    "\n",
    "from pandas_profiling import ProfileReport\n",
    "from sklearn.metrics import roc_curve, auc, roc_auc_score\n",
    "\n",
    "from statistics import mean\n",
    "\n",
    "from pprint import pprint"
   ]
  },
  {
   "cell_type": "markdown",
   "metadata": {},
   "source": [
    "## Functions:\n",
    "\n",
    "Next, define some functions that will help evaluate the models."
   ]
  },
  {
   "cell_type": "code",
   "execution_count": 246,
   "metadata": {},
   "outputs": [],
   "source": [
    "def score_metrics(y_true, y_proba, prob_threshold):\n",
    "    \"\"\"\"\n",
    "    Produces a table of the most relevant model evaluation metrics for classification problems\n",
    "    \n",
    "    Requires a vector of the true target values and a vector of predicted probabilities (from the model) for\n",
    "       those values\n",
    "    \"\"\"\n",
    "    y_pred = y_proba >= prob_threshold\n",
    "    cm = confusion_matrix(y_true, y_pred)\n",
    "    tn, fp, fn, tp = cm.ravel()\n",
    "    \n",
    "    accuracy = (tp + tn) / (tp + fp + tn + fn)\n",
    "    precision = tp / (tp + fp)\n",
    "    recall = tp / (tp + fn)\n",
    "    specificity = tn / (tn + fp)\n",
    "    f1 = 2*(precision*recall)/(precision+recall)\n",
    "    AUC = roc_auc_score(y_true, y_proba)\n",
    "    \n",
    "    row_names = ['accuracy', 'precision', 'recall', 'specificity', 'F1', 'AUC']\n",
    "    df = pd.DataFrame(data=[accuracy, precision, recall, specificity, f1, AUC], \n",
    "                      index=row_names, columns=[\"value\"])\n",
    "    return df"
   ]
  },
  {
   "cell_type": "code",
   "execution_count": 247,
   "metadata": {},
   "outputs": [],
   "source": [
    "def score_metrics_no_prob(y_true, y_pred):\n",
    "    \"\"\"\"\n",
    "    Produces a table of the most relevant model evaluation metrics for classification problems\n",
    "    \n",
    "    Requires a vector of the true target values and a vector of predicted classes (not probabilities)\n",
    "       for those values\n",
    "    \"\"\"\n",
    "    #y_pred = y_proba >= 0.5\n",
    "    cm = confusion_matrix(y_true, y_pred)\n",
    "    tn, fp, fn, tp = cm.ravel()\n",
    "    \n",
    "    accuracy = (tp + tn) / (tp + fp + tn + fn)\n",
    "    precision = tp / (tp + fp)\n",
    "    recall = tp / (tp + fn)\n",
    "    specificity = tn / (tn + fp)\n",
    "    f1 = 2*(precision*recall)/(precision+recall)\n",
    "    AUC = roc_auc_score(y_true, y_pred)\n",
    "    \n",
    "    row_names = ['accuracy', 'precision', 'recall', 'specificity', 'F1', 'AUC'\n",
    "                ]\n",
    "    df = pd.DataFrame(data=[accuracy, precision, recall, specificity, f1, AUC\n",
    "                           ], \n",
    "                      index=row_names, columns=[\"value\"])\n",
    "    return df"
   ]
  },
  {
   "cell_type": "markdown",
   "metadata": {},
   "source": [
    "Now we can begin loading in the data and investigating it:"
   ]
  },
  {
   "cell_type": "code",
   "execution_count": 248,
   "metadata": {},
   "outputs": [],
   "source": [
    "# load in my data:\n",
    "ascospores = pd.read_csv(\"2018-21 burkard and weather data for modelling.csv\", index_col = False)"
   ]
  },
  {
   "cell_type": "code",
   "execution_count": 249,
   "metadata": {},
   "outputs": [],
   "source": [
    "# convert the 'RainYN' column to a character, since I think this may cause issues with\n",
    "# the analysis downstream:\n",
    "ascospores['RainYN'] = ascospores.RainYN.astype(str)"
   ]
  },
  {
   "cell_type": "code",
   "execution_count": 250,
   "metadata": {
    "scrolled": true
   },
   "outputs": [
    {
     "data": {
      "text/html": [
       "<div>\n",
       "<style scoped>\n",
       "    .dataframe tbody tr th:only-of-type {\n",
       "        vertical-align: middle;\n",
       "    }\n",
       "\n",
       "    .dataframe tbody tr th {\n",
       "        vertical-align: top;\n",
       "    }\n",
       "\n",
       "    .dataframe thead th {\n",
       "        text-align: right;\n",
       "    }\n",
       "</style>\n",
       "<table border=\"1\" class=\"dataframe\">\n",
       "  <thead>\n",
       "    <tr style=\"text-align: right;\">\n",
       "      <th></th>\n",
       "      <th>Date</th>\n",
       "      <th>Year</th>\n",
       "      <th>Province</th>\n",
       "      <th>SamplerNo.x</th>\n",
       "      <th>FieldID</th>\n",
       "      <th>SamplerType</th>\n",
       "      <th>ExtractionGroup</th>\n",
       "      <th>qPCRPlate</th>\n",
       "      <th>JDay</th>\n",
       "      <th>SampleID</th>\n",
       "      <th>...</th>\n",
       "      <th>MeanSoilTemp</th>\n",
       "      <th>DiffMeanSoilT</th>\n",
       "      <th>MeanSoilT_1d</th>\n",
       "      <th>MaxSoilTemp</th>\n",
       "      <th>DiffMaxSoilT</th>\n",
       "      <th>MaxSoilT_1d</th>\n",
       "      <th>MinSoilTemp</th>\n",
       "      <th>DiffMinSoilT</th>\n",
       "      <th>MinSoilT_1d</th>\n",
       "      <th>jday</th>\n",
       "    </tr>\n",
       "  </thead>\n",
       "  <tbody>\n",
       "    <tr>\n",
       "      <th>0</th>\n",
       "      <td>2018-06-13</td>\n",
       "      <td>2018</td>\n",
       "      <td>Alberta</td>\n",
       "      <td>Taber</td>\n",
       "      <td>1804</td>\n",
       "      <td>Burkard</td>\n",
       "      <td>NaN</td>\n",
       "      <td>NaN</td>\n",
       "      <td>164.0</td>\n",
       "      <td>NaN</td>\n",
       "      <td>...</td>\n",
       "      <td>NaN</td>\n",
       "      <td>NaN</td>\n",
       "      <td>NaN</td>\n",
       "      <td>NaN</td>\n",
       "      <td>NaN</td>\n",
       "      <td>NaN</td>\n",
       "      <td>NaN</td>\n",
       "      <td>NaN</td>\n",
       "      <td>NaN</td>\n",
       "      <td>NaN</td>\n",
       "    </tr>\n",
       "    <tr>\n",
       "      <th>1</th>\n",
       "      <td>2018-06-14</td>\n",
       "      <td>2018</td>\n",
       "      <td>Alberta</td>\n",
       "      <td>Taber</td>\n",
       "      <td>1804</td>\n",
       "      <td>Burkard</td>\n",
       "      <td>NaN</td>\n",
       "      <td>NaN</td>\n",
       "      <td>165.0</td>\n",
       "      <td>NaN</td>\n",
       "      <td>...</td>\n",
       "      <td>NaN</td>\n",
       "      <td>NaN</td>\n",
       "      <td>NaN</td>\n",
       "      <td>NaN</td>\n",
       "      <td>NaN</td>\n",
       "      <td>NaN</td>\n",
       "      <td>NaN</td>\n",
       "      <td>NaN</td>\n",
       "      <td>NaN</td>\n",
       "      <td>165.0</td>\n",
       "    </tr>\n",
       "    <tr>\n",
       "      <th>2</th>\n",
       "      <td>2018-06-15</td>\n",
       "      <td>2018</td>\n",
       "      <td>Alberta</td>\n",
       "      <td>Taber</td>\n",
       "      <td>1804</td>\n",
       "      <td>Burkard</td>\n",
       "      <td>NaN</td>\n",
       "      <td>NaN</td>\n",
       "      <td>166.0</td>\n",
       "      <td>NaN</td>\n",
       "      <td>...</td>\n",
       "      <td>NaN</td>\n",
       "      <td>NaN</td>\n",
       "      <td>NaN</td>\n",
       "      <td>NaN</td>\n",
       "      <td>NaN</td>\n",
       "      <td>NaN</td>\n",
       "      <td>NaN</td>\n",
       "      <td>NaN</td>\n",
       "      <td>NaN</td>\n",
       "      <td>166.0</td>\n",
       "    </tr>\n",
       "    <tr>\n",
       "      <th>3</th>\n",
       "      <td>2018-06-16</td>\n",
       "      <td>2018</td>\n",
       "      <td>Alberta</td>\n",
       "      <td>Taber</td>\n",
       "      <td>1804</td>\n",
       "      <td>Burkard</td>\n",
       "      <td>NaN</td>\n",
       "      <td>NaN</td>\n",
       "      <td>167.0</td>\n",
       "      <td>NaN</td>\n",
       "      <td>...</td>\n",
       "      <td>NaN</td>\n",
       "      <td>NaN</td>\n",
       "      <td>NaN</td>\n",
       "      <td>NaN</td>\n",
       "      <td>NaN</td>\n",
       "      <td>NaN</td>\n",
       "      <td>NaN</td>\n",
       "      <td>NaN</td>\n",
       "      <td>NaN</td>\n",
       "      <td>167.0</td>\n",
       "    </tr>\n",
       "    <tr>\n",
       "      <th>4</th>\n",
       "      <td>2018-06-17</td>\n",
       "      <td>2018</td>\n",
       "      <td>Alberta</td>\n",
       "      <td>Taber</td>\n",
       "      <td>1804</td>\n",
       "      <td>Burkard</td>\n",
       "      <td>NaN</td>\n",
       "      <td>NaN</td>\n",
       "      <td>168.0</td>\n",
       "      <td>NaN</td>\n",
       "      <td>...</td>\n",
       "      <td>NaN</td>\n",
       "      <td>NaN</td>\n",
       "      <td>NaN</td>\n",
       "      <td>NaN</td>\n",
       "      <td>NaN</td>\n",
       "      <td>NaN</td>\n",
       "      <td>NaN</td>\n",
       "      <td>NaN</td>\n",
       "      <td>NaN</td>\n",
       "      <td>168.0</td>\n",
       "    </tr>\n",
       "    <tr>\n",
       "      <th>...</th>\n",
       "      <td>...</td>\n",
       "      <td>...</td>\n",
       "      <td>...</td>\n",
       "      <td>...</td>\n",
       "      <td>...</td>\n",
       "      <td>...</td>\n",
       "      <td>...</td>\n",
       "      <td>...</td>\n",
       "      <td>...</td>\n",
       "      <td>...</td>\n",
       "      <td>...</td>\n",
       "      <td>...</td>\n",
       "      <td>...</td>\n",
       "      <td>...</td>\n",
       "      <td>...</td>\n",
       "      <td>...</td>\n",
       "      <td>...</td>\n",
       "      <td>...</td>\n",
       "      <td>...</td>\n",
       "      <td>...</td>\n",
       "      <td>...</td>\n",
       "    </tr>\n",
       "    <tr>\n",
       "      <th>2692</th>\n",
       "      <td>2021-08-12</td>\n",
       "      <td>2021</td>\n",
       "      <td>Manitoba</td>\n",
       "      <td>NaN</td>\n",
       "      <td>Morden21</td>\n",
       "      <td>NaN</td>\n",
       "      <td>NaN</td>\n",
       "      <td>NaN</td>\n",
       "      <td>NaN</td>\n",
       "      <td>NaN</td>\n",
       "      <td>...</td>\n",
       "      <td>NaN</td>\n",
       "      <td>NaN</td>\n",
       "      <td>NaN</td>\n",
       "      <td>NaN</td>\n",
       "      <td>NaN</td>\n",
       "      <td>NaN</td>\n",
       "      <td>NaN</td>\n",
       "      <td>NaN</td>\n",
       "      <td>NaN</td>\n",
       "      <td>224.0</td>\n",
       "    </tr>\n",
       "    <tr>\n",
       "      <th>2693</th>\n",
       "      <td>2021-08-15</td>\n",
       "      <td>2021</td>\n",
       "      <td>Manitoba</td>\n",
       "      <td>NaN</td>\n",
       "      <td>Morden21</td>\n",
       "      <td>NaN</td>\n",
       "      <td>NaN</td>\n",
       "      <td>NaN</td>\n",
       "      <td>NaN</td>\n",
       "      <td>NaN</td>\n",
       "      <td>...</td>\n",
       "      <td>NaN</td>\n",
       "      <td>NaN</td>\n",
       "      <td>NaN</td>\n",
       "      <td>NaN</td>\n",
       "      <td>NaN</td>\n",
       "      <td>NaN</td>\n",
       "      <td>NaN</td>\n",
       "      <td>NaN</td>\n",
       "      <td>NaN</td>\n",
       "      <td>227.0</td>\n",
       "    </tr>\n",
       "    <tr>\n",
       "      <th>2694</th>\n",
       "      <td>2021-08-17</td>\n",
       "      <td>2021</td>\n",
       "      <td>Manitoba</td>\n",
       "      <td>NaN</td>\n",
       "      <td>Morden21</td>\n",
       "      <td>NaN</td>\n",
       "      <td>NaN</td>\n",
       "      <td>NaN</td>\n",
       "      <td>NaN</td>\n",
       "      <td>NaN</td>\n",
       "      <td>...</td>\n",
       "      <td>NaN</td>\n",
       "      <td>NaN</td>\n",
       "      <td>NaN</td>\n",
       "      <td>NaN</td>\n",
       "      <td>NaN</td>\n",
       "      <td>NaN</td>\n",
       "      <td>NaN</td>\n",
       "      <td>NaN</td>\n",
       "      <td>NaN</td>\n",
       "      <td>229.0</td>\n",
       "    </tr>\n",
       "    <tr>\n",
       "      <th>2695</th>\n",
       "      <td>2021-08-18</td>\n",
       "      <td>2021</td>\n",
       "      <td>Manitoba</td>\n",
       "      <td>NaN</td>\n",
       "      <td>Morden21</td>\n",
       "      <td>NaN</td>\n",
       "      <td>NaN</td>\n",
       "      <td>NaN</td>\n",
       "      <td>NaN</td>\n",
       "      <td>NaN</td>\n",
       "      <td>...</td>\n",
       "      <td>NaN</td>\n",
       "      <td>NaN</td>\n",
       "      <td>NaN</td>\n",
       "      <td>NaN</td>\n",
       "      <td>NaN</td>\n",
       "      <td>NaN</td>\n",
       "      <td>NaN</td>\n",
       "      <td>NaN</td>\n",
       "      <td>NaN</td>\n",
       "      <td>230.0</td>\n",
       "    </tr>\n",
       "    <tr>\n",
       "      <th>2696</th>\n",
       "      <td>2021-08-26</td>\n",
       "      <td>2021</td>\n",
       "      <td>Manitoba</td>\n",
       "      <td>NaN</td>\n",
       "      <td>Morden21</td>\n",
       "      <td>NaN</td>\n",
       "      <td>NaN</td>\n",
       "      <td>NaN</td>\n",
       "      <td>NaN</td>\n",
       "      <td>NaN</td>\n",
       "      <td>...</td>\n",
       "      <td>NaN</td>\n",
       "      <td>NaN</td>\n",
       "      <td>NaN</td>\n",
       "      <td>NaN</td>\n",
       "      <td>NaN</td>\n",
       "      <td>NaN</td>\n",
       "      <td>NaN</td>\n",
       "      <td>NaN</td>\n",
       "      <td>NaN</td>\n",
       "      <td>238.0</td>\n",
       "    </tr>\n",
       "  </tbody>\n",
       "</table>\n",
       "<p>2697 rows × 97 columns</p>\n",
       "</div>"
      ],
      "text/plain": [
       "            Date  Year  Province SamplerNo.x   FieldID SamplerType  \\\n",
       "0     2018-06-13  2018   Alberta       Taber      1804     Burkard   \n",
       "1     2018-06-14  2018   Alberta       Taber      1804     Burkard   \n",
       "2     2018-06-15  2018   Alberta       Taber      1804     Burkard   \n",
       "3     2018-06-16  2018   Alberta       Taber      1804     Burkard   \n",
       "4     2018-06-17  2018   Alberta       Taber      1804     Burkard   \n",
       "...          ...   ...       ...         ...       ...         ...   \n",
       "2692  2021-08-12  2021  Manitoba         NaN  Morden21         NaN   \n",
       "2693  2021-08-15  2021  Manitoba         NaN  Morden21         NaN   \n",
       "2694  2021-08-17  2021  Manitoba         NaN  Morden21         NaN   \n",
       "2695  2021-08-18  2021  Manitoba         NaN  Morden21         NaN   \n",
       "2696  2021-08-26  2021  Manitoba         NaN  Morden21         NaN   \n",
       "\n",
       "     ExtractionGroup qPCRPlate   JDay SampleID  ...  MeanSoilTemp  \\\n",
       "0                NaN       NaN  164.0      NaN  ...           NaN   \n",
       "1                NaN       NaN  165.0      NaN  ...           NaN   \n",
       "2                NaN       NaN  166.0      NaN  ...           NaN   \n",
       "3                NaN       NaN  167.0      NaN  ...           NaN   \n",
       "4                NaN       NaN  168.0      NaN  ...           NaN   \n",
       "...              ...       ...    ...      ...  ...           ...   \n",
       "2692             NaN       NaN    NaN      NaN  ...           NaN   \n",
       "2693             NaN       NaN    NaN      NaN  ...           NaN   \n",
       "2694             NaN       NaN    NaN      NaN  ...           NaN   \n",
       "2695             NaN       NaN    NaN      NaN  ...           NaN   \n",
       "2696             NaN       NaN    NaN      NaN  ...           NaN   \n",
       "\n",
       "      DiffMeanSoilT  MeanSoilT_1d  MaxSoilTemp  DiffMaxSoilT  MaxSoilT_1d  \\\n",
       "0               NaN           NaN          NaN           NaN          NaN   \n",
       "1               NaN           NaN          NaN           NaN          NaN   \n",
       "2               NaN           NaN          NaN           NaN          NaN   \n",
       "3               NaN           NaN          NaN           NaN          NaN   \n",
       "4               NaN           NaN          NaN           NaN          NaN   \n",
       "...             ...           ...          ...           ...          ...   \n",
       "2692            NaN           NaN          NaN           NaN          NaN   \n",
       "2693            NaN           NaN          NaN           NaN          NaN   \n",
       "2694            NaN           NaN          NaN           NaN          NaN   \n",
       "2695            NaN           NaN          NaN           NaN          NaN   \n",
       "2696            NaN           NaN          NaN           NaN          NaN   \n",
       "\n",
       "      MinSoilTemp DiffMinSoilT  MinSoilT_1d   jday  \n",
       "0             NaN          NaN          NaN    NaN  \n",
       "1             NaN          NaN          NaN  165.0  \n",
       "2             NaN          NaN          NaN  166.0  \n",
       "3             NaN          NaN          NaN  167.0  \n",
       "4             NaN          NaN          NaN  168.0  \n",
       "...           ...          ...          ...    ...  \n",
       "2692          NaN          NaN          NaN  224.0  \n",
       "2693          NaN          NaN          NaN  227.0  \n",
       "2694          NaN          NaN          NaN  229.0  \n",
       "2695          NaN          NaN          NaN  230.0  \n",
       "2696          NaN          NaN          NaN  238.0  \n",
       "\n",
       "[2697 rows x 97 columns]"
      ]
     },
     "execution_count": 250,
     "metadata": {},
     "output_type": "execute_result"
    }
   ],
   "source": [
    "# I think different types of NA values are getting in the way of downstream analysis, so here I'll try to \n",
    "#  change them all into the exact same format:\n",
    "ascospores.replace(dict.fromkeys(['N/A', 'nan', '', 'NA'], None))"
   ]
  },
  {
   "cell_type": "code",
   "execution_count": 251,
   "metadata": {},
   "outputs": [
    {
     "data": {
      "text/plain": [
       "Index(['Date', 'Year', 'Province', 'SamplerNo.x', 'FieldID', 'SamplerType',\n",
       "       'ExtractionGroup', 'qPCRPlate', 'JDay', 'SampleID', 'SsCtMean',\n",
       "       'SsCtSD', 'SsMean', 'logSsMean', 'VolumeSampled', 'TtCt', 'TtSD',\n",
       "       'Water', 'week', 'month', 'SsMean_t1', 'logSs_t1', 'SamplerNo.y',\n",
       "       'MeanWetness', 'DiffMeanWet', 'MeanWet_1d', 'MaxWetness', 'DiffMaxWet',\n",
       "       'MaxWet_1d', 'MinWetness', 'DiffMinWet', 'MinWet_1d', 'MeanTemp',\n",
       "       'DiffMeanT', 'MeanT_1d', 'MaxTemp', 'DiffMaxT', 'MaxT_1d', 'MinTemp',\n",
       "       'DiffMinT', 'MinT_1d', 'MeanRH', 'DiffMeanRH', 'MeanRH_1d', 'MaxRH',\n",
       "       'DiffMaxRH', 'MaxRH_1d', 'MinRH', 'DiffMinRH', 'MinRH_1d', 'DiffRH_0d',\n",
       "       'DiffRH_1d', 'DiffRH_2d', 'MaxDiffRH_2h', 'MaxDiffRH_3h', 'MeanVPD',\n",
       "       'DiffMeanVPD', 'MeanVPD_1d', 'MaxVPD', 'DiffMaxVPD', 'MaxVPD_1d',\n",
       "       'MinVPD', 'DiffMinVPD', 'MinVPD_1d', 'TotalPrecip', 'Precip_1d',\n",
       "       'RainYN', 'MaxRain', 'MinRain', 'MeanWC', 'DiffMeanWC', 'MeanWC_1d',\n",
       "       'MaxWC', 'DiffMaxWC', 'MaxWC_1d', 'MinWC', 'DiffMinWC', 'MinWC_1d',\n",
       "       'MeanDP', 'DiffMeanDP', 'MeanDP_1d', 'MaxDP', 'DiffMaxDP', 'MaxDP_1d',\n",
       "       'MinDP', 'DiffMinDP', 'MinDP_1d', 'MeanSoilTemp', 'DiffMeanSoilT',\n",
       "       'MeanSoilT_1d', 'MaxSoilTemp', 'DiffMaxSoilT', 'MaxSoilT_1d',\n",
       "       'MinSoilTemp', 'DiffMinSoilT', 'MinSoilT_1d', 'jday'],\n",
       "      dtype='object')"
      ]
     },
     "execution_count": 251,
     "metadata": {},
     "output_type": "execute_result"
    }
   ],
   "source": [
    "ascospores.columns"
   ]
  },
  {
   "cell_type": "code",
   "execution_count": 252,
   "metadata": {},
   "outputs": [],
   "source": [
    "# remove any lines for which the response variable is missing:\n",
    "ascospores = ascospores.dropna(subset=['SsMean'])"
   ]
  },
  {
   "cell_type": "code",
   "execution_count": 253,
   "metadata": {},
   "outputs": [],
   "source": [
    "# make sure that RainYN is a categorical variable:\n",
    "ascospores['RainYN'] = ascospores['RainYN'].astype('category')"
   ]
  },
  {
   "cell_type": "code",
   "execution_count": 254,
   "metadata": {},
   "outputs": [
    {
     "data": {
      "text/plain": [
       "(1046, 97)"
      ]
     },
     "execution_count": 254,
     "metadata": {},
     "output_type": "execute_result"
    }
   ],
   "source": [
    "# select only AB fields and remove the one sampler that was collecting from outside the field;\n",
    "#  also remove the fields that didn't collect weather data (can see R 'Correlations of Ascospores and Weather...R'\n",
    "#  file to assess this):\n",
    "\n",
    "to_keep = [\"1804\", \"1810\", \"1814\", \"1904\", \"1906\", \"1910\", \"1915\", \"1917\", \"1919\", \n",
    "           \"2001\", \"2003\", \"2004\", \"2006\", \"2007\", \"2042\", \"2104\", \"2105-in\", \"2125\",\n",
    "           \"2128\", \"2144\", \"2146\"]\n",
    "\n",
    "asco_ab = ascospores.loc[ascospores['FieldID'].isin(to_keep)]\n",
    "\n",
    "asco_ab.shape"
   ]
  },
  {
   "cell_type": "code",
   "execution_count": 255,
   "metadata": {},
   "outputs": [
    {
     "data": {
      "text/plain": [
       "array(['1804', '1810', '1814', '1904', '1906', '1910', '1915', '1917',\n",
       "       '1919', '2001', '2004', '2006', '2007', '2042', '2104', '2105-in',\n",
       "       '2125', '2128', '2144', '2146'], dtype=object)"
      ]
     },
     "execution_count": 255,
     "metadata": {},
     "output_type": "execute_result"
    }
   ],
   "source": [
    "asco_ab['FieldID'].unique()"
   ]
  },
  {
   "cell_type": "code",
   "execution_count": 256,
   "metadata": {},
   "outputs": [
    {
     "data": {
      "text/plain": [
       "Index(['Date', 'Year', 'Province', 'SamplerNo.x', 'FieldID', 'SamplerType',\n",
       "       'ExtractionGroup', 'qPCRPlate', 'JDay', 'SampleID', 'SsCtMean',\n",
       "       'SsCtSD', 'SsMean', 'logSsMean', 'VolumeSampled', 'TtCt', 'TtSD',\n",
       "       'Water', 'week', 'month', 'SsMean_t1', 'logSs_t1', 'SamplerNo.y',\n",
       "       'MeanWetness', 'DiffMeanWet', 'MeanWet_1d', 'MaxWetness', 'DiffMaxWet',\n",
       "       'MaxWet_1d', 'MinWetness', 'DiffMinWet', 'MinWet_1d', 'MeanTemp',\n",
       "       'DiffMeanT', 'MeanT_1d', 'MaxTemp', 'DiffMaxT', 'MaxT_1d', 'MinTemp',\n",
       "       'DiffMinT', 'MinT_1d', 'MeanRH', 'DiffMeanRH', 'MeanRH_1d', 'MaxRH',\n",
       "       'DiffMaxRH', 'MaxRH_1d', 'MinRH', 'DiffMinRH', 'MinRH_1d', 'DiffRH_0d',\n",
       "       'DiffRH_1d', 'DiffRH_2d', 'MaxDiffRH_2h', 'MaxDiffRH_3h', 'MeanVPD',\n",
       "       'DiffMeanVPD', 'MeanVPD_1d', 'MaxVPD', 'DiffMaxVPD', 'MaxVPD_1d',\n",
       "       'MinVPD', 'DiffMinVPD', 'MinVPD_1d', 'TotalPrecip', 'Precip_1d',\n",
       "       'RainYN', 'MaxRain', 'MinRain', 'MeanWC', 'DiffMeanWC', 'MeanWC_1d',\n",
       "       'MaxWC', 'DiffMaxWC', 'MaxWC_1d', 'MinWC', 'DiffMinWC', 'MinWC_1d',\n",
       "       'MeanDP', 'DiffMeanDP', 'MeanDP_1d', 'MaxDP', 'DiffMaxDP', 'MaxDP_1d',\n",
       "       'MinDP', 'DiffMinDP', 'MinDP_1d', 'MeanSoilTemp', 'DiffMeanSoilT',\n",
       "       'MeanSoilT_1d', 'MaxSoilTemp', 'DiffMaxSoilT', 'MaxSoilT_1d',\n",
       "       'MinSoilTemp', 'DiffMinSoilT', 'MinSoilT_1d', 'jday'],\n",
       "      dtype='object')"
      ]
     },
     "execution_count": 256,
     "metadata": {},
     "output_type": "execute_result"
    }
   ],
   "source": [
    "asco_ab.columns"
   ]
  },
  {
   "cell_type": "code",
   "execution_count": 258,
   "metadata": {},
   "outputs": [],
   "source": [
    "# drop columns that are redundant, not relevant, or contain no useful information;\n",
    "asco_minimal = asco_ab.drop(['Date', 'Year', 'Province', 'SamplerNo.x', \n",
    "                             #'FieldID', \n",
    "                             'SamplerType', \n",
    "                             'ExtractionGroup','qPCRPlate', 'JDay', 'SampleID', 'SsCtMean', \n",
    "                             'SsCtSD', 'VolumeSampled', 'TtCt', 'TtSD', 'Water', \n",
    "                             #'week', 'month', \n",
    "                             'SamplerNo.y', 'MeanWetness',\n",
    "                             'DiffMeanWet', 'MeanWet_1d', 'MaxWetness', 'DiffMaxWet', 'MaxWet_1d',\n",
    "                             'MinWetness', 'DiffMinWet', 'MinWet_1d', #'RainYN', \n",
    "                             'MaxRain', 'MinRain', \n",
    "                             #'MeanWC', 'DiffMeanWC', 'MeanWC_1d',\n",
    "                             #'MaxWC', 'DiffMaxWC', 'MaxWC_1d', 'MinWC', 'DiffMinWC', 'MinWC_1d',\n",
    "                             #'MeanSoilTemp', 'DiffMeanSoilT',\n",
    "                             #'MeanSoilT_1d', 'MaxSoilTemp', 'DiffMaxSoilT', 'MaxSoilT_1d',\n",
    "                             #'MinSoilTemp', 'DiffMinSoilT', 'MinSoilT_1d', \n",
    "                             'jday'], axis = 1)"
   ]
  },
  {
   "cell_type": "code",
   "execution_count": 259,
   "metadata": {},
   "outputs": [
    {
     "name": "stdout",
     "output_type": "stream",
     "text": [
      "(1046, 69)\n"
     ]
    },
    {
     "data": {
      "text/plain": [
       "Index(['FieldID', 'SsMean', 'logSsMean', 'week', 'month', 'SsMean_t1',\n",
       "       'logSs_t1', 'MeanTemp', 'DiffMeanT', 'MeanT_1d', 'MaxTemp', 'DiffMaxT',\n",
       "       'MaxT_1d', 'MinTemp', 'DiffMinT', 'MinT_1d', 'MeanRH', 'DiffMeanRH',\n",
       "       'MeanRH_1d', 'MaxRH', 'DiffMaxRH', 'MaxRH_1d', 'MinRH', 'DiffMinRH',\n",
       "       'MinRH_1d', 'DiffRH_0d', 'DiffRH_1d', 'DiffRH_2d', 'MaxDiffRH_2h',\n",
       "       'MaxDiffRH_3h', 'MeanVPD', 'DiffMeanVPD', 'MeanVPD_1d', 'MaxVPD',\n",
       "       'DiffMaxVPD', 'MaxVPD_1d', 'MinVPD', 'DiffMinVPD', 'MinVPD_1d',\n",
       "       'TotalPrecip', 'Precip_1d', 'RainYN', 'MeanWC', 'DiffMeanWC',\n",
       "       'MeanWC_1d', 'MaxWC', 'DiffMaxWC', 'MaxWC_1d', 'MinWC', 'DiffMinWC',\n",
       "       'MinWC_1d', 'MeanDP', 'DiffMeanDP', 'MeanDP_1d', 'MaxDP', 'DiffMaxDP',\n",
       "       'MaxDP_1d', 'MinDP', 'DiffMinDP', 'MinDP_1d', 'MeanSoilTemp',\n",
       "       'DiffMeanSoilT', 'MeanSoilT_1d', 'MaxSoilTemp', 'DiffMaxSoilT',\n",
       "       'MaxSoilT_1d', 'MinSoilTemp', 'DiffMinSoilT', 'MinSoilT_1d'],\n",
       "      dtype='object')"
      ]
     },
     "execution_count": 259,
     "metadata": {},
     "output_type": "execute_result"
    }
   ],
   "source": [
    "print(asco_minimal.shape)\n",
    "asco_minimal.columns"
   ]
  },
  {
   "cell_type": "markdown",
   "metadata": {},
   "source": [
    "### What to do with the soil data?\n",
    "\n",
    "Some of the fields that were surveyed have soil temperature and soil moisture data, but many don't. The problem with INCLUDING these variables is that either (i) many samples would be excluded due to missing values here or (ii) imputation would make up values for all samples from a field (not reliable). The problem with EXCLUDING these variables is that they are potentially very important predictors in the model.\n",
    "\n",
    "I've performed analyses both ways, but here I include only the analysis for the data set WITHOUT soil temperature and moisture variables."
   ]
  },
  {
   "cell_type": "code",
   "execution_count": 260,
   "metadata": {
    "scrolled": true
   },
   "outputs": [
    {
     "name": "stdout",
     "output_type": "stream",
     "text": [
      "(620, 69)\n",
      "(1046, 51)\n"
     ]
    }
   ],
   "source": [
    "# in Alberta, filtering by complete Soil Temp variables will ensure that this there are also\n",
    "#   complete Soil WC variables:\n",
    "asco_soil = asco_minimal.dropna(subset=['MeanSoilTemp'])\n",
    "asco_nosoil = asco_minimal.drop(['MeanWC', 'DiffMeanWC', 'MeanWC_1d', 'MaxWC',\n",
    "       'DiffMaxWC', 'MaxWC_1d', 'MinWC', 'DiffMinWC', 'MinWC_1d', 'MeanSoilTemp', \n",
    "       'DiffMeanSoilT', 'MeanSoilT_1d', 'MaxSoilTemp', 'DiffMaxSoilT', 'MaxSoilT_1d',\n",
    "       'MinSoilTemp', 'DiffMinSoilT', 'MinSoilT_1d'], axis = 1)\n",
    "print(asco_soil.shape)\n",
    "print(asco_nosoil.shape)"
   ]
  },
  {
   "cell_type": "markdown",
   "metadata": {},
   "source": [
    "From here on, I'll just use the 'asco_nosoil' data set.\n",
    "\n",
    "### Creating the train and test data sets: \n",
    "\n",
    "Rather than doing a random split, I'm going to select one field from each year for the test set, and use the remainder for the training set - this seems more realistic in terms of what we want to predict. For instance, in any given year, we want to know whether our model can predict spore occurrence in a range of new fields."
   ]
  },
  {
   "cell_type": "code",
   "execution_count": 261,
   "metadata": {},
   "outputs": [],
   "source": [
    "asco_trainvalid_nosoil = asco_nosoil.loc[asco_nosoil['FieldID'].isin([\"1804\",  \"1814\", \"1904\", \"1906\", \"1915\", \"1917\", \"1919\", \n",
    "           \"2001\", \"2003\",  \"2006\", \"2007\", \"2042\", \"2104\", \"2105-in\", \"2125\",\n",
    "            \"2144\", \"2146\"])]\n",
    "asco_test_nosoil = asco_nosoil.loc[asco_nosoil['FieldID'].isin([\"1810\", \"1910\", \"2004\", \"2128\"])]\n"
   ]
  },
  {
   "cell_type": "code",
   "execution_count": 262,
   "metadata": {},
   "outputs": [
    {
     "name": "stdout",
     "output_type": "stream",
     "text": [
      "(855, 51)\n",
      "(191, 51)\n"
     ]
    }
   ],
   "source": [
    "print(asco_trainvalid_nosoil.shape)\n",
    "print(asco_test_nosoil.shape)"
   ]
  },
  {
   "cell_type": "code",
   "execution_count": 263,
   "metadata": {},
   "outputs": [],
   "source": [
    "# drop the 'FieldID' column for these data sets:\n",
    "asco_trainvalid_nosoil = asco_trainvalid_nosoil.drop(['FieldID'], axis = 1)\n",
    "asco_test_nosoil = asco_test_nosoil.drop(['FieldID'], axis = 1)"
   ]
  },
  {
   "cell_type": "code",
   "execution_count": 264,
   "metadata": {},
   "outputs": [
    {
     "data": {
      "text/plain": [
       "Index(['SsMean', 'logSsMean', 'week', 'month', 'SsMean_t1', 'logSs_t1',\n",
       "       'MeanTemp', 'DiffMeanT', 'MeanT_1d', 'MaxTemp', 'DiffMaxT', 'MaxT_1d',\n",
       "       'MinTemp', 'DiffMinT', 'MinT_1d', 'MeanRH', 'DiffMeanRH', 'MeanRH_1d',\n",
       "       'MaxRH', 'DiffMaxRH', 'MaxRH_1d', 'MinRH', 'DiffMinRH', 'MinRH_1d',\n",
       "       'DiffRH_0d', 'DiffRH_1d', 'DiffRH_2d', 'MaxDiffRH_2h', 'MaxDiffRH_3h',\n",
       "       'MeanVPD', 'DiffMeanVPD', 'MeanVPD_1d', 'MaxVPD', 'DiffMaxVPD',\n",
       "       'MaxVPD_1d', 'MinVPD', 'DiffMinVPD', 'MinVPD_1d', 'TotalPrecip',\n",
       "       'Precip_1d', 'RainYN', 'MeanDP', 'DiffMeanDP', 'MeanDP_1d', 'MaxDP',\n",
       "       'DiffMaxDP', 'MaxDP_1d', 'MinDP', 'DiffMinDP', 'MinDP_1d'],\n",
       "      dtype='object')"
      ]
     },
     "execution_count": 264,
     "metadata": {},
     "output_type": "execute_result"
    }
   ],
   "source": [
    "asco_trainvalid_nosoil.columns"
   ]
  },
  {
   "cell_type": "markdown",
   "metadata": {},
   "source": [
    "Ok, so there's still one remaining question about the data set before moving forward. What response variable do we want to model? We could use:\n",
    "   - SsMean (raw counts of spores)\n",
    "   - logSs (the logarithm + 1 counts of spores)\n",
    "\n",
    "Because in this analysis we're doing classification, we'll stick with the raw counts, 'SsMean', to establish our threshold cutoffs (discussed more below). However, for regression methods we should probably use the 'logSs' since a few large outliers could greatly affect the analysis.\n",
    "\n",
    "Split the data appropriately:"
   ]
  },
  {
   "cell_type": "code",
   "execution_count": 265,
   "metadata": {},
   "outputs": [],
   "source": [
    "# response variable:\n",
    "y_trainvalid = asco_trainvalid_nosoil['SsMean']\n",
    "y_test = asco_test_nosoil['SsMean']\n",
    "\n",
    "y_trainvalid_log = asco_trainvalid_nosoil['logSsMean']\n",
    "y_test_log = asco_test_nosoil['logSsMean']"
   ]
  },
  {
   "cell_type": "code",
   "execution_count": 266,
   "metadata": {},
   "outputs": [],
   "source": [
    "# the X data sets without soil variables:\n",
    "X_trainvalid = asco_trainvalid_nosoil.drop(['SsMean', 'logSsMean', 'logSs_t1'], axis = 1)\n",
    "X_test = asco_test_nosoil.drop(['SsMean', 'logSsMean', 'logSs_t1'], axis = 1)\n",
    "\n",
    "X_trainvalid_log = asco_trainvalid_nosoil.drop(['SsMean', 'logSsMean', 'SsMean_t1'], axis = 1)\n",
    "X_test_log = asco_test_nosoil.drop(['SsMean', 'logSsMean', 'SsMean_t1'], axis = 1)"
   ]
  },
  {
   "cell_type": "code",
   "execution_count": 267,
   "metadata": {},
   "outputs": [
    {
     "name": "stdout",
     "output_type": "stream",
     "text": [
      "(855, 47)\n",
      "(855, 47)\n",
      "(191, 47)\n",
      "(191, 47)\n"
     ]
    }
   ],
   "source": [
    "print(X_trainvalid.shape)\n",
    "print(X_trainvalid_log.shape)\n",
    "print(X_test.shape)\n",
    "print(X_test_log.shape)"
   ]
  },
  {
   "cell_type": "markdown",
   "metadata": {},
   "source": [
    "Make two data sets: first, make one of the log(no. ascospores) for regression modeling; second, make one of (no. ascospores > x) for classification modeling"
   ]
  },
  {
   "cell_type": "code",
   "execution_count": 268,
   "metadata": {},
   "outputs": [],
   "source": [
    "# data sets for regression modeling:\n",
    "### make data frames for X data sets; export these for use in other programs (R)\n",
    "\n",
    "#X_trainvalid_soil_log_df = pd.DataFrame(X_trainvalid_soil_log)\n",
    "#X_test_soil_log_df = pd.DataFrame(X_test_soil_log)\n",
    "#X_trainvalid_nosoil_log_df = pd.DataFrame(X_trainvalid_nosoil_log)\n",
    "#X_test_nosoil_log_df = pd.DataFrame(X_test_nosoil_log)\n",
    "\n",
    "#X_train_df.columns = new_columns\n",
    "#X_valid_df.columns = new_columns\n",
    "#X_test_df.columns = new_columns\n",
    "\n",
    "#X_trainvalid_soil_log_df.to_csv(\"~/Desktop/Data/Field Data Analysis/Modeling Data Sets from Python/X_trainvalid_soil.csv\")\n",
    "#X_test_soil_log_df.to_csv(\"~/Desktop/Data/Field Data Analysis/Modeling Data Sets from Python/X_test_soil.csv\")\n",
    "#X_trainvalid_nosoil_log_df.to_csv(\"~/Desktop/Data/Field Data Analysis/Modeling Data Sets from Python/X_trainvalid_nosoil.csv\")\n",
    "#X_test_nosoil_log_df.to_csv(\"~/Desktop/Data/Field Data Analysis/Modeling Data Sets from Python/X_test_nosoil.csv\")\n",
    "\n",
    "#y_trainvalid_soil_log.to_csv(\"~/Desktop/Data/Field Data Analysis/Modeling Data Sets from Python/y_trainvalid_soil.csv\")\n",
    "#y_test_soil_log.to_csv(\"~/Desktop/Data/Field Data Analysis/Modeling Data Sets from Python/y_test_soil.csv\")\n",
    "#y_trainvalid_nosoil_log.to_csv(\"~/Desktop/Data/Field Data Analysis/Modeling Data Sets from Python/y_trainvalid_nosoil.csv\")\n",
    "#y_test_nosoil_log.to_csv(\"~/Desktop/Data/Field Data Analysis/Modeling Data Sets from Python/y_test_nosoil.csv\")\n",
    "\n"
   ]
  },
  {
   "cell_type": "markdown",
   "metadata": {},
   "source": [
    "### Thresholds for classification modeling:\n",
    "\n",
    "Aaaaaaaaalright. One of the tricky things about this fungus is that the scientific community doesn't know much about how many spores in the air will lead to disease in the field. As a result, I've decided to try a range of (admittedly arbitrary) cutofs to see whether any of these will be modeled better. This may not translate to biological importance, but at least we'd know we could predict a certain level of spores with some accuracy. I've chosen thresholds of 100, 200, 500, and 1000 spores per day."
   ]
  },
  {
   "cell_type": "code",
   "execution_count": 269,
   "metadata": {},
   "outputs": [],
   "source": [
    "# data sets WITHOUT soil data:\n",
    "### data sets for classification modeling:\n",
    "y100_trainvalid = np.where(y_trainvalid >= 100, 1, 0)\n",
    "y100_test = np.where(y_test >= 100, 1, 0)\n",
    "\n",
    "y200_trainvalid = np.where(y_trainvalid >= 200, 1, 0)\n",
    "y200_test = np.where(y_test >= 200, 1, 0)\n",
    "\n",
    "y500_trainvalid = np.where(y_trainvalid >= 500, 1, 0)\n",
    "y500_test = np.where(y_test >= 500, 1, 0)\n",
    "\n",
    "y1000_trainvalid = np.where(y_trainvalid >= 1000, 1, 0)\n",
    "y1000_test = np.where(y_test >= 1000, 1, 0)"
   ]
  },
  {
   "cell_type": "markdown",
   "metadata": {},
   "source": [
    "And this is probably not ideal practice, but I do want to get a sense of how many 'cases' we have in each of these data sets:"
   ]
  },
  {
   "cell_type": "code",
   "execution_count": 270,
   "metadata": {},
   "outputs": [
    {
     "data": {
      "text/html": [
       "<div>\n",
       "<style scoped>\n",
       "    .dataframe tbody tr th:only-of-type {\n",
       "        vertical-align: middle;\n",
       "    }\n",
       "\n",
       "    .dataframe tbody tr th {\n",
       "        vertical-align: top;\n",
       "    }\n",
       "\n",
       "    .dataframe thead th {\n",
       "        text-align: right;\n",
       "    }\n",
       "</style>\n",
       "<table border=\"1\" class=\"dataframe\">\n",
       "  <thead>\n",
       "    <tr style=\"text-align: right;\">\n",
       "      <th></th>\n",
       "      <th>Proportion of Ones</th>\n",
       "    </tr>\n",
       "  </thead>\n",
       "  <tbody>\n",
       "    <tr>\n",
       "      <th>y100_trainvalid_nosoil</th>\n",
       "      <td>0.753216</td>\n",
       "    </tr>\n",
       "    <tr>\n",
       "      <th>y100_test_nosoil</th>\n",
       "      <td>0.612565</td>\n",
       "    </tr>\n",
       "    <tr>\n",
       "      <th>y200_trainvalid_nosoil</th>\n",
       "      <td>0.618713</td>\n",
       "    </tr>\n",
       "    <tr>\n",
       "      <th>y200_test_nosoil</th>\n",
       "      <td>0.455497</td>\n",
       "    </tr>\n",
       "    <tr>\n",
       "      <th>y500_trainvalid_nosoil</th>\n",
       "      <td>0.403509</td>\n",
       "    </tr>\n",
       "    <tr>\n",
       "      <th>y500_test_nosoil</th>\n",
       "      <td>0.287958</td>\n",
       "    </tr>\n",
       "    <tr>\n",
       "      <th>y1000_trainvalid_nosoil</th>\n",
       "      <td>0.249123</td>\n",
       "    </tr>\n",
       "    <tr>\n",
       "      <th>y1000_test_nosoil</th>\n",
       "      <td>0.225131</td>\n",
       "    </tr>\n",
       "  </tbody>\n",
       "</table>\n",
       "</div>"
      ],
      "text/plain": [
       "                         Proportion of Ones\n",
       "y100_trainvalid_nosoil             0.753216\n",
       "y100_test_nosoil                   0.612565\n",
       "y200_trainvalid_nosoil             0.618713\n",
       "y200_test_nosoil                   0.455497\n",
       "y500_trainvalid_nosoil             0.403509\n",
       "y500_test_nosoil                   0.287958\n",
       "y1000_trainvalid_nosoil            0.249123\n",
       "y1000_test_nosoil                  0.225131"
      ]
     },
     "execution_count": 270,
     "metadata": {},
     "output_type": "execute_result"
    }
   ],
   "source": [
    "all_y = [y100_trainvalid, y100_test,\n",
    "         y200_trainvalid, y200_test,\n",
    "         y500_trainvalid, y500_test,\n",
    "         y1000_trainvalid, y1000_test]\n",
    "\n",
    "y_means = []\n",
    "for y in all_y: \n",
    "    y_means.append(y.mean())\n",
    "\n",
    "y_names = ['y100_trainvalid_nosoil', 'y100_test_nosoil',\n",
    "           'y200_trainvalid_nosoil', 'y200_test_nosoil', \n",
    "           'y500_trainvalid_nosoil', 'y500_test_nosoil',\n",
    "           'y1000_trainvalid_nosoil', 'y1000_test_nosoil']\n",
    "\n",
    "y_df = pd.DataFrame(data=y_means, index=y_names, columns=[\"Proportion of Ones\"])\n",
    "y_df"
   ]
  },
  {
   "cell_type": "code",
   "execution_count": 271,
   "metadata": {},
   "outputs": [],
   "source": [
    "### Saving the test sets for use in R, or other programs:\n",
    "## y_names defined above\n",
    "#y_names = [#'y100_trainvalid_soil', 'y100_test_soil',\n",
    "#           #'y200_trainvalid_soil', 'y200_test_soil', \n",
    "#           #'y500_trainvalid_soil', 'y500_test_soil',\n",
    "#           #'y1000_trainvalid_soil', 'y1000_test_soil',\n",
    "#           'y100_trainvalid_nosoil', 'y100_test_nosoil',\n",
    "#           'y200_trainvalid_nosoil', 'y200_test_nosoil', \n",
    "#           'y500_trainvalid_nosoil', 'y500_test_nosoil',\n",
    "#           'y1000_trainvalid_nosoil', 'y1000_test_nosoil']\n",
    "\n",
    "#y_data = [#y100_trainvalid_soil, y100_test_soil,\n",
    "#         #y200_trainvalid_soil, y200_test_soil,\n",
    "#         #y500_trainvalid_soil, y500_test_soil,\n",
    "#         #y1000_trainvalid_soil, y1000_test_soil,\n",
    "#         y100_trainvalid_nosoil, y100_test_nosoil,\n",
    "#         y200_trainvalid_nosoil, y200_test_nosoil,\n",
    "#         y500_trainvalid_nosoil, y500_test_nosoil,\n",
    "#         y1000_trainvalid_nosoil, y1000_test_nosoil]\n",
    "#file_path = \"~/Desktop/Data/Field Data Analysis/Modeling Data Sets from Python/\"\n",
    "\n",
    "#for i in np.arange(0, len(y_data)):\n",
    "#    to_save = pd.DataFrame(list(y_data[i]))\n",
    "#    to_save.to_csv(file_path + y_names[i] + \".csv\")"
   ]
  },
  {
   "cell_type": "markdown",
   "metadata": {},
   "source": [
    "# Variable Selection Methods:\n",
    "\n",
    "Which set of variables to use for modeling is not necessarily clear. Below, I've included a range of options, but in order to get variables selected by LASSO, we need to run that model first:"
   ]
  },
  {
   "cell_type": "markdown",
   "metadata": {},
   "source": [
    "### LASSO regression for variable selection:"
   ]
  },
  {
   "cell_type": "code",
   "execution_count": 272,
   "metadata": {},
   "outputs": [
    {
     "name": "stdout",
     "output_type": "stream",
     "text": [
      "Index(['week', 'month', 'logSs_t1', 'MeanTemp', 'DiffMeanT', 'MeanT_1d',\n",
      "       'MaxTemp', 'DiffMaxT', 'MaxT_1d', 'MinTemp', 'DiffMinT', 'MinT_1d',\n",
      "       'MeanRH', 'DiffMeanRH', 'MeanRH_1d', 'MaxRH', 'DiffMaxRH', 'MaxRH_1d',\n",
      "       'MinRH', 'DiffMinRH', 'MinRH_1d', 'DiffRH_0d', 'DiffRH_1d', 'DiffRH_2d',\n",
      "       'MaxDiffRH_2h', 'MaxDiffRH_3h', 'MeanVPD', 'DiffMeanVPD', 'MeanVPD_1d',\n",
      "       'MaxVPD', 'DiffMaxVPD', 'MaxVPD_1d', 'MinVPD', 'DiffMinVPD',\n",
      "       'MinVPD_1d', 'TotalPrecip', 'Precip_1d', 'RainYN', 'MeanDP',\n",
      "       'DiffMeanDP', 'MeanDP_1d', 'MaxDP', 'DiffMaxDP', 'MaxDP_1d', 'MinDP',\n",
      "       'DiffMinDP', 'MinDP_1d'],\n",
      "      dtype='object')\n"
     ]
    }
   ],
   "source": [
    "# see what columns we have to consider:\n",
    "print(X_trainvalid_log.columns)"
   ]
  },
  {
   "cell_type": "markdown",
   "metadata": {},
   "source": [
    "For all models we'll be using pipelines. We'll need to separate numeric and categorical features."
   ]
  },
  {
   "cell_type": "code",
   "execution_count": 273,
   "metadata": {},
   "outputs": [],
   "source": [
    "numeric_features = ['logSs_t1', 'MeanTemp', 'DiffMeanT', 'MeanT_1d',\n",
    "       'MaxTemp', 'DiffMaxT', 'MaxT_1d', 'MinTemp', 'DiffMinT', 'MinT_1d',\n",
    "       'MeanRH', 'DiffMeanRH', 'MeanRH_1d', 'MaxRH', 'DiffMaxRH', 'MaxRH_1d',\n",
    "       'MinRH', 'DiffMinRH', 'MinRH_1d', 'DiffRH_0d', 'DiffRH_1d', 'DiffRH_2d',\n",
    "       'MaxDiffRH_2h', 'MaxDiffRH_3h', 'MeanVPD', 'DiffMeanVPD', 'MeanVPD_1d',\n",
    "       'MaxVPD', 'DiffMaxVPD', 'MaxVPD_1d', 'MinVPD', 'DiffMinVPD',\n",
    "       'MinVPD_1d', 'TotalPrecip', 'Precip_1d', 'MeanDP', 'DiffMeanDP',\n",
    "       'MeanDP_1d', 'MaxDP', 'DiffMaxDP', 'MaxDP_1d', 'MinDP', 'DiffMinDP',\n",
    "       'MinDP_1d']\n",
    "\n",
    "# this variable set could be used to explore the differences in outcomes for\n",
    "#    removing spore data from the analysis:\n",
    "#numeric_feat_noasco = ['MeanTemp', 'DiffMeanT', 'MeanT_1d',\n",
    "#       'MaxTemp', 'DiffMaxT', 'MaxT_1d', 'MinTemp', 'DiffMinT', 'MinT_1d',\n",
    "#       'MeanRH', 'DiffMeanRH', 'MeanRH_1d', 'MaxRH', 'DiffMaxRH', 'MaxRH_1d',\n",
    "#       'MinRH', 'DiffMinRH', 'MinRH_1d', 'DiffRH_0d', 'DiffRH_1d', 'DiffRH_2d',\n",
    "#       'MaxDiffRH_2h', 'MaxDiffRH_3h', 'MeanVPD', 'DiffMeanVPD', 'MeanVPD_1d',\n",
    "#       'MaxVPD', 'DiffMaxVPD', 'MaxVPD_1d', 'MinVPD', 'DiffMinVPD',\n",
    "#       'MinVPD_1d', 'TotalPrecip', 'Precip_1d', 'MeanDP', 'DiffMeanDP',\n",
    "#       'MeanDP_1d', 'MaxDP', 'DiffMaxDP', 'MaxDP_1d', 'MinDP', 'DiffMinDP',\n",
    "#       'MinDP_1d']\n",
    "\n",
    "categorical_features = [#'week', 'month', \n",
    "    'RainYN']\n",
    "\n",
    "drop_features = ['logSs_t1']"
   ]
  },
  {
   "cell_type": "markdown",
   "metadata": {},
   "source": [
    "... and then make transformers to handle missing data for (i) numeric data and (ii) categorical data:"
   ]
  },
  {
   "cell_type": "code",
   "execution_count": 274,
   "metadata": {},
   "outputs": [],
   "source": [
    "# create numeric transformer\n",
    "numeric_transformer = Pipeline([\n",
    "    ('imputer', IterativeImputer()),\n",
    "    ('scaler', StandardScaler())\n",
    "])"
   ]
  },
  {
   "cell_type": "code",
   "execution_count": 275,
   "metadata": {},
   "outputs": [],
   "source": [
    "# create categorical transformer\n",
    "categorical_transformer = Pipeline([\n",
    "    ('imputer', SimpleImputer(strategy = 'most_frequent')),\n",
    "    ('onehot', OneHotEncoder(sparse=False, handle_unknown='error', drop = 'first'))\n",
    "])"
   ]
  },
  {
   "cell_type": "markdown",
   "metadata": {},
   "source": [
    "Then we can make a preprocessor to hold these transformers:"
   ]
  },
  {
   "cell_type": "code",
   "execution_count": 276,
   "metadata": {},
   "outputs": [],
   "source": [
    "# create preprocessor\n",
    "preprocessor = ColumnTransformer([\n",
    "    ('numeric', numeric_transformer, numeric_feat_nosoil),\n",
    "    ('categorical', categorical_transformer, categorical_features)\n",
    "])"
   ]
  },
  {
   "cell_type": "markdown",
   "metadata": {},
   "source": [
    "Fit the preprocessor and get feature names:"
   ]
  },
  {
   "cell_type": "code",
   "execution_count": 277,
   "metadata": {},
   "outputs": [],
   "source": [
    "preprocessor.fit(X_trainvalid_log);"
   ]
  },
  {
   "cell_type": "code",
   "execution_count": 278,
   "metadata": {},
   "outputs": [],
   "source": [
    "ohe = preprocessor.named_transformers_['categorical'].named_steps['onehot']\n",
    "ohe_feature_names = list(ohe.get_feature_names_out(categorical_features))\n",
    "new_columns = numeric_feat_nosoil + ohe_feature_names\n",
    "new_columns;"
   ]
  },
  {
   "cell_type": "code",
   "execution_count": 279,
   "metadata": {},
   "outputs": [],
   "source": [
    "# make data frame of the transformed features:\n",
    "X_trainvalid = pd.DataFrame(preprocessor.transform(X_trainvalid_log),  index=X_trainvalid_log.index, \n",
    "                            columns=new_columns)\n",
    "X_test = pd.DataFrame(preprocessor.transform(X_test_log),  index=X_test_log.index,  columns=new_columns)"
   ]
  },
  {
   "cell_type": "markdown",
   "metadata": {},
   "source": [
    "Run LASSO on the data set:"
   ]
  },
  {
   "cell_type": "code",
   "execution_count": 280,
   "metadata": {},
   "outputs": [],
   "source": [
    "# LASSO feature selection - need scaled features\n",
    "# ONE OPTION FOR DOING THIS BELOW: which uses the log(no. spores) to model, rather than different thresholds;\n",
    "#       the problem with using different thresholds is that then you end up with 4 sets of selected variables\n",
    "#       (but this code is still there, just commented out)\n",
    "\n",
    "# Lasso:\n",
    "larcv = LassoCV(n_alphas=100, cv = 10, max_iter = 10000) \n",
    "\n",
    "y_data_sets = [y100_trainvalid, y200_trainvalid, y500_trainvalid, y1000_trainvalid]\n",
    "#y_data_sets = [ylog_all, y100_all, y200_all, y500_all, y1000_all]\n",
    "#y_data_sets = [y_trainvalid_nosoil_log]\n",
    "larcv_coefs = pd.DataFrame(index = X_trainvalid.columns)\n",
    "\n",
    "# a for loop to perform all fits at once - this is more useful if we're wanting to use multiple data sets\n",
    "#    (i.e. if we were to use each of the different threshold data sets):\n",
    "for y in y_data_sets:\n",
    "    larcv.fit(X_trainvalid, y)\n",
    "    # save coefficients in a data frame:\n",
    "    larcv_ycoefs = pd.DataFrame(data=abs(larcv.coef_), index=X_trainvalid.columns)\n",
    "    \n",
    "    larcv_coefs = pd.concat([larcv_coefs, larcv_ycoefs], axis=1)\n",
    "    \n",
    "# return the data frame:\n",
    "larcv_coefs.columns = ['y100', 'y200', 'y500', 'y1000']\n",
    "#larcv_coefs.columns = ['logSs']"
   ]
  },
  {
   "cell_type": "code",
   "execution_count": 281,
   "metadata": {
    "scrolled": true
   },
   "outputs": [
    {
     "data": {
      "text/html": [
       "<div>\n",
       "<style scoped>\n",
       "    .dataframe tbody tr th:only-of-type {\n",
       "        vertical-align: middle;\n",
       "    }\n",
       "\n",
       "    .dataframe tbody tr th {\n",
       "        vertical-align: top;\n",
       "    }\n",
       "\n",
       "    .dataframe thead th {\n",
       "        text-align: right;\n",
       "    }\n",
       "</style>\n",
       "<table border=\"1\" class=\"dataframe\">\n",
       "  <thead>\n",
       "    <tr style=\"text-align: right;\">\n",
       "      <th></th>\n",
       "      <th>y100</th>\n",
       "      <th>y200</th>\n",
       "      <th>y500</th>\n",
       "      <th>y1000</th>\n",
       "    </tr>\n",
       "  </thead>\n",
       "  <tbody>\n",
       "    <tr>\n",
       "      <th>logSs_t1</th>\n",
       "      <td>0.128645</td>\n",
       "      <td>0.155954</td>\n",
       "      <td>0.181878</td>\n",
       "      <td>0.14188</td>\n",
       "    </tr>\n",
       "    <tr>\n",
       "      <th>MaxDP</th>\n",
       "      <td>0.030314</td>\n",
       "      <td>0.032695</td>\n",
       "      <td>0.000000</td>\n",
       "      <td>0.00000</td>\n",
       "    </tr>\n",
       "    <tr>\n",
       "      <th>TotalPrecip</th>\n",
       "      <td>0.025243</td>\n",
       "      <td>0.019006</td>\n",
       "      <td>0.000000</td>\n",
       "      <td>0.00000</td>\n",
       "    </tr>\n",
       "    <tr>\n",
       "      <th>MinDP</th>\n",
       "      <td>0.020043</td>\n",
       "      <td>0.000000</td>\n",
       "      <td>0.000000</td>\n",
       "      <td>0.00000</td>\n",
       "    </tr>\n",
       "    <tr>\n",
       "      <th>MeanVPD</th>\n",
       "      <td>0.018440</td>\n",
       "      <td>0.000000</td>\n",
       "      <td>0.000000</td>\n",
       "      <td>0.00000</td>\n",
       "    </tr>\n",
       "    <tr>\n",
       "      <th>MeanVPD_1d</th>\n",
       "      <td>0.017325</td>\n",
       "      <td>0.031180</td>\n",
       "      <td>0.001569</td>\n",
       "      <td>0.00000</td>\n",
       "    </tr>\n",
       "    <tr>\n",
       "      <th>MaxTemp</th>\n",
       "      <td>0.009257</td>\n",
       "      <td>0.000000</td>\n",
       "      <td>0.003817</td>\n",
       "      <td>0.00000</td>\n",
       "    </tr>\n",
       "    <tr>\n",
       "      <th>MaxDiffRH_2h</th>\n",
       "      <td>0.004292</td>\n",
       "      <td>0.000000</td>\n",
       "      <td>0.000000</td>\n",
       "      <td>0.00000</td>\n",
       "    </tr>\n",
       "    <tr>\n",
       "      <th>MinDP_1d</th>\n",
       "      <td>0.003667</td>\n",
       "      <td>0.000000</td>\n",
       "      <td>0.000000</td>\n",
       "      <td>0.00000</td>\n",
       "    </tr>\n",
       "    <tr>\n",
       "      <th>MaxDP_1d</th>\n",
       "      <td>0.001350</td>\n",
       "      <td>0.000000</td>\n",
       "      <td>0.000000</td>\n",
       "      <td>0.00000</td>\n",
       "    </tr>\n",
       "    <tr>\n",
       "      <th>MaxDiffRH_3h</th>\n",
       "      <td>0.000828</td>\n",
       "      <td>0.000000</td>\n",
       "      <td>0.000000</td>\n",
       "      <td>0.00000</td>\n",
       "    </tr>\n",
       "    <tr>\n",
       "      <th>MeanTemp</th>\n",
       "      <td>0.000000</td>\n",
       "      <td>0.020868</td>\n",
       "      <td>0.001590</td>\n",
       "      <td>0.00000</td>\n",
       "    </tr>\n",
       "    <tr>\n",
       "      <th>DiffRH_0d</th>\n",
       "      <td>0.000000</td>\n",
       "      <td>0.004353</td>\n",
       "      <td>0.000000</td>\n",
       "      <td>0.00000</td>\n",
       "    </tr>\n",
       "    <tr>\n",
       "      <th>DiffMinRH</th>\n",
       "      <td>0.000000</td>\n",
       "      <td>0.006333</td>\n",
       "      <td>0.000000</td>\n",
       "      <td>0.00000</td>\n",
       "    </tr>\n",
       "    <tr>\n",
       "      <th>MeanRH</th>\n",
       "      <td>0.000000</td>\n",
       "      <td>0.035405</td>\n",
       "      <td>0.019537</td>\n",
       "      <td>0.00000</td>\n",
       "    </tr>\n",
       "    <tr>\n",
       "      <th>MinT_1d</th>\n",
       "      <td>0.000000</td>\n",
       "      <td>0.002384</td>\n",
       "      <td>0.000000</td>\n",
       "      <td>0.00000</td>\n",
       "    </tr>\n",
       "    <tr>\n",
       "      <th>MinTemp</th>\n",
       "      <td>0.000000</td>\n",
       "      <td>0.040523</td>\n",
       "      <td>0.000000</td>\n",
       "      <td>0.00000</td>\n",
       "    </tr>\n",
       "  </tbody>\n",
       "</table>\n",
       "</div>"
      ],
      "text/plain": [
       "                  y100      y200      y500    y1000\n",
       "logSs_t1      0.128645  0.155954  0.181878  0.14188\n",
       "MaxDP         0.030314  0.032695  0.000000  0.00000\n",
       "TotalPrecip   0.025243  0.019006  0.000000  0.00000\n",
       "MinDP         0.020043  0.000000  0.000000  0.00000\n",
       "MeanVPD       0.018440  0.000000  0.000000  0.00000\n",
       "MeanVPD_1d    0.017325  0.031180  0.001569  0.00000\n",
       "MaxTemp       0.009257  0.000000  0.003817  0.00000\n",
       "MaxDiffRH_2h  0.004292  0.000000  0.000000  0.00000\n",
       "MinDP_1d      0.003667  0.000000  0.000000  0.00000\n",
       "MaxDP_1d      0.001350  0.000000  0.000000  0.00000\n",
       "MaxDiffRH_3h  0.000828  0.000000  0.000000  0.00000\n",
       "MeanTemp      0.000000  0.020868  0.001590  0.00000\n",
       "DiffRH_0d     0.000000  0.004353  0.000000  0.00000\n",
       "DiffMinRH     0.000000  0.006333  0.000000  0.00000\n",
       "MeanRH        0.000000  0.035405  0.019537  0.00000\n",
       "MinT_1d       0.000000  0.002384  0.000000  0.00000\n",
       "MinTemp       0.000000  0.040523  0.000000  0.00000"
      ]
     },
     "execution_count": 281,
     "metadata": {},
     "output_type": "execute_result"
    }
   ],
   "source": [
    "# display results; remove variables that weren't selected in any of the models (i.e. their coefficient = 0)\n",
    "lasso_nosoil_log = larcv_coefs[(larcv_coefs.T > 1e-6).any()].sort_values(by='y100', ascending=False)\n",
    "lasso_nosoil_log_names = list(lasso_nosoil_log.index)\n",
    "lasso_nosoil_log"
   ]
  },
  {
   "cell_type": "markdown",
   "metadata": {},
   "source": [
    "N.B.: Here, we see that 'logSs_t1' is the most important predictor for all thresholds - this variable represents the number of spores from the previous day (i.e. temporal autocorrelation). I should note that I also did extensive EDA both including and excluding this variable; all models that did not include this variable were not very good, so I've kept it in for this analysis. (Spoiler alert, but this variable seems to be the most important across all models and methods.) We also see that every threshold will have a different set of variables, which we'll make sure to address when we do our modeling."
   ]
  },
  {
   "cell_type": "markdown",
   "metadata": {},
   "source": [
    "## Variable Data Sets:\n",
    "\n",
    "So I've got 8 different variable sets that I'll want to compare for the modeling:"
   ]
  },
  {
   "cell_type": "code",
   "execution_count": 282,
   "metadata": {},
   "outputs": [],
   "source": [
    "## Variable selection sets:\n",
    "# all the variables I have\n",
    "features_all = ['logSsMean_t1', 'MeanTemp', 'DiffMeanT', 'MeanT_1d', 'MaxTemp', 'DiffMaxT',\n",
    "                'MaxT_1d', 'MinTemp', 'DiffMinT', 'MinT_1d', 'MeanRH', 'DiffMeanRH',\n",
    "                'MeanRH_1d', 'MaxRH', 'DiffMaxRH', 'MaxRH_1d', 'MinRH', 'DiffMinRH',\n",
    "                'MinRH_1d', 'DiffRH_0d', 'DiffRH_1d', 'DiffRH_2d', 'MaxDiffRH_2h',\n",
    "                'MaxDiffRH_3h', 'MeanVPD', 'DiffMeanVPD', 'MeanVPD_1d', 'MaxVPD',\n",
    "                'DiffMaxVPD', 'MaxVPD_1d', 'MinVPD', 'DiffMinVPD', 'TotalPrecip',\n",
    "                'Precip_1d', 'RainYN', 'MaxRain', 'MinRain', 'MeanWC', 'DiffMeanWC',\n",
    "                'MeanWC_1d', 'MaxWC', 'DiffMaxWC', 'MaxWC_1d', 'MinWC', 'DiffMinWC',\n",
    "                'MinWC_1d', 'MeanDP', 'DiffMeanDP', 'MeanDP_1d', 'MaxDP', 'DiffMaxDP',\n",
    "                'MaxDP_1d', 'MinDP', 'DiffMinDP', 'MinDP_1d', 'MeanSoilTemp',\n",
    "                'DiffMeanSoilT', 'MeanSoilT_1d', 'MaxSoilTemp', 'DiffMaxSoilT',\n",
    "                'MaxSoilT_1d', 'MinSoilTemp', 'DiffMinSoilT', 'MinSoilT_1d']\n",
    "\n",
    "# features selected by LASSO (above)\n",
    "# this set of variables depends on what the response variable is - i.e. where I set the threshold or whether I use \n",
    "#   a continuous response variable. So we'll deal with this separately for each model for now.\n",
    "features_lasso = []\n",
    "\n",
    "# features identified as having a low variance inflation (this analysis was performed in a separate file):\n",
    "features_VIF = [\"logSs_t1\", \"DiffMinT\", \"MinT_1d\", \"DiffMeanRH\", \"MaxRH_1d\",    \n",
    "                \"DiffRH_0d\", \"DiffRH_1d\", \"DiffRH_2d\", \"MaxDiffRH_2h\", \"DiffMaxVPD\",  \n",
    "                \"MaxVPD_1d\", \"TotalPrecip\", \"Precip_1d\", \"RainYN\", \"DiffMaxDP\",   \n",
    "                \"MaxDP_1d\", \"DiffMinDP\"]\n",
    "\n",
    "# features that are commonly related to apothecia development and ascospore release\n",
    "features_biology = [\"logSsMean_t1\", \"MaxTemp\", \"MeanRH\", \"Precip_1d\"]\n",
    "\n",
    "# features determined as having low correlation (r < |0.7|) with any other variable - similar to \n",
    "#   variables selected by VIF methods\n",
    "features_no_correlation = [\"logSs_t1\", \"MeanTemp\", \"DiffMeanT\", \"MeanT_1d\", \"MinTemp\",     \n",
    "                            \"DiffMinT\", \"MinT_1d\", \"MeanRH\", \"DiffMeanRH\", \"MeanRH_1d\",   \n",
    "                            \"DiffRH_0d\", \"DiffRH_1d\", \"DiffRH_2d\", \"MaxDiffRH_2h\", \"MaxDiffRH_3h\",\n",
    "                            \"MinVPD\", \"TotalPrecip\", \"Precip_1d\", \"RainYN\", \"MeanDP\",      \n",
    "                            \"DiffMeanDP\", \"MeanDP_1d\"]\n",
    "\n",
    "# features that are variables summarised on the same day as spore release\n",
    "features_same_day = ['MeanWetness', 'MaxWetness', 'MinWetness', 'MeanTemp', 'MaxTemp', 'MinTemp',\n",
    "                     'MeanRH', 'MaxRH', 'MinRH', 'MeanVPD', 'MaxVPD', 'MinVPD', 'TotalPrecip',\n",
    "                     'RainYN', 'MeanWC', 'MaxWC', 'MinWC', 'MeanDP', 'MaxDP', 'MinDP',\n",
    "                     'MeanSoilTemp', 'MaxSoilTemp', 'MinSoilTemp']\n",
    "\n",
    "# features that are variables summarised on the previous day as spore release\n",
    "features_previous_day = ['logSsMean_t1', 'MeanWet_1d', 'MaxWet_1d', 'MinWet_1d', 'MeanT_1d', 'MaxT_1d', 'MinT_1d',\n",
    "                        'MeanRH_1d', 'MaxRH_1d', 'MinRH_1d', 'DiffRH_1d', 'MeanVPD_1d', \n",
    "                        'MaxVPD_1d', 'Precip_1d', 'MeanWC_1d', 'MaxWC_1d', 'MinWC_1d', 'MeanDP_1d',\n",
    "                        'MaxDP_1d', 'MinDP_1d', 'MeanSoilT_1d', 'MaxSoilT_1d', 'MinSoilT_1d']\n",
    "\n",
    "# features that are variables summarised as differences between the day of spore release\n",
    "#   and the day previous\n",
    "features_differences = ['DiffMeanT', 'DiffMaxT', 'DiffMinT',\n",
    "                        'DiffMeanRH', 'DiffMaxRH', 'DiffMinRH', 'DiffRH_0d', 'DiffRH_1d', 'DiffRH_2d',\n",
    "                        'MaxDiffRH_2h', 'MaxDiffRH_3h', 'DiffMeanVPD', 'DiffMaxVPD', 'DiffMinVPD', \n",
    "                        'DiffMeanWC', 'DiffMaxWC', 'DiffMinWC', 'DiffMeanDP', 'DiffMaxDP', 'DiffMinDP',\n",
    "                        'DiffMeanSoilT', 'DiffMaxSoilT', 'DiffMinSoilT']"
   ]
  },
  {
   "cell_type": "code",
   "execution_count": 283,
   "metadata": {},
   "outputs": [],
   "source": [
    "feature_sets = [features_all, features_lasso, features_VIF, features_biology, features_no_correlation,\n",
    "               features_same_day, features_previous_day, features_differences]\n",
    "feature_set_names = ['features_all', 'features_lasso', 'features_VIF', 'features_biology', 'features_no_correlation',\n",
    "                     'features_same_day', 'features_previous_day', 'features_differences']"
   ]
  },
  {
   "cell_type": "markdown",
   "metadata": {},
   "source": [
    "# Classification Algorithms\n",
    "\n",
    "I have also perfermed regression analyses in a separate file. For now, we'll focus on classification methods using:\n",
    "- random forests\n",
    "- logistic regression\n",
    "- support vector machines"
   ]
  },
  {
   "cell_type": "markdown",
   "metadata": {},
   "source": [
    "## Random Forest Classifier:"
   ]
  },
  {
   "cell_type": "markdown",
   "metadata": {},
   "source": [
    "Here I've written a `for` loop to perform a random forests analysis (hyperparameters determined by `RandomizedSearchCV()`) for the y100 data set. The code performs 7 sets of analysis (one for each subset of features, I decided to leave out the 'biology' one since it performed extremely poorly in trials), and is repeated below for each threshold (100, 200, 500, 1000). There's a lot of redundancy in the code at this point since the pipeline is run separately for each threshold. This code could be compressed into one large loop, the main drawback with that is that I've been running this on my laptop and each loop can take up to 30 min to complete. "
   ]
  },
  {
   "cell_type": "markdown",
   "metadata": {},
   "source": [
    "N.B.: I need to update my 'feature_sets' list with the different LASSO feature selections for each of the thresholds I've chosen. So I'll do this before each run of this loop:"
   ]
  },
  {
   "cell_type": "code",
   "execution_count": 284,
   "metadata": {},
   "outputs": [],
   "source": [
    "# this set of variables depends on what the response variable is - i.e. where I set the threshold or whether I use \n",
    "#   a continuous response variable. So... for now I'll stick with the continuous response variable \n",
    "#   (ylog_all = log(SsMean +1))\n",
    "\n",
    "features_lasso = list(larcv_coefs[larcv_coefs['y100'] > 1e-6].index.values)\n",
    "\n",
    "feature_sets = [features_all, features_lasso, features_VIF, features_no_correlation,\n",
    "               features_same_day, features_previous_day, features_differences]\n",
    "feature_set_names = ['features_all', 'features_lasso', 'features_VIF', 'features_no_correlation',\n",
    "                     'features_same_day', 'features_previous_day', 'features_differences']"
   ]
  },
  {
   "cell_type": "code",
   "execution_count": 285,
   "metadata": {},
   "outputs": [
    {
     "name": "stdout",
     "output_type": "stream",
     "text": [
      "Fitting 5 folds for each of 30 candidates, totalling 150 fits\n",
      "Fitting 5 folds for each of 30 candidates, totalling 150 fits\n",
      "Fitting 5 folds for each of 30 candidates, totalling 150 fits\n",
      "Fitting 5 folds for each of 30 candidates, totalling 150 fits\n",
      "Fitting 5 folds for each of 30 candidates, totalling 150 fits\n",
      "Fitting 5 folds for each of 30 candidates, totalling 150 fits\n",
      "Fitting 5 folds for each of 30 candidates, totalling 150 fits\n"
     ]
    }
   ],
   "source": [
    "# threshold = 100 spores per day\n",
    "# suppress warnings\n",
    "warnings.simplefilter(\"ignore\")\n",
    "#os.environ[\"PYTHONWARNINGS\"] = \"ignore\"\n",
    "\n",
    "y100_auc_test_scores = []\n",
    "y100_rf_models = []\n",
    "y100_rf_objects = []\n",
    "\n",
    "## NB: data sets called in this loop have not been preprocessed - doing so is part of the pipeline/program\n",
    "for features in feature_sets:\n",
    "    # create numeric and categorical feature lists for pipeline - these are based on the selected ones from\n",
    "    #     above\n",
    "    num_features = [i for i in features if i in numeric_features] # some function to select numeric features\n",
    "    cat_features = [i for i in features if i in categorical_features] # if this is a blank list, I believe that's fine\n",
    "    \n",
    "    # create preprocessor\n",
    "    numeric_transformer = Pipeline([\n",
    "        ('scaler', StandardScaler()),\n",
    "        ('imputer', IterativeImputer(sample_posterior = False, \n",
    "                                     max_iter = 500, random_state = 356))\n",
    "    ])\n",
    "    \n",
    "    #if len(cat_features) > 0:   # check if cat_features is empty, as this may cause problems in the pipeline\n",
    "    categorical_transformer = Pipeline([\n",
    "        ('imputer', SimpleImputer(strategy='most_frequent')),\n",
    "        ('onehot', OneHotEncoder(sparse=False, handle_unknown='ignore', \n",
    "                                 drop = 'first'))\n",
    "     ])\n",
    "    \n",
    "    preprocessor = ColumnTransformer([\n",
    "        ('numeric', numeric_transformer, num_features),\n",
    "        ('categorical', categorical_transformer, cat_features)\n",
    "    ])\n",
    "    \n",
    "    # create rf pipeline\n",
    "    rf_pipeline = Pipeline([\n",
    "        ('preprocessor', preprocessor),\n",
    "        ('model', RandomForestClassifier(random_state = 545))\n",
    "    ])\n",
    "    # create param_dist dict\n",
    "    param_dist = {\n",
    "        'model__n_estimators'     : scipy.stats.randint(low=10, high=100),\n",
    "        'model__max_depth'        : scipy.stats.randint(low=3, high=10),\n",
    "        'model__class_weight'     : (None, \"balanced\")\n",
    "    }\n",
    "\n",
    "    # create randomized search CV\n",
    "    random_search_auc = RandomizedSearchCV(rf_pipeline,\n",
    "                                     param_distributions= param_dist,\n",
    "                                     n_iter = 30,\n",
    "                                     cv = 5,\n",
    "                                     scoring = 'roc_auc', # maximize the auc score (ways to do multiple criteria)\n",
    "                                     verbose = 1,\n",
    "                                     random_state = 454)\n",
    "    \n",
    "    # obtain AUC values from each of the models\n",
    "    random_search_auc.fit(X_trainvalid_log, y100_trainvalid) \n",
    "    auc_score = ()\n",
    "    \n",
    "    preds = random_search_auc.best_estimator_.predict_proba(X_test_log)\n",
    "    \n",
    "    auc_score = roc_auc_score(y100_test, preds[:,1])\n",
    "    y100_auc_test_scores.append(auc_score)\n",
    "    \n",
    "    # save models in a dict\n",
    "    model = ()\n",
    "    model = random_search_auc.best_estimator_.steps[1][1]\n",
    "    y100_rf_models.append(model)\n",
    "    \n",
    "    y100_rf_objects.append(random_search_auc.best_estimator_)\n",
    "\n",
    "    y100_auc_test_scores\n",
    "    y100_rf_models\n",
    "    "
   ]
  },
  {
   "cell_type": "code",
   "execution_count": 286,
   "metadata": {},
   "outputs": [],
   "source": [
    "y100_rf_results = y100_auc_test_scores.copy()\n",
    "y100_rf_models = y100_rf_objects.copy()"
   ]
  },
  {
   "cell_type": "code",
   "execution_count": 287,
   "metadata": {},
   "outputs": [
    {
     "data": {
      "text/html": [
       "<div>\n",
       "<style scoped>\n",
       "    .dataframe tbody tr th:only-of-type {\n",
       "        vertical-align: middle;\n",
       "    }\n",
       "\n",
       "    .dataframe tbody tr th {\n",
       "        vertical-align: top;\n",
       "    }\n",
       "\n",
       "    .dataframe thead th {\n",
       "        text-align: right;\n",
       "    }\n",
       "</style>\n",
       "<table border=\"1\" class=\"dataframe\">\n",
       "  <thead>\n",
       "    <tr style=\"text-align: right;\">\n",
       "      <th></th>\n",
       "      <th>y100</th>\n",
       "    </tr>\n",
       "  </thead>\n",
       "  <tbody>\n",
       "    <tr>\n",
       "      <th>features_all</th>\n",
       "      <td>0.582583</td>\n",
       "    </tr>\n",
       "    <tr>\n",
       "      <th>features_lasso</th>\n",
       "      <td>0.675791</td>\n",
       "    </tr>\n",
       "    <tr>\n",
       "      <th>features_VIF</th>\n",
       "      <td>0.702934</td>\n",
       "    </tr>\n",
       "    <tr>\n",
       "      <th>features_no_correlation</th>\n",
       "      <td>0.694733</td>\n",
       "    </tr>\n",
       "    <tr>\n",
       "      <th>features_same_day</th>\n",
       "      <td>0.528991</td>\n",
       "    </tr>\n",
       "    <tr>\n",
       "      <th>features_previous_day</th>\n",
       "      <td>0.506699</td>\n",
       "    </tr>\n",
       "    <tr>\n",
       "      <th>features_differences</th>\n",
       "      <td>0.598868</td>\n",
       "    </tr>\n",
       "  </tbody>\n",
       "</table>\n",
       "</div>"
      ],
      "text/plain": [
       "                             y100\n",
       "features_all             0.582583\n",
       "features_lasso           0.675791\n",
       "features_VIF             0.702934\n",
       "features_no_correlation  0.694733\n",
       "features_same_day        0.528991\n",
       "features_previous_day    0.506699\n",
       "features_differences     0.598868"
      ]
     },
     "execution_count": 287,
     "metadata": {},
     "output_type": "execute_result"
    }
   ],
   "source": [
    "pd.DataFrame(data = y100_rf_results, index = feature_set_names, columns = ['y100'])"
   ]
  },
  {
   "cell_type": "markdown",
   "metadata": {},
   "source": [
    "We can then use our previously defined function to summarize various model evalution metrics for the test data set:"
   ]
  },
  {
   "cell_type": "code",
   "execution_count": 289,
   "metadata": {},
   "outputs": [
    {
     "data": {
      "text/html": [
       "<div>\n",
       "<style scoped>\n",
       "    .dataframe tbody tr th:only-of-type {\n",
       "        vertical-align: middle;\n",
       "    }\n",
       "\n",
       "    .dataframe tbody tr th {\n",
       "        vertical-align: top;\n",
       "    }\n",
       "\n",
       "    .dataframe thead th {\n",
       "        text-align: right;\n",
       "    }\n",
       "</style>\n",
       "<table border=\"1\" class=\"dataframe\">\n",
       "  <thead>\n",
       "    <tr style=\"text-align: right;\">\n",
       "      <th></th>\n",
       "      <th>value</th>\n",
       "    </tr>\n",
       "  </thead>\n",
       "  <tbody>\n",
       "    <tr>\n",
       "      <th>accuracy</th>\n",
       "      <td>0.664921</td>\n",
       "    </tr>\n",
       "    <tr>\n",
       "      <th>precision</th>\n",
       "      <td>0.797753</td>\n",
       "    </tr>\n",
       "    <tr>\n",
       "      <th>recall</th>\n",
       "      <td>0.606838</td>\n",
       "    </tr>\n",
       "    <tr>\n",
       "      <th>specificity</th>\n",
       "      <td>0.756757</td>\n",
       "    </tr>\n",
       "    <tr>\n",
       "      <th>F1</th>\n",
       "      <td>0.689320</td>\n",
       "    </tr>\n",
       "    <tr>\n",
       "      <th>AUC</th>\n",
       "      <td>0.710557</td>\n",
       "    </tr>\n",
       "  </tbody>\n",
       "</table>\n",
       "</div>"
      ],
      "text/plain": [
       "                value\n",
       "accuracy     0.664921\n",
       "precision    0.797753\n",
       "recall       0.606838\n",
       "specificity  0.756757\n",
       "F1           0.689320\n",
       "AUC          0.710557"
      ]
     },
     "execution_count": 289,
     "metadata": {},
     "output_type": "execute_result"
    }
   ],
   "source": [
    "preds = y100_rf_objects[2].predict_proba(X_test_nosoil_log)\n",
    "#np.array(preds[:,1])\n",
    "score_metrics(y100_test_nosoil, preds[:,1], 0.5)\n",
    "#print(roc_auc_score(y100_test_nosoil, preds[:,1]))"
   ]
  },
  {
   "cell_type": "code",
   "execution_count": 290,
   "metadata": {},
   "outputs": [
    {
     "data": {
      "text/plain": [
       "['logSs_t1',\n",
       " 'DiffMinT',\n",
       " 'MinT_1d',\n",
       " 'DiffMeanRH',\n",
       " 'MaxRH_1d',\n",
       " 'DiffRH_0d',\n",
       " 'DiffRH_1d',\n",
       " 'DiffRH_2d',\n",
       " 'MaxDiffRH_2h',\n",
       " 'DiffMaxVPD',\n",
       " 'MaxVPD_1d',\n",
       " 'TotalPrecip',\n",
       " 'Precip_1d',\n",
       " 'DiffMaxDP',\n",
       " 'MaxDP_1d',\n",
       " 'DiffMinDP',\n",
       " 'RainYN_1.0',\n",
       " 'RainYN_nan']"
      ]
     },
     "execution_count": 290,
     "metadata": {},
     "output_type": "execute_result"
    }
   ],
   "source": [
    "#fitting = fit()\n",
    "cols = list(feature_sets[2])     # CAREFUL WHEN DUPLICATING OBJECTS! CHANGES TO THE COPY CAN AFFECT THE ORIGINAL\n",
    "cols.remove('RainYN') # remove this variable from the list of variables; alternatively,\n",
    "                                    # could use a separate 'numeric' variable list and add that, but\n",
    "                                    # that has some complications\n",
    "\n",
    "ohe = y100_rf_models[2].named_steps['preprocessor'].named_transformers_['categorical'].named_steps['onehot']\n",
    "ohe_feature_names = list(ohe.get_feature_names_out(categorical_features))\n",
    "new_columns = cols + ohe_feature_names # may or may not need to remove RainYN from data set:\n",
    "                        # feature_sets[2].remove('RainYN')\n",
    "new_columns"
   ]
  },
  {
   "cell_type": "code",
   "execution_count": 292,
   "metadata": {},
   "outputs": [
    {
     "data": {
      "image/png": "[encoded data removed]",
      "text/plain": [
       "<Figure size 432x288 with 1 Axes>"
      ]
     },
     "metadata": {
      "needs_background": "light"
     },
     "output_type": "display_data"
    }
   ],
   "source": [
    "feat_importances = pd.Series(y100_rf_models[2].steps[1][1].feature_importances_,\n",
    "                             index=new_columns)\n",
    "feat_importances.nlargest(10).sort_values(ascending = True).plot(kind='barh')\n",
    "plt.title(\"Top 10 important features\")\n",
    "plt.show()"
   ]
  },
  {
   "cell_type": "code",
   "execution_count": 295,
   "metadata": {
    "scrolled": true
   },
   "outputs": [
    {
     "data": {
      "image/png": "[encoded data removed]",
      "text/plain": [
       "<Figure size 432x288 with 1 Axes>"
      ]
     },
     "metadata": {
      "needs_background": "light"
     },
     "output_type": "display_data"
    }
   ],
   "source": [
    "# plot feature importances with error bars:\n",
    "# this probably only works if I save all the random forests rather than just the best \n",
    "#   estimator??? mmmm.... not sure if that makes sense; see this link for code:\n",
    "# https://scikit-learn.org/stable/auto_examples/ensemble/plot_forest_importances.html\n",
    "importances = y100_rf_objects[2].steps[1][1].feature_importances_\n",
    "\n",
    "forest_importances = pd.Series(importances, index=new_columns)\n",
    "std = np.std([tree.feature_importances_ for tree in y100_rf_objects[2].steps[1][1].estimators_], axis=0)\n",
    "\n",
    "fig, ax = plt.subplots()\n",
    "forest_importances.plot.bar(yerr=std, ax=ax)\n",
    "ax.set_title(\"Feature importances using MDI\")\n",
    "ax.set_ylabel(\"Mean decrease in impurity\")\n",
    "fig.tight_layout()"
   ]
  },
  {
   "cell_type": "markdown",
   "metadata": {},
   "source": [
    "Now repeat that all for the y200 cutoff (this is where the code gets pretty repetitive..."
   ]
  },
  {
   "cell_type": "code",
   "execution_count": 296,
   "metadata": {},
   "outputs": [],
   "source": [
    "features_lasso = list(larcv_coefs[larcv_coefs['y200'] > 1e-6].index.values)\n",
    "\n",
    "feature_sets = [features_all, features_lasso, features_VIF, features_no_correlation,\n",
    "               features_same_day, features_previous_day, features_differences]\n",
    "feature_set_names = ['features_all', 'features_lasso', 'features_VIF', 'features_no_correlation',\n",
    "                     'features_same_day', 'features_previous_day', 'features_differences']"
   ]
  },
  {
   "cell_type": "code",
   "execution_count": 297,
   "metadata": {},
   "outputs": [
    {
     "name": "stdout",
     "output_type": "stream",
     "text": [
      "Fitting 5 folds for each of 30 candidates, totalling 150 fits\n",
      "Fitting 5 folds for each of 30 candidates, totalling 150 fits\n",
      "Fitting 5 folds for each of 30 candidates, totalling 150 fits\n",
      "Fitting 5 folds for each of 30 candidates, totalling 150 fits\n",
      "Fitting 5 folds for each of 30 candidates, totalling 150 fits\n",
      "Fitting 5 folds for each of 30 candidates, totalling 150 fits\n",
      "Fitting 5 folds for each of 30 candidates, totalling 150 fits\n"
     ]
    }
   ],
   "source": [
    "# threshold = 100 spores per day\n",
    "\n",
    "y200_auc_test_scores = []\n",
    "y200_rf_models = []\n",
    "\n",
    "y200_rf_objects = []\n",
    "\n",
    "\n",
    "## NB: data sets called in this loop have not been preprocessed - doing so is part of the pipeline/program\n",
    "for features in feature_sets:\n",
    "    # create numeric and categorical feature lists for pipeline - these are based on the selected ones from\n",
    "    #     above\n",
    "    num_features = [i for i in features if i in numeric_features] # some function to select numeric features\n",
    "    cat_features = [i for i in features if i in categorical_features] # if this is a blank list, I believe that's fine\n",
    "    \n",
    "    # create preprocessor\n",
    "    numeric_transformer = Pipeline([\n",
    "        ('scaler', StandardScaler()),\n",
    "        ('imputer', IterativeImputer(sample_posterior = False, \n",
    "                                     max_iter = 500, random_state = 356))\n",
    "    ])\n",
    "    \n",
    "    #if len(cat_features) > 0:   # check if cat_features is empty, as this may cause problems in the pipeline\n",
    "    categorical_transformer = Pipeline([\n",
    "        ('onehot', OneHotEncoder(sparse=False, handle_unknown='ignore', drop = 'first')),\n",
    "        ('imputer', SimpleImputer(strategy='most_frequent'))\n",
    "     ])\n",
    "    \n",
    "    preprocessor = ColumnTransformer([\n",
    "        ('numeric', numeric_transformer, num_features),\n",
    "        ('categorical', categorical_transformer, cat_features)\n",
    "    ])\n",
    "    \n",
    "    # create rf pipeline\n",
    "    rf_pipeline = Pipeline([\n",
    "        ('preprocessor', preprocessor),\n",
    "        ('model', RandomForestClassifier(random_state = 545))\n",
    "    ])\n",
    "    # create param_dist dict\n",
    "    param_dist = {\n",
    "        'model__n_estimators'     : scipy.stats.randint(low=10, high=100),\n",
    "        'model__max_depth'        : scipy.stats.randint(low=3, high=10),\n",
    "        'model__class_weight'     : (None, \"balanced\")\n",
    "    }\n",
    "\n",
    "    # create randomized search CV\n",
    "    random_search_auc = RandomizedSearchCV(rf_pipeline,\n",
    "                                    param_distributions= param_dist,\n",
    "                                     n_iter = 30,\n",
    "                                     cv = 5,\n",
    "                                     scoring = 'roc_auc', # maximize the auc score (ways to do multiple criteria)\n",
    "                                     verbose = 1,\n",
    "                                     random_state = 454)\n",
    "    \n",
    "    # obtain AUC values from each of the models\n",
    "    random_search_auc.fit(X_trainvalid_log, y200_trainvalid) \n",
    "    auc_score = ()\n",
    "    \n",
    "    preds = random_search_auc.best_estimator_.predict_proba(X_test_log)\n",
    "    \n",
    "    auc_score = roc_auc_score(y200_test, preds[:,1])\n",
    "    y200_auc_test_scores.append(auc_score)\n",
    "    \n",
    "    # save models in a dict\n",
    "    model = ()\n",
    "    model = random_search_auc.best_estimator_.steps[1][1]\n",
    "    y200_rf_models.append(model)\n",
    "    \n",
    "    y200_rf_objects.append(random_search_auc.best_estimator_)\n",
    "\n",
    "    y200_auc_test_scores\n",
    "    y200_rf_models\n",
    "    \n"
   ]
  },
  {
   "cell_type": "code",
   "execution_count": 121,
   "metadata": {},
   "outputs": [],
   "source": [
    "y200_rf_results = y200_auc_test_scores.copy()\n",
    "y200_rf_models = y200_rf_objects.copy()"
   ]
  },
  {
   "cell_type": "code",
   "execution_count": 298,
   "metadata": {},
   "outputs": [],
   "source": [
    "# pd.DataFrame(data = y200_rf_results, index = feature_set_names, columns = ['y200'])"
   ]
  },
  {
   "cell_type": "code",
   "execution_count": 299,
   "metadata": {},
   "outputs": [],
   "source": [
    "# preds = y200_rf_models[1].predict_proba(X_test_nosoil_log)\n",
    "#np.array(preds[:,1])\n",
    "# score_metrics(y100_test_nosoil, preds[:,1], 0.5)"
   ]
  },
  {
   "cell_type": "code",
   "execution_count": 300,
   "metadata": {
    "scrolled": true
   },
   "outputs": [],
   "source": [
    "# 'RainYN' was not important in this model, so I can remove this part of the code:\n",
    "\n",
    "# going to stick with the 'VIF' features set, since it was ALMOST the best performer\n",
    "#ohe = rf_objects[2].named_steps['preprocessor'].named_transformers_['categorical'].named_steps['onehot']\n",
    "#ohe.fit(X_trainvalid_nosoil_log, y200_trainvalid_nosoil)\n",
    "#ohe_feature_names = list(ohe.get_feature_names(categorical_features))\n",
    "#new_columns = feature_sets[2] + ohe_feature_names # may or may not need to remove RainYN from data set:\n",
    "                        # feature_sets[2].remove('RainYN')\n",
    "#new_columns"
   ]
  },
  {
   "cell_type": "code",
   "execution_count": 301,
   "metadata": {},
   "outputs": [],
   "source": [
    "# feat_importances = pd.Series(rf_objects[1].steps[1][1].feature_importances_,\n",
    "#                              index=feature_sets[1])\n",
    "# feat_importances.nlargest(15).plot(kind='barh')\n",
    "# plt.title(\"Top 15 important features\")\n",
    "# plt.show()"
   ]
  },
  {
   "cell_type": "code",
   "execution_count": null,
   "metadata": {},
   "outputs": [],
   "source": []
  },
  {
   "cell_type": "markdown",
   "metadata": {},
   "source": [
    "#### update data sets to reflect the LASSO selection for 500 threshold:"
   ]
  },
  {
   "cell_type": "code",
   "execution_count": 123,
   "metadata": {},
   "outputs": [],
   "source": [
    "features_lasso = list(larcv_coefs[larcv_coefs['y500'] > 1e-6].index.values)\n",
    "\n",
    "feature_sets = [features_all, features_lasso, features_VIF, features_no_correlation,\n",
    "               features_same_day, features_previous_day, features_differences]\n",
    "feature_set_names = ['features_all', 'features_lasso', 'features_VIF', 'features_no_correlation',\n",
    "                     'features_same_day', 'features_previous_day', 'features_differences']"
   ]
  },
  {
   "cell_type": "code",
   "execution_count": 124,
   "metadata": {
    "scrolled": true
   },
   "outputs": [
    {
     "name": "stdout",
     "output_type": "stream",
     "text": [
      "Fitting 5 folds for each of 30 candidates, totalling 150 fits\n",
      "Fitting 5 folds for each of 30 candidates, totalling 150 fits\n",
      "Fitting 5 folds for each of 30 candidates, totalling 150 fits\n",
      "Fitting 5 folds for each of 30 candidates, totalling 150 fits\n",
      "Fitting 5 folds for each of 30 candidates, totalling 150 fits\n",
      "Fitting 5 folds for each of 30 candidates, totalling 150 fits\n",
      "Fitting 5 folds for each of 30 candidates, totalling 150 fits\n"
     ]
    }
   ],
   "source": [
    "# threshold = 500 spores per day\n",
    "\n",
    "y500_auc_test_scores = []\n",
    "y500_rf_models = []\n",
    "\n",
    "y500_rf_objects = []\n",
    "\n",
    "\n",
    "## NB: data sets called in this loop have not been preprocessed - doing so is part of the pipeline/program\n",
    "for features in feature_sets:\n",
    "    # create numeric and categorical feature lists for pipeline - these are based on the selected ones from\n",
    "    #     above\n",
    "    num_features = [i for i in features if i in numeric_features] # some function to select numeric features\n",
    "    cat_features = [i for i in features if i in categorical_features] # if this is a blank list, I believe that's fine\n",
    "    \n",
    "    # create preprocessor\n",
    "    numeric_transformer = Pipeline([\n",
    "        ('scaler', StandardScaler()),\n",
    "        ('imputer', IterativeImputer(sample_posterior = False, \n",
    "                                     max_iter = 500, random_state = 356))\n",
    "    ])\n",
    "    \n",
    "    #if len(cat_features) > 0:   \n",
    "    categorical_transformer = Pipeline([\n",
    "        ('onehot', OneHotEncoder(sparse=False, handle_unknown='ignore', drop = 'first')),\n",
    "        ('imputer', SimpleImputer(strategy='most_frequent'))\n",
    "     ])\n",
    "    \n",
    "    preprocessor = ColumnTransformer([\n",
    "        ('numeric', numeric_transformer, num_features),\n",
    "        ('categorical', categorical_transformer, cat_features)\n",
    "    ])\n",
    "    \n",
    "    # create rf pipeline\n",
    "    rf_pipeline = Pipeline([\n",
    "        ('preprocessor', preprocessor),\n",
    "        ('model', RandomForestClassifier(random_state = 545))\n",
    "    ])\n",
    "    # create param_dist dict\n",
    "    param_dist = {\n",
    "        'model__n_estimators'     : scipy.stats.randint(low=10, high=100),\n",
    "        'model__max_depth'        : scipy.stats.randint(low=3, high=10),\n",
    "        'model__class_weight'     : (None, \"balanced\")\n",
    "    }\n",
    "\n",
    "    # create randomized search CV\n",
    "    random_search_auc = RandomizedSearchCV(rf_pipeline,\n",
    "                                    param_distributions= param_dist,\n",
    "                                     n_iter = 30,\n",
    "                                     cv = 5,\n",
    "                                     scoring = 'roc_auc', # maximize the auc score (ways to do multiple criteria)\n",
    "                                     verbose = 1,\n",
    "                                     random_state = 454)\n",
    "    \n",
    "    # obtain AUC values from each of the models\n",
    "    random_search_auc.fit(X_trainvalid_log, y500_trainvalid) \n",
    "    auc_score = ()\n",
    "    \n",
    "    preds = random_search_auc.best_estimator_.predict_proba(X_test_log)\n",
    "    \n",
    "    auc_score = roc_auc_score(y500_test, preds[:,1])\n",
    "    y500_auc_test_scores.append(auc_score)\n",
    "    \n",
    "    # save models in a dict\n",
    "    model = ()\n",
    "    model = random_search_auc.best_estimator_.steps[1][1]\n",
    "    y500_rf_models.append(model)\n",
    "    \n",
    "    y500_rf_objects.append(random_search_auc.best_estimator_)\n",
    "\n",
    "    y500_auc_test_scores\n",
    "    y500_rf_models\n",
    "    \n"
   ]
  },
  {
   "cell_type": "code",
   "execution_count": 125,
   "metadata": {},
   "outputs": [],
   "source": [
    "y500_rf_results = y500_auc_test_scores.copy()\n",
    "y500_rf_models = y500_rf_objects.copy()"
   ]
  },
  {
   "cell_type": "code",
   "execution_count": 304,
   "metadata": {
    "scrolled": true
   },
   "outputs": [],
   "source": [
    "# pd.DataFrame(data = y500_rf_results, index = feature_set_names, columns = ['y500'])"
   ]
  },
  {
   "cell_type": "markdown",
   "metadata": {},
   "source": [
    "Plot the most important features:"
   ]
  },
  {
   "cell_type": "code",
   "execution_count": 305,
   "metadata": {},
   "outputs": [],
   "source": [
    "# feature_sets[2]"
   ]
  },
  {
   "cell_type": "code",
   "execution_count": 302,
   "metadata": {},
   "outputs": [],
   "source": [
    "# cols = list(feature_sets[2])     # CAREFUL WHEN DUPLICATING OBJECTS! CHANGES TO THE COPY CAN AFFECT THE ORIGINAL\n",
    "# cols.remove('RainYN') # remove this variable from the list of variables; alternatively,\n",
    "#                                     # could use a separate 'numeric' variable list and add that, but\n",
    "#                                     # that has some complications\n",
    "\n",
    "# ohe = rf_objects[2].named_steps['preprocessor'].named_transformers_['categorical'].named_steps['onehot']\n",
    "# ohe_feature_names = list(ohe.get_feature_names(categorical_features))\n",
    "# new_columns = cols + ohe_feature_names # may or may not need to remove RainYN from data set:\n",
    "#                         # feature_sets[2].remove('RainYN')\n",
    "# new_columns"
   ]
  },
  {
   "cell_type": "code",
   "execution_count": 303,
   "metadata": {},
   "outputs": [],
   "source": [
    "# feat_importances = pd.Series(rf_objects[2].steps[1][1].feature_importances_,\n",
    "#                              index=new_columns)\n",
    "# feat_importances.nlargest(15).plot(kind='barh')\n",
    "# plt.title(\"Top 15 important features\")\n",
    "# plt.show()"
   ]
  },
  {
   "cell_type": "markdown",
   "metadata": {},
   "source": [
    "### Now for 1,000 threshold:"
   ]
  },
  {
   "cell_type": "code",
   "execution_count": 1319,
   "metadata": {},
   "outputs": [],
   "source": [
    "features_lasso = list(larcv_coefs[larcv_coefs['y1000'] > 1e-6].index.values)\n",
    "\n",
    "feature_sets = [features_all, features_lasso, features_VIF, features_no_correlation,\n",
    "               features_same_day, features_previous_day, features_differences]\n",
    "feature_set_names = ['features_all', 'features_lasso', 'features_VIF', 'features_no_correlation',\n",
    "                     'features_same_day', 'features_previous_day', 'features_differences']"
   ]
  },
  {
   "cell_type": "code",
   "execution_count": 128,
   "metadata": {},
   "outputs": [
    {
     "name": "stdout",
     "output_type": "stream",
     "text": [
      "Fitting 5 folds for each of 30 candidates, totalling 150 fits\n",
      "Fitting 5 folds for each of 30 candidates, totalling 150 fits\n",
      "Fitting 5 folds for each of 30 candidates, totalling 150 fits\n",
      "Fitting 5 folds for each of 30 candidates, totalling 150 fits\n",
      "Fitting 5 folds for each of 30 candidates, totalling 150 fits\n",
      "Fitting 5 folds for each of 30 candidates, totalling 150 fits\n",
      "Fitting 5 folds for each of 30 candidates, totalling 150 fits\n"
     ]
    }
   ],
   "source": [
    "# threshold = 1000 spores per day\n",
    "\n",
    "y1000_auc_test_scores = []\n",
    "y1000_rf_models = []\n",
    "\n",
    "y1000_rf_objects = []\n",
    "\n",
    "\n",
    "## NB: data sets called in this loop have not been preprocessed - doing so is part of the pipeline/program\n",
    "for features in feature_sets:\n",
    "    # create numeric and categorical feature lists for pipeline - these are based on the selected ones from\n",
    "    #     above\n",
    "    num_features = [i for i in features if i in numeric_features] # some function to select numeric features\n",
    "    cat_features = [i for i in features if i in categorical_features] # if this is a blank list, I believe that's fine\n",
    "    \n",
    "    # create preprocessor\n",
    "    numeric_transformer = Pipeline([\n",
    "        ('scaler', StandardScaler()),\n",
    "        ('imputer', IterativeImputer(sample_posterior = False, \n",
    "                                     max_iter = 500, random_state = 356))\n",
    "    ])\n",
    "    \n",
    "    #if len(cat_features) > 0:   # check if cat_features is empty, as this may cause problems in the pipeline\n",
    "    categorical_transformer = Pipeline([\n",
    "        ('onehot', OneHotEncoder(sparse=False, handle_unknown='ignore', drop = 'first')),\n",
    "        ('imputer', SimpleImputer(strategy='most_frequent'))\n",
    "     ])\n",
    "    \n",
    "    preprocessor = ColumnTransformer([\n",
    "        ('numeric', numeric_transformer, num_features),\n",
    "        ('categorical', categorical_transformer, cat_features)\n",
    "    ])\n",
    "    \n",
    "    # create rf pipeline\n",
    "    rf_pipeline = Pipeline([\n",
    "        ('preprocessor', preprocessor),\n",
    "        ('model', RandomForestClassifier(random_state = 545))\n",
    "    ])\n",
    "    # create param_dist dict\n",
    "    param_dist = {\n",
    "        'model__n_estimators'     : scipy.stats.randint(low=10, high=100),\n",
    "        'model__max_depth'        : scipy.stats.randint(low=3, high=10),\n",
    "        'model__class_weight'     : (None, \"balanced\")\n",
    "    }\n",
    "\n",
    "    # create randomized search CV\n",
    "    random_search_auc = RandomizedSearchCV(rf_pipeline,\n",
    "                                    param_distributions= param_dist,\n",
    "                                     n_iter = 30,\n",
    "                                     cv = 5,\n",
    "                                     scoring = 'roc_auc', # maximize the auc score (ways to do multiple criteria)\n",
    "                                     verbose = 1,\n",
    "                                     random_state = 454)\n",
    "    \n",
    "    # obtain AUC values from each of the models\n",
    "    random_search_auc.fit(X_trainvalid_log, y1000_trainvalid) \n",
    "    auc_score = ()\n",
    "    \n",
    "    preds = random_search_auc.best_estimator_.predict_proba(X_test_log)\n",
    "    \n",
    "    auc_score = roc_auc_score(y1000_test, preds[:,1])\n",
    "    y1000_auc_test_scores.append(auc_score)\n",
    "    \n",
    "    # save models in a dict\n",
    "    model = ()\n",
    "    model = random_search_auc.best_estimator_.steps[1][1]\n",
    "    y1000_rf_models.append(model)\n",
    "    \n",
    "    y1000_rf_objects.append(random_search_auc.best_estimator_)\n",
    "\n",
    "    y1000_auc_test_scores\n",
    "    y1000_rf_models\n",
    "    \n"
   ]
  },
  {
   "cell_type": "code",
   "execution_count": 129,
   "metadata": {},
   "outputs": [],
   "source": [
    "y1000_rf_results = y1000_auc_test_scores.copy()\n",
    "y1000_rf_models = y1000_rf_objects.copy()"
   ]
  },
  {
   "cell_type": "code",
   "execution_count": 306,
   "metadata": {
    "scrolled": true
   },
   "outputs": [],
   "source": [
    "# pd.DataFrame(data = y1000_rf_results, index = feature_set_names, columns = ['y1000'])"
   ]
  },
  {
   "cell_type": "code",
   "execution_count": 307,
   "metadata": {},
   "outputs": [],
   "source": [
    "# feat_importances = pd.Series(rf_objects[2].steps[1][1].feature_importances_,\n",
    "#                              index=feature_sets[2])\n",
    "# feat_importances.nlargest(15).plot(kind='barh')\n",
    "# plt.title(\"Top 15 important features\")\n",
    "# plt.show()"
   ]
  },
  {
   "cell_type": "markdown",
   "metadata": {},
   "source": [
    "### Combine all results into one data frame:"
   ]
  },
  {
   "cell_type": "code",
   "execution_count": 134,
   "metadata": {
    "scrolled": true
   },
   "outputs": [
    {
     "data": {
      "text/html": [
       "<div>\n",
       "<style scoped>\n",
       "    .dataframe tbody tr th:only-of-type {\n",
       "        vertical-align: middle;\n",
       "    }\n",
       "\n",
       "    .dataframe tbody tr th {\n",
       "        vertical-align: top;\n",
       "    }\n",
       "\n",
       "    .dataframe thead th {\n",
       "        text-align: right;\n",
       "    }\n",
       "</style>\n",
       "<table border=\"1\" class=\"dataframe\">\n",
       "  <thead>\n",
       "    <tr style=\"text-align: right;\">\n",
       "      <th></th>\n",
       "      <th>ylog</th>\n",
       "      <th>y100</th>\n",
       "      <th>y200</th>\n",
       "      <th>y500</th>\n",
       "      <th>y1000</th>\n",
       "    </tr>\n",
       "  </thead>\n",
       "  <tbody>\n",
       "    <tr>\n",
       "      <th>features_all</th>\n",
       "      <td>-0.035255</td>\n",
       "      <td>0.582583</td>\n",
       "      <td>0.618424</td>\n",
       "      <td>0.525267</td>\n",
       "      <td>0.572596</td>\n",
       "    </tr>\n",
       "    <tr>\n",
       "      <th>features_lasso</th>\n",
       "      <td>0.291463</td>\n",
       "      <td>0.675791</td>\n",
       "      <td>0.773431</td>\n",
       "      <td>0.758021</td>\n",
       "      <td>0.790383</td>\n",
       "    </tr>\n",
       "    <tr>\n",
       "      <th>features_VIF</th>\n",
       "      <td>0.284545</td>\n",
       "      <td>0.702934</td>\n",
       "      <td>0.761052</td>\n",
       "      <td>0.772059</td>\n",
       "      <td>0.739786</td>\n",
       "    </tr>\n",
       "    <tr>\n",
       "      <th>features_no_correlation</th>\n",
       "      <td>0.288417</td>\n",
       "      <td>0.694733</td>\n",
       "      <td>0.757515</td>\n",
       "      <td>0.731150</td>\n",
       "      <td>0.747172</td>\n",
       "    </tr>\n",
       "    <tr>\n",
       "      <th>features_same_day</th>\n",
       "      <td>-0.045399</td>\n",
       "      <td>0.528991</td>\n",
       "      <td>0.575321</td>\n",
       "      <td>0.561364</td>\n",
       "      <td>0.551069</td>\n",
       "    </tr>\n",
       "    <tr>\n",
       "      <th>features_previous_day</th>\n",
       "      <td>-0.046910</td>\n",
       "      <td>0.506699</td>\n",
       "      <td>0.560455</td>\n",
       "      <td>0.533824</td>\n",
       "      <td>0.492772</td>\n",
       "    </tr>\n",
       "    <tr>\n",
       "      <th>features_differences</th>\n",
       "      <td>-0.037870</td>\n",
       "      <td>0.598868</td>\n",
       "      <td>0.584273</td>\n",
       "      <td>0.606684</td>\n",
       "      <td>0.588624</td>\n",
       "    </tr>\n",
       "  </tbody>\n",
       "</table>\n",
       "</div>"
      ],
      "text/plain": [
       "                             ylog      y100      y200      y500     y1000\n",
       "features_all            -0.035255  0.582583  0.618424  0.525267  0.572596\n",
       "features_lasso           0.291463  0.675791  0.773431  0.758021  0.790383\n",
       "features_VIF             0.284545  0.702934  0.761052  0.772059  0.739786\n",
       "features_no_correlation  0.288417  0.694733  0.757515  0.731150  0.747172\n",
       "features_same_day       -0.045399  0.528991  0.575321  0.561364  0.551069\n",
       "features_previous_day   -0.046910  0.506699  0.560455  0.533824  0.492772\n",
       "features_differences    -0.037870  0.598868  0.584273  0.606684  0.588624"
      ]
     },
     "execution_count": 134,
     "metadata": {},
     "output_type": "execute_result"
    }
   ],
   "source": [
    "pd.DataFrame(data = list(zip(y100_rf_results, y200_rf_results, y500_rf_results, y1000_rf_results)),\n",
    "                     index = feature_set_names, \n",
    "             columns = ['y100', 'y200', 'y500', 'y1000'])"
   ]
  },
  {
   "cell_type": "markdown",
   "metadata": {},
   "source": [
    "# Logistic Regression\n",
    "\n",
    "-- nb, code needs some reorganizing here in order to run properly --"
   ]
  },
  {
   "cell_type": "markdown",
   "metadata": {},
   "source": [
    "Here I'll repeat the above, except using logistic regression. For comparison purposes, I will perform a similar analysis in R using more 'statistically sound' assumptions than here."
   ]
  },
  {
   "cell_type": "code",
   "execution_count": 135,
   "metadata": {},
   "outputs": [],
   "source": [
    "features_lasso = list(larcv_coefs[larcv_coefs['y100'] > 1e-6].index.values)\n",
    "\n",
    "feature_sets = [features_all, features_lasso, features_VIF, features_no_correlation,\n",
    "               features_same_day, features_previous_day, features_differences]\n",
    "feature_set_names = ['features_all', 'features_lasso', 'features_VIF', 'features_no_correlation',\n",
    "                     'features_same_day', 'features_previous_day', 'features_differences']"
   ]
  },
  {
   "cell_type": "code",
   "execution_count": 138,
   "metadata": {
    "scrolled": true
   },
   "outputs": [
    {
     "name": "stdout",
     "output_type": "stream",
     "text": [
      "Fitting 10 folds for each of 12 candidates, totalling 120 fits\n",
      "Fitting 10 folds for each of 12 candidates, totalling 120 fits\n",
      "Fitting 10 folds for each of 12 candidates, totalling 120 fits\n",
      "Fitting 10 folds for each of 12 candidates, totalling 120 fits\n",
      "Fitting 10 folds for each of 12 candidates, totalling 120 fits\n",
      "Fitting 10 folds for each of 12 candidates, totalling 120 fits\n",
      "Fitting 10 folds for each of 12 candidates, totalling 120 fits\n"
     ]
    }
   ],
   "source": [
    "# Using y100 as the threshold:\n",
    "\n",
    "y100_auc_test_scores = []\n",
    "y100_lr_models = []\n",
    "\n",
    "y100_lr_objects = []\n",
    "\n",
    "\n",
    "for features, name in zip(feature_sets, feature_set_names):\n",
    "    num_features = [i for i in features if i in numeric_features] # some function to select numeric features\n",
    "    cat_features = [i for i in features if i in categorical_features] # if this is a blank list, I believe that's fine\n",
    "    \n",
    "    # create preprocessor\n",
    "    numeric_transformer = Pipeline([\n",
    "        ('scaler', StandardScaler()),\n",
    "        ('imputer', IterativeImputer(sample_posterior = False, \n",
    "                                     max_iter = 500, random_state = 356))\n",
    "    ])\n",
    "    \n",
    "    #if len(cat_features) > 0:   # check if cat_features is empty, as this may cause problems in the pipeline\n",
    "    categorical_transformer = Pipeline([\n",
    "        ('onehot', OneHotEncoder(sparse=False, handle_unknown='error', drop = 'first')),\n",
    "        ('imputer', SimpleImputer(strategy='most_frequent'))\n",
    "     ])\n",
    "    \n",
    "    # question: what happens if there are no categorical features? - sort out in the debugging stage\n",
    "    preprocessor = ColumnTransformer([\n",
    "        ('numeric', numeric_transformer, num_features),\n",
    "        ('categorical', categorical_transformer, cat_features)\n",
    "    ])\n",
    "    \n",
    "    lr_pipeline = Pipeline([\n",
    "        ('preprocessor', preprocessor),\n",
    "        ('model', LogisticRegression(max_iter = 1000, random_state = 545))\n",
    "    ])\n",
    "\n",
    "    # I need to create\n",
    "    #   a dict of values I want to test in the random search\n",
    "    param_dist = {\n",
    "        'model__C'              : (0.0001, 0.001, 0.01, 0.1, 1, 10),\n",
    "        'model__class_weight'   : (None, 'balanced')\n",
    "    }\n",
    "\n",
    "    # Create the GridSearchCV\n",
    "    grid_search_auc = GridSearchCV(lr_pipeline,\n",
    "                              param_grid=param_dist,\n",
    "                              cv = 10,\n",
    "                              scoring = 'roc_auc', # maximize auc score (ways to do multiplie criteria)\n",
    "                              verbose = 1)\n",
    "    \n",
    "    # obtain AUC values from each of the models\n",
    "    grid_search_auc.fit(X_trainvalid_nosoil_log, y100_trainvalid_nosoil) \n",
    "    auc_score = ()\n",
    "    \n",
    "    preds = grid_search_auc.best_estimator_.predict_proba(X_test_nosoil_log)\n",
    "    \n",
    "    auc_score = roc_auc_score(y100_test_nosoil, preds[:,1])\n",
    "    y100_auc_test_scores.append(auc_score)\n",
    "    \n",
    "    # save models in a dict\n",
    "    model = ()\n",
    "    model = grid_search_auc.best_estimator_.steps[1][1]\n",
    "    y100_lr_models.append(model)\n",
    "    \n",
    "    y100_lr_objects.append(grid_search_auc.best_estimator_)\n",
    "    y100_auc_test_scores\n",
    "    y100_lr_models"
   ]
  },
  {
   "cell_type": "code",
   "execution_count": 140,
   "metadata": {},
   "outputs": [],
   "source": [
    "y100_lr_results = y100_auc_test_scores.copy()\n",
    "y100_lr_models = y100_lr_objects.copy()"
   ]
  },
  {
   "cell_type": "code",
   "execution_count": 141,
   "metadata": {},
   "outputs": [
    {
     "data": {
      "text/html": [
       "<div>\n",
       "<style scoped>\n",
       "    .dataframe tbody tr th:only-of-type {\n",
       "        vertical-align: middle;\n",
       "    }\n",
       "\n",
       "    .dataframe tbody tr th {\n",
       "        vertical-align: top;\n",
       "    }\n",
       "\n",
       "    .dataframe thead th {\n",
       "        text-align: right;\n",
       "    }\n",
       "</style>\n",
       "<table border=\"1\" class=\"dataframe\">\n",
       "  <thead>\n",
       "    <tr style=\"text-align: right;\">\n",
       "      <th></th>\n",
       "      <th>y100</th>\n",
       "    </tr>\n",
       "  </thead>\n",
       "  <tbody>\n",
       "    <tr>\n",
       "      <th>features_all</th>\n",
       "      <td>0.568261</td>\n",
       "    </tr>\n",
       "    <tr>\n",
       "      <th>features_lasso</th>\n",
       "      <td>0.706168</td>\n",
       "    </tr>\n",
       "    <tr>\n",
       "      <th>features_VIF</th>\n",
       "      <td>0.728575</td>\n",
       "    </tr>\n",
       "    <tr>\n",
       "      <th>features_no_correlation</th>\n",
       "      <td>0.723377</td>\n",
       "    </tr>\n",
       "    <tr>\n",
       "      <th>features_same_day</th>\n",
       "      <td>0.525410</td>\n",
       "    </tr>\n",
       "    <tr>\n",
       "      <th>features_previous_day</th>\n",
       "      <td>0.564911</td>\n",
       "    </tr>\n",
       "    <tr>\n",
       "      <th>features_differences</th>\n",
       "      <td>0.662740</td>\n",
       "    </tr>\n",
       "  </tbody>\n",
       "</table>\n",
       "</div>"
      ],
      "text/plain": [
       "                             y100\n",
       "features_all             0.568261\n",
       "features_lasso           0.706168\n",
       "features_VIF             0.728575\n",
       "features_no_correlation  0.723377\n",
       "features_same_day        0.525410\n",
       "features_previous_day    0.564911\n",
       "features_differences     0.662740"
      ]
     },
     "execution_count": 141,
     "metadata": {},
     "output_type": "execute_result"
    }
   ],
   "source": [
    "pd.DataFrame(data = y100_lr_results, index = feature_set_names, columns = ['y100'])"
   ]
  },
  {
   "cell_type": "code",
   "execution_count": 1335,
   "metadata": {},
   "outputs": [
    {
     "data": {
      "text/plain": [
       "array([ 2.10556150e-03,  2.48637133e-03, -1.13805267e-03, -4.44794924e-03,\n",
       "       -2.48234484e-03, -2.74514611e-03,  3.60789620e-03,  2.47358734e-03,\n",
       "        1.93575691e-03, -2.84772755e-03, -2.36306818e-03,  1.02718363e-03,\n",
       "       -4.68847543e-03, -2.40485890e-03,  3.63221729e-05])"
      ]
     },
     "execution_count": 1335,
     "metadata": {},
     "output_type": "execute_result"
    }
   ],
   "source": [
    "y100_lr_models[5][1].coef_[0]"
   ]
  },
  {
   "cell_type": "markdown",
   "metadata": {},
   "source": [
    "Plot the top 15 coefficients:"
   ]
  },
  {
   "cell_type": "code",
   "execution_count": 1042,
   "metadata": {},
   "outputs": [
    {
     "data": {
      "text/plain": [
       "['logSs_t1',\n",
       " 'DiffMinT',\n",
       " 'MinT_1d',\n",
       " 'DiffMeanRH',\n",
       " 'MaxRH_1d',\n",
       " 'DiffRH_0d',\n",
       " 'DiffRH_1d',\n",
       " 'DiffRH_2d',\n",
       " 'MaxDiffRH_2h',\n",
       " 'DiffMaxVPD',\n",
       " 'MaxVPD_1d',\n",
       " 'TotalPrecip',\n",
       " 'Precip_1d',\n",
       " 'RainYN',\n",
       " 'DiffMaxDP',\n",
       " 'MaxDP_1d',\n",
       " 'DiffMinDP']"
      ]
     },
     "execution_count": 1042,
     "metadata": {},
     "output_type": "execute_result"
    }
   ],
   "source": [
    "feature_sets[2]"
   ]
  },
  {
   "cell_type": "code",
   "execution_count": 1043,
   "metadata": {
    "scrolled": true
   },
   "outputs": [
    {
     "data": {
      "text/plain": [
       "['logSs_t1',\n",
       " 'DiffMinT',\n",
       " 'MinT_1d',\n",
       " 'DiffMeanRH',\n",
       " 'MaxRH_1d',\n",
       " 'DiffRH_0d',\n",
       " 'DiffRH_1d',\n",
       " 'DiffRH_2d',\n",
       " 'MaxDiffRH_2h',\n",
       " 'DiffMaxVPD',\n",
       " 'MaxVPD_1d',\n",
       " 'TotalPrecip',\n",
       " 'Precip_1d',\n",
       " 'DiffMaxDP',\n",
       " 'MaxDP_1d',\n",
       " 'DiffMinDP',\n",
       " 'RainYN_1.0',\n",
       " 'RainYN_nan']"
      ]
     },
     "execution_count": 1043,
     "metadata": {},
     "output_type": "execute_result"
    }
   ],
   "source": [
    "cols = list(feature_sets[2])     # CAREFUL WHEN DUPLICATING OBJECTS! CHANGES TO THE COPY CAN AFFECT THE ORIGINAL\n",
    "cols.remove('RainYN') # remove this variable from the list of variables; alternatively,\n",
    "                                    # could use a separate 'numeric' variable list and add that, but\n",
    "                                    # that has some complications\n",
    "\n",
    "ohe = lr_objects[2].named_steps['preprocessor'].named_transformers_['categorical'].named_steps['onehot']\n",
    "ohe_feature_names = list(ohe.get_feature_names(categorical_features))\n",
    "new_columns = cols + ohe_feature_names # may or may not need to remove RainYN from data set:\n",
    "                        # feature_sets[2].remove('RainYN')\n",
    "new_columns"
   ]
  },
  {
   "cell_type": "code",
   "execution_count": 1056,
   "metadata": {},
   "outputs": [
    {
     "data": {
      "text/plain": [
       "array([[ 4.67995241e-01,  1.98463588e-04, -3.73681283e-02,\n",
       "        -2.42870940e-02, -9.27753876e-02,  1.76758145e-02,\n",
       "        -2.03797853e-03,  3.90913322e-02,  5.60918800e-02,\n",
       "         4.40394985e-02,  1.26568886e-01, -1.24710865e-01,\n",
       "         3.60246951e-02,  6.10709152e-02,  1.00681050e-01,\n",
       "        -3.14846791e-02, -6.08479236e-02, -3.85000698e-02]])"
      ]
     },
     "execution_count": 1056,
     "metadata": {},
     "output_type": "execute_result"
    }
   ],
   "source": [
    "lr_objects[2].steps[1][1].coef_"
   ]
  },
  {
   "cell_type": "code",
   "execution_count": 1058,
   "metadata": {},
   "outputs": [
    {
     "data": {
      "image/png": "[encoded data removed]",
      "text/plain": [
       "<Figure size 432x288 with 1 Axes>"
      ]
     },
     "metadata": {
      "needs_background": "light"
     },
     "output_type": "display_data"
    }
   ],
   "source": [
    "feat_importances = pd.Series(np.abs(lr_objects[2].steps[1][1].coef_[0]), # take absolute values\n",
    "                             # of importances\n",
    "                             index=new_columns)\n",
    "feat_importances.nlargest(15).plot(kind='barh')\n",
    "plt.title(\"Top 15 important features\")\n",
    "plt.show()"
   ]
  },
  {
   "cell_type": "markdown",
   "metadata": {},
   "source": [
    "Now try for y200:"
   ]
  },
  {
   "cell_type": "code",
   "execution_count": 1344,
   "metadata": {},
   "outputs": [],
   "source": [
    "features_lasso = list(larcv_coefs[larcv_coefs['y200'] > 1e-6].index.values)\n",
    "\n",
    "feature_sets = [features_all, features_lasso, features_VIF, features_no_correlation,\n",
    "               features_same_day, features_previous_day, features_differences]\n",
    "feature_set_names = ['features_all', 'features_lasso', 'features_VIF', 'features_no_correlation',\n",
    "                     'features_same_day', 'features_previous_day', 'features_differences']"
   ]
  },
  {
   "cell_type": "code",
   "execution_count": 142,
   "metadata": {},
   "outputs": [
    {
     "name": "stdout",
     "output_type": "stream",
     "text": [
      "Fitting 10 folds for each of 12 candidates, totalling 120 fits\n",
      "Fitting 10 folds for each of 12 candidates, totalling 120 fits\n",
      "Fitting 10 folds for each of 12 candidates, totalling 120 fits\n",
      "Fitting 10 folds for each of 12 candidates, totalling 120 fits\n",
      "Fitting 10 folds for each of 12 candidates, totalling 120 fits\n",
      "Fitting 10 folds for each of 12 candidates, totalling 120 fits\n",
      "Fitting 10 folds for each of 12 candidates, totalling 120 fits\n"
     ]
    }
   ],
   "source": [
    "# Using y200 as the threshold:\n",
    "\n",
    "y200_auc_test_scores = []\n",
    "y200_lr_models = []\n",
    "\n",
    "y200_lr_objects = []\n",
    "\n",
    "\n",
    "for features, name in zip(feature_sets, feature_set_names):\n",
    "    num_features = [i for i in features if i in numeric_features] # some function to select numeric features\n",
    "    cat_features = [i for i in features if i in categorical_features] # if this is a blank list, I believe that's fine\n",
    "    \n",
    "    # create preprocessor\n",
    "    numeric_transformer = Pipeline([\n",
    "        ('scaler', StandardScaler()),\n",
    "        ('imputer', IterativeImputer(sample_posterior = False, \n",
    "                                     max_iter = 500, random_state = 356))\n",
    "    ])\n",
    "    \n",
    "    #if len(cat_features) > 0:   # check if cat_features is empty, as this may cause problems in the pipeline\n",
    "    categorical_transformer = Pipeline([\n",
    "        ('onehot', OneHotEncoder(sparse=False, handle_unknown='error', drop = 'first')),\n",
    "        ('imputer', SimpleImputer(strategy='most_frequent'))\n",
    "     ])\n",
    "    \n",
    "    # question: what happens if there are no categorical features? - sort out in the debugging stage\n",
    "    preprocessor = ColumnTransformer([\n",
    "        ('numeric', numeric_transformer, num_features),\n",
    "        ('categorical', categorical_transformer, cat_features)\n",
    "    ])\n",
    "    \n",
    "    lr_pipeline = Pipeline([\n",
    "        ('preprocessor', preprocessor),\n",
    "        ('model', LogisticRegression(max_iter = 1000, random_state = 545))\n",
    "    ])\n",
    "\n",
    "    # I need to create\n",
    "    #   a dict of values I want to test in the random search\n",
    "    param_dist = {\n",
    "        'model__C'              : (0.0001, 0.001, 0.01, 0.1, 1, 10),\n",
    "        'model__class_weight'   : (None, 'balanced')\n",
    "    }\n",
    "\n",
    "    # Create the GridSearchCV\n",
    "    grid_search_auc = GridSearchCV(lr_pipeline,\n",
    "                              param_grid=param_dist,\n",
    "                              cv = 10,\n",
    "                              scoring = 'roc_auc', # maximize auc score (ways to do multiplie criteria)\n",
    "                              verbose = 1)\n",
    "    \n",
    "    # obtain AUC values from each of the models\n",
    "    grid_search_auc.fit(X_trainvalid_nosoil_log, y200_trainvalid_nosoil) \n",
    "    auc_score = ()\n",
    "    \n",
    "    preds = grid_search_auc.best_estimator_.predict_proba(X_test_nosoil_log)\n",
    "    \n",
    "    auc_score = roc_auc_score(y200_test_nosoil, preds[:,1])\n",
    "    y200_auc_test_scores.append(auc_score)\n",
    "    \n",
    "    # save models in a dict\n",
    "    model = ()\n",
    "    model = grid_search_auc.best_estimator_.steps[1][1]\n",
    "    y200_lr_models.append(model)\n",
    "    \n",
    "    y200_lr_objects.append(grid_search_auc.best_estimator_)\n",
    "    y200_auc_test_scores\n",
    "    y200_lr_models"
   ]
  },
  {
   "cell_type": "code",
   "execution_count": 143,
   "metadata": {},
   "outputs": [],
   "source": [
    "y200_lr_results = y200_auc_test_scores.copy()\n",
    "y200_lr_models = y200_lr_objects.copy()"
   ]
  },
  {
   "cell_type": "code",
   "execution_count": 144,
   "metadata": {},
   "outputs": [
    {
     "data": {
      "text/html": [
       "<div>\n",
       "<style scoped>\n",
       "    .dataframe tbody tr th:only-of-type {\n",
       "        vertical-align: middle;\n",
       "    }\n",
       "\n",
       "    .dataframe tbody tr th {\n",
       "        vertical-align: top;\n",
       "    }\n",
       "\n",
       "    .dataframe thead th {\n",
       "        text-align: right;\n",
       "    }\n",
       "</style>\n",
       "<table border=\"1\" class=\"dataframe\">\n",
       "  <thead>\n",
       "    <tr style=\"text-align: right;\">\n",
       "      <th></th>\n",
       "      <th>y200</th>\n",
       "    </tr>\n",
       "  </thead>\n",
       "  <tbody>\n",
       "    <tr>\n",
       "      <th>features_all</th>\n",
       "      <td>0.600298</td>\n",
       "    </tr>\n",
       "    <tr>\n",
       "      <th>features_lasso</th>\n",
       "      <td>0.751437</td>\n",
       "    </tr>\n",
       "    <tr>\n",
       "      <th>features_VIF</th>\n",
       "      <td>0.764589</td>\n",
       "    </tr>\n",
       "    <tr>\n",
       "      <th>features_no_correlation</th>\n",
       "      <td>0.758621</td>\n",
       "    </tr>\n",
       "    <tr>\n",
       "      <th>features_same_day</th>\n",
       "      <td>0.581952</td>\n",
       "    </tr>\n",
       "    <tr>\n",
       "      <th>features_previous_day</th>\n",
       "      <td>0.567418</td>\n",
       "    </tr>\n",
       "    <tr>\n",
       "      <th>features_differences</th>\n",
       "      <td>0.618866</td>\n",
       "    </tr>\n",
       "  </tbody>\n",
       "</table>\n",
       "</div>"
      ],
      "text/plain": [
       "                             y200\n",
       "features_all             0.600298\n",
       "features_lasso           0.751437\n",
       "features_VIF             0.764589\n",
       "features_no_correlation  0.758621\n",
       "features_same_day        0.581952\n",
       "features_previous_day    0.567418\n",
       "features_differences     0.618866"
      ]
     },
     "execution_count": 144,
     "metadata": {},
     "output_type": "execute_result"
    }
   ],
   "source": [
    "pd.DataFrame(data = y200_lr_results, index = feature_set_names, columns = ['y200'])"
   ]
  },
  {
   "cell_type": "code",
   "execution_count": 1409,
   "metadata": {},
   "outputs": [
    {
     "data": {
      "text/html": [
       "<div>\n",
       "<style scoped>\n",
       "    .dataframe tbody tr th:only-of-type {\n",
       "        vertical-align: middle;\n",
       "    }\n",
       "\n",
       "    .dataframe tbody tr th {\n",
       "        vertical-align: top;\n",
       "    }\n",
       "\n",
       "    .dataframe thead th {\n",
       "        text-align: right;\n",
       "    }\n",
       "</style>\n",
       "<table border=\"1\" class=\"dataframe\">\n",
       "  <thead>\n",
       "    <tr style=\"text-align: right;\">\n",
       "      <th></th>\n",
       "      <th>value</th>\n",
       "    </tr>\n",
       "  </thead>\n",
       "  <tbody>\n",
       "    <tr>\n",
       "      <th>accuracy</th>\n",
       "      <td>0.560209</td>\n",
       "    </tr>\n",
       "    <tr>\n",
       "      <th>precision</th>\n",
       "      <td>1.000000</td>\n",
       "    </tr>\n",
       "    <tr>\n",
       "      <th>recall</th>\n",
       "      <td>0.034483</td>\n",
       "    </tr>\n",
       "    <tr>\n",
       "      <th>specificity</th>\n",
       "      <td>1.000000</td>\n",
       "    </tr>\n",
       "    <tr>\n",
       "      <th>F1</th>\n",
       "      <td>0.066667</td>\n",
       "    </tr>\n",
       "    <tr>\n",
       "      <th>AUC</th>\n",
       "      <td>0.757737</td>\n",
       "    </tr>\n",
       "  </tbody>\n",
       "</table>\n",
       "</div>"
      ],
      "text/plain": [
       "                value\n",
       "accuracy     0.560209\n",
       "precision    1.000000\n",
       "recall       0.034483\n",
       "specificity  1.000000\n",
       "F1           0.066667\n",
       "AUC          0.757737"
      ]
     },
     "execution_count": 1409,
     "metadata": {},
     "output_type": "execute_result"
    }
   ],
   "source": [
    "preds = y200_lr_models[2].predict_proba(X_test_nosoil_log)\n",
    "#np.array(preds[:,1])\n",
    "score_metrics(y200_test_nosoil, preds[:,1], 0.5)\n",
    "#roc_auc_score(y200_test_nosoil, preds[:,1])"
   ]
  },
  {
   "cell_type": "code",
   "execution_count": 1062,
   "metadata": {},
   "outputs": [],
   "source": [
    "cols = list(feature_sets[2])     # CAREFUL WHEN DUPLICATING OBJECTS! CHANGES TO THE COPY CAN AFFECT THE ORIGINAL\n",
    "cols.remove('RainYN') # remove this variable from the list of variables; alternatively,\n",
    "                                    # could use a separate 'numeric' variable list and add that, but\n",
    "                                    # that has some complications\n",
    "\n",
    "ohe = lr_objects[2].named_steps['preprocessor'].named_transformers_['categorical'].named_steps['onehot']\n",
    "ohe_feature_names = list(ohe.get_feature_names(categorical_features))\n",
    "new_columns = cols + ohe_feature_names # may or may not need to remove RainYN from data set:\n",
    "                        # feature_sets[2].remove('RainYN')\n",
    "new_columns;"
   ]
  },
  {
   "cell_type": "code",
   "execution_count": 1063,
   "metadata": {},
   "outputs": [
    {
     "data": {
      "image/png": "[encoded data removed]",
      "text/plain": [
       "<Figure size 432x288 with 1 Axes>"
      ]
     },
     "metadata": {
      "needs_background": "light"
     },
     "output_type": "display_data"
    }
   ],
   "source": [
    "feat_importances = pd.Series(np.abs(lr_objects[2].steps[1][1].coef_[0]), # take absolute values\n",
    "                             # of importances\n",
    "                             index=new_columns)\n",
    "feat_importances.nlargest(15).plot(kind='barh')\n",
    "plt.title(\"Top 15 important features\")\n",
    "plt.show()"
   ]
  },
  {
   "cell_type": "code",
   "execution_count": null,
   "metadata": {},
   "outputs": [],
   "source": []
  },
  {
   "cell_type": "code",
   "execution_count": 1348,
   "metadata": {},
   "outputs": [],
   "source": [
    "features_lasso = list(larcv_coefs[larcv_coefs['y500'] > 1e-6].index.values)\n",
    "\n",
    "feature_sets = [features_all, features_lasso, features_VIF, features_no_correlation,\n",
    "               features_same_day, features_previous_day, features_differences]\n",
    "feature_set_names = ['features_all', 'features_lasso', 'features_VIF', 'features_no_correlation',\n",
    "                     'features_same_day', 'features_previous_day', 'features_differences']"
   ]
  },
  {
   "cell_type": "code",
   "execution_count": 145,
   "metadata": {},
   "outputs": [
    {
     "name": "stdout",
     "output_type": "stream",
     "text": [
      "Fitting 10 folds for each of 12 candidates, totalling 120 fits\n",
      "Fitting 10 folds for each of 12 candidates, totalling 120 fits\n",
      "Fitting 10 folds for each of 12 candidates, totalling 120 fits\n",
      "Fitting 10 folds for each of 12 candidates, totalling 120 fits\n",
      "Fitting 10 folds for each of 12 candidates, totalling 120 fits\n",
      "Fitting 10 folds for each of 12 candidates, totalling 120 fits\n",
      "Fitting 10 folds for each of 12 candidates, totalling 120 fits\n"
     ]
    }
   ],
   "source": [
    "# Using y500 as the threshold:\n",
    "\n",
    "y500_auc_test_scores = []\n",
    "y500_lr_models = []\n",
    "\n",
    "y500_lr_objects = []\n",
    "\n",
    "\n",
    "for features, name in zip(feature_sets, feature_set_names):\n",
    "    num_features = [i for i in features if i in numeric_features] # some function to select numeric features\n",
    "    cat_features = [i for i in features if i in categorical_features] # if this is a blank list, I believe that's fine\n",
    "    \n",
    "    # create preprocessor\n",
    "    numeric_transformer = Pipeline([\n",
    "        ('scaler', StandardScaler()),\n",
    "        ('imputer', IterativeImputer(sample_posterior = False, \n",
    "                                     max_iter = 500, random_state = 356))\n",
    "    ])\n",
    "    \n",
    "    #if len(cat_features) > 0:   # check if cat_features is empty, as this may cause problems in the pipeline\n",
    "    categorical_transformer = Pipeline([\n",
    "        ('onehot', OneHotEncoder(sparse=False, handle_unknown='error', drop = 'first')),\n",
    "        ('imputer', SimpleImputer(strategy='most_frequent'))\n",
    "     ])\n",
    "    \n",
    "    # question: what happens if there are no categorical features? - sort out in the debugging stage\n",
    "    preprocessor = ColumnTransformer([\n",
    "        ('numeric', numeric_transformer, num_features),\n",
    "        ('categorical', categorical_transformer, cat_features)\n",
    "    ])\n",
    "    \n",
    "    lr_pipeline = Pipeline([\n",
    "        ('preprocessor', preprocessor),\n",
    "        ('model', LogisticRegression(max_iter = 1000, random_state = 545))\n",
    "    ])\n",
    "\n",
    "    # I need to create\n",
    "    #   a dict of values I want to test in the random search\n",
    "    param_dist = {\n",
    "        'model__C'              : (0.0001, 0.001, 0.01, 0.1, 1, 10),\n",
    "        'model__class_weight'   : (None, 'balanced')\n",
    "    }\n",
    "\n",
    "    # Create the GridSearchCV\n",
    "    grid_search_auc = GridSearchCV(lr_pipeline,\n",
    "                              param_grid=param_dist,\n",
    "                              cv = 10,\n",
    "                              scoring = 'roc_auc', # maximize auc score (ways to do multiplie criteria)\n",
    "                              verbose = 1)\n",
    "    \n",
    "    # obtain AUC values from each of the models\n",
    "    grid_search_auc.fit(X_trainvalid_nosoil_log, y500_trainvalid_nosoil) \n",
    "    auc_score = ()\n",
    "    \n",
    "    preds = grid_search_auc.best_estimator_.predict_proba(X_test_nosoil_log)\n",
    "    \n",
    "    auc_score = roc_auc_score(y500_test_nosoil, preds[:,1])\n",
    "    y500_auc_test_scores.append(auc_score)\n",
    "    \n",
    "    # save models in a dict\n",
    "    model = ()\n",
    "    model = grid_search_auc.best_estimator_.steps[1][1]\n",
    "    y500_lr_models.append(model)\n",
    "    \n",
    "    y500_lr_objects.append(grid_search_auc.best_estimator_)\n",
    "    y500_auc_test_scores\n",
    "    y500_lr_models"
   ]
  },
  {
   "cell_type": "code",
   "execution_count": 146,
   "metadata": {},
   "outputs": [],
   "source": [
    "y500_lr_results = y500_auc_test_scores.copy()\n",
    "y500_lr_models = y500_lr_objects.copy()"
   ]
  },
  {
   "cell_type": "code",
   "execution_count": 147,
   "metadata": {
    "scrolled": true
   },
   "outputs": [
    {
     "data": {
      "text/html": [
       "<div>\n",
       "<style scoped>\n",
       "    .dataframe tbody tr th:only-of-type {\n",
       "        vertical-align: middle;\n",
       "    }\n",
       "\n",
       "    .dataframe tbody tr th {\n",
       "        vertical-align: top;\n",
       "    }\n",
       "\n",
       "    .dataframe thead th {\n",
       "        text-align: right;\n",
       "    }\n",
       "</style>\n",
       "<table border=\"1\" class=\"dataframe\">\n",
       "  <thead>\n",
       "    <tr style=\"text-align: right;\">\n",
       "      <th></th>\n",
       "      <th>y500</th>\n",
       "    </tr>\n",
       "  </thead>\n",
       "  <tbody>\n",
       "    <tr>\n",
       "      <th>features_all</th>\n",
       "      <td>0.578877</td>\n",
       "    </tr>\n",
       "    <tr>\n",
       "      <th>features_lasso</th>\n",
       "      <td>0.758690</td>\n",
       "    </tr>\n",
       "    <tr>\n",
       "      <th>features_VIF</th>\n",
       "      <td>0.766444</td>\n",
       "    </tr>\n",
       "    <tr>\n",
       "      <th>features_no_correlation</th>\n",
       "      <td>0.753743</td>\n",
       "    </tr>\n",
       "    <tr>\n",
       "      <th>features_same_day</th>\n",
       "      <td>0.567112</td>\n",
       "    </tr>\n",
       "    <tr>\n",
       "      <th>features_previous_day</th>\n",
       "      <td>0.579412</td>\n",
       "    </tr>\n",
       "    <tr>\n",
       "      <th>features_differences</th>\n",
       "      <td>0.558289</td>\n",
       "    </tr>\n",
       "  </tbody>\n",
       "</table>\n",
       "</div>"
      ],
      "text/plain": [
       "                             y500\n",
       "features_all             0.578877\n",
       "features_lasso           0.758690\n",
       "features_VIF             0.766444\n",
       "features_no_correlation  0.753743\n",
       "features_same_day        0.567112\n",
       "features_previous_day    0.579412\n",
       "features_differences     0.558289"
      ]
     },
     "execution_count": 147,
     "metadata": {},
     "output_type": "execute_result"
    }
   ],
   "source": [
    "pd.DataFrame(data = y500_auc_test_scores, index = feature_set_names, columns = ['y500'])"
   ]
  },
  {
   "cell_type": "code",
   "execution_count": 1074,
   "metadata": {},
   "outputs": [
    {
     "data": {
      "image/png": "[encoded data removed]",
      "text/plain": [
       "<Figure size 432x288 with 1 Axes>"
      ]
     },
     "metadata": {
      "needs_background": "light"
     },
     "output_type": "display_data"
    }
   ],
   "source": [
    "# same thing as above, so I don't need to make new column names:\n",
    "feat_importances = pd.Series(np.abs(lr_objects[2].steps[1][1].coef_[0]), # take absolute values\n",
    "                             # of importances\n",
    "                             index=new_columns)\n",
    "feat_importances.nlargest(15).plot(kind='barh')\n",
    "plt.title(\"Top 15 important features\")\n",
    "plt.show()"
   ]
  },
  {
   "cell_type": "code",
   "execution_count": 1352,
   "metadata": {},
   "outputs": [],
   "source": [
    "features_lasso = list(larcv_coefs[larcv_coefs['y1000'] > 1e-6].index.values)\n",
    "\n",
    "feature_sets = [features_all, features_lasso, features_VIF, features_no_correlation,\n",
    "               features_same_day, features_previous_day, features_differences]\n",
    "feature_set_names = ['features_all', 'features_lasso', 'features_VIF', 'features_no_correlation',\n",
    "                     'features_same_day', 'features_previous_day', 'features_differences']"
   ]
  },
  {
   "cell_type": "code",
   "execution_count": 151,
   "metadata": {},
   "outputs": [
    {
     "name": "stdout",
     "output_type": "stream",
     "text": [
      "Fitting 10 folds for each of 12 candidates, totalling 120 fits\n",
      "Fitting 10 folds for each of 12 candidates, totalling 120 fits\n",
      "Fitting 10 folds for each of 12 candidates, totalling 120 fits\n",
      "Fitting 10 folds for each of 12 candidates, totalling 120 fits\n",
      "Fitting 10 folds for each of 12 candidates, totalling 120 fits\n",
      "Fitting 10 folds for each of 12 candidates, totalling 120 fits\n",
      "Fitting 10 folds for each of 12 candidates, totalling 120 fits\n"
     ]
    }
   ],
   "source": [
    "# Using y1000 as the threshold:\n",
    "\n",
    "y1000_auc_test_scores = []\n",
    "y1000_lr_models = []\n",
    "\n",
    "y1000_lr_objects = []\n",
    "\n",
    "\n",
    "for features, name in zip(feature_sets, feature_set_names):\n",
    "    num_features = [i for i in features if i in numeric_features] # some function to select numeric features\n",
    "    cat_features = [i for i in features if i in categorical_features] # if this is a blank list, I believe that's fine\n",
    "    \n",
    "    # create preprocessor\n",
    "    numeric_transformer = Pipeline([\n",
    "        ('scaler', StandardScaler()),\n",
    "        ('imputer', IterativeImputer(sample_posterior = False, \n",
    "                                     max_iter = 500, random_state = 356))\n",
    "    ])\n",
    "    \n",
    "    #if len(cat_features) > 0:   # check if cat_features is empty, as this may cause problems in the pipeline\n",
    "    categorical_transformer = Pipeline([\n",
    "        ('onehot', OneHotEncoder(sparse=False, handle_unknown='error', drop = 'first')),\n",
    "        ('imputer', SimpleImputer(strategy='most_frequent'))\n",
    "     ])\n",
    "    \n",
    "    # question: what happens if there are no categorical features? - sort out in the debugging stage\n",
    "    preprocessor = ColumnTransformer([\n",
    "        ('numeric', numeric_transformer, num_features),\n",
    "        ('categorical', categorical_transformer, cat_features)\n",
    "    ])\n",
    "    \n",
    "    lr_pipeline = Pipeline([\n",
    "        ('preprocessor', preprocessor),\n",
    "        ('model', LogisticRegression(max_iter = 1000, random_state = 545))\n",
    "    ])\n",
    "\n",
    "    # I need to create\n",
    "    #   a dict of values I want to test in the random search\n",
    "    param_dist = {\n",
    "        'model__C'              : (0.0001, 0.001, 0.01, 0.1, 1, 10),\n",
    "        'model__class_weight'   : (None, 'balanced')\n",
    "    }\n",
    "\n",
    "    # Create the GridSearchCV\n",
    "    grid_search_auc = GridSearchCV(lr_pipeline,\n",
    "                              param_grid=param_dist,\n",
    "                              cv = 10,\n",
    "                              scoring = 'roc_auc', # maximize auc score (ways to do multiplie criteria)\n",
    "                              verbose = 1)\n",
    "    \n",
    "    # obtain AUC values from each of the models\n",
    "    grid_search_auc.fit(X_trainvalid_nosoil_log, y1000_trainvalid_nosoil) \n",
    "    auc_score = ()\n",
    "    \n",
    "    preds = grid_search_auc.best_estimator_.predict_proba(X_test_nosoil_log)\n",
    "    \n",
    "    auc_score = roc_auc_score(y1000_test_nosoil, preds[:,1])\n",
    "    y1000_auc_test_scores.append(auc_score)\n",
    "    \n",
    "    # save models in a dict\n",
    "    model = ()\n",
    "    model = grid_search_auc.best_estimator_.steps[1][1]\n",
    "    y1000_lr_models.append(model)\n",
    "    \n",
    "    y1000_lr_objects.append(grid_search_auc.best_estimator_)\n",
    "    y1000_auc_test_scores\n",
    "    y1000_lr_models"
   ]
  },
  {
   "cell_type": "code",
   "execution_count": 152,
   "metadata": {},
   "outputs": [],
   "source": [
    "y1000_lr_results = y1000_auc_test_scores.copy()\n",
    "y1000_lr_models = y1000_lr_objects.copy()"
   ]
  },
  {
   "cell_type": "code",
   "execution_count": 153,
   "metadata": {
    "scrolled": true
   },
   "outputs": [
    {
     "data": {
      "text/html": [
       "<div>\n",
       "<style scoped>\n",
       "    .dataframe tbody tr th:only-of-type {\n",
       "        vertical-align: middle;\n",
       "    }\n",
       "\n",
       "    .dataframe tbody tr th {\n",
       "        vertical-align: top;\n",
       "    }\n",
       "\n",
       "    .dataframe thead th {\n",
       "        text-align: right;\n",
       "    }\n",
       "</style>\n",
       "<table border=\"1\" class=\"dataframe\">\n",
       "  <thead>\n",
       "    <tr style=\"text-align: right;\">\n",
       "      <th></th>\n",
       "      <th>y1000</th>\n",
       "    </tr>\n",
       "  </thead>\n",
       "  <tbody>\n",
       "    <tr>\n",
       "      <th>features_all</th>\n",
       "      <td>0.595380</td>\n",
       "    </tr>\n",
       "    <tr>\n",
       "      <th>features_lasso</th>\n",
       "      <td>0.775299</td>\n",
       "    </tr>\n",
       "    <tr>\n",
       "      <th>features_VIF</th>\n",
       "      <td>0.755185</td>\n",
       "    </tr>\n",
       "    <tr>\n",
       "      <th>features_no_correlation</th>\n",
       "      <td>0.753771</td>\n",
       "    </tr>\n",
       "    <tr>\n",
       "      <th>features_same_day</th>\n",
       "      <td>0.614551</td>\n",
       "    </tr>\n",
       "    <tr>\n",
       "      <th>features_previous_day</th>\n",
       "      <td>0.521684</td>\n",
       "    </tr>\n",
       "    <tr>\n",
       "      <th>features_differences</th>\n",
       "      <td>0.516656</td>\n",
       "    </tr>\n",
       "  </tbody>\n",
       "</table>\n",
       "</div>"
      ],
      "text/plain": [
       "                            y1000\n",
       "features_all             0.595380\n",
       "features_lasso           0.775299\n",
       "features_VIF             0.755185\n",
       "features_no_correlation  0.753771\n",
       "features_same_day        0.614551\n",
       "features_previous_day    0.521684\n",
       "features_differences     0.516656"
      ]
     },
     "execution_count": 153,
     "metadata": {},
     "output_type": "execute_result"
    }
   ],
   "source": [
    "pd.DataFrame(data = y1000_lr_results, index = feature_set_names, columns = ['y1000'])"
   ]
  },
  {
   "cell_type": "code",
   "execution_count": 1356,
   "metadata": {},
   "outputs": [
    {
     "data": {
      "text/plain": [
       "['logSs_t1']"
      ]
     },
     "execution_count": 1356,
     "metadata": {},
     "output_type": "execute_result"
    }
   ],
   "source": [
    "feature_sets[1]"
   ]
  },
  {
   "cell_type": "code",
   "execution_count": 1081,
   "metadata": {},
   "outputs": [
    {
     "data": {
      "image/png": "[encoded data removed]",
      "text/plain": [
       "<Figure size 432x288 with 1 Axes>"
      ]
     },
     "metadata": {
      "needs_background": "light"
     },
     "output_type": "display_data"
    }
   ],
   "source": [
    "# ok this time the LASSO data set with just one variable won out:\n",
    "feat_importances = pd.Series(np.abs(lr_objects[1].steps[1][1].coef_[0]), # take absolute values\n",
    "                             # of importances\n",
    "                             index= feature_sets[1])\n",
    "feat_importances.nlargest(15).plot(kind='barh')\n",
    "plt.title(\"Top 15 important features\")\n",
    "plt.show()"
   ]
  },
  {
   "cell_type": "code",
   "execution_count": 1357,
   "metadata": {},
   "outputs": [
    {
     "data": {
      "text/html": [
       "<div>\n",
       "<style scoped>\n",
       "    .dataframe tbody tr th:only-of-type {\n",
       "        vertical-align: middle;\n",
       "    }\n",
       "\n",
       "    .dataframe tbody tr th {\n",
       "        vertical-align: top;\n",
       "    }\n",
       "\n",
       "    .dataframe thead th {\n",
       "        text-align: right;\n",
       "    }\n",
       "</style>\n",
       "<table border=\"1\" class=\"dataframe\">\n",
       "  <thead>\n",
       "    <tr style=\"text-align: right;\">\n",
       "      <th></th>\n",
       "      <th>y100</th>\n",
       "      <th>y200</th>\n",
       "      <th>y500</th>\n",
       "      <th>y1000</th>\n",
       "    </tr>\n",
       "  </thead>\n",
       "  <tbody>\n",
       "    <tr>\n",
       "      <th>features_all</th>\n",
       "      <td>0.573112</td>\n",
       "      <td>0.607317</td>\n",
       "      <td>0.551738</td>\n",
       "      <td>0.573067</td>\n",
       "    </tr>\n",
       "    <tr>\n",
       "      <th>features_lasso</th>\n",
       "      <td>0.686879</td>\n",
       "      <td>0.747569</td>\n",
       "      <td>0.555080</td>\n",
       "      <td>0.568825</td>\n",
       "    </tr>\n",
       "    <tr>\n",
       "      <th>features_VIF</th>\n",
       "      <td>0.723031</td>\n",
       "      <td>0.770447</td>\n",
       "      <td>0.540642</td>\n",
       "      <td>0.576367</td>\n",
       "    </tr>\n",
       "    <tr>\n",
       "      <th>features_biology</th>\n",
       "      <td>0.522523</td>\n",
       "      <td>0.570734</td>\n",
       "      <td>0.543984</td>\n",
       "      <td>0.579510</td>\n",
       "    </tr>\n",
       "    <tr>\n",
       "      <th>features_no_correlation</th>\n",
       "      <td>0.707785</td>\n",
       "      <td>0.746021</td>\n",
       "      <td>0.553342</td>\n",
       "      <td>0.578253</td>\n",
       "    </tr>\n",
       "    <tr>\n",
       "      <th>features_same_day</th>\n",
       "      <td>0.529106</td>\n",
       "      <td>0.584439</td>\n",
       "      <td>0.546257</td>\n",
       "      <td>0.562382</td>\n",
       "    </tr>\n",
       "    <tr>\n",
       "      <th>features_previous_day</th>\n",
       "      <td>0.563063</td>\n",
       "      <td>0.571729</td>\n",
       "      <td>0.558289</td>\n",
       "      <td>0.588152</td>\n",
       "    </tr>\n",
       "    <tr>\n",
       "      <th>features_differences</th>\n",
       "      <td>0.648764</td>\n",
       "      <td>0.597812</td>\n",
       "      <td>0.544385</td>\n",
       "      <td>0.583909</td>\n",
       "    </tr>\n",
       "  </tbody>\n",
       "</table>\n",
       "</div>"
      ],
      "text/plain": [
       "                             y100      y200      y500     y1000\n",
       "features_all             0.573112  0.607317  0.551738  0.573067\n",
       "features_lasso           0.686879  0.747569  0.555080  0.568825\n",
       "features_VIF             0.723031  0.770447  0.540642  0.576367\n",
       "features_biology         0.522523  0.570734  0.543984  0.579510\n",
       "features_no_correlation  0.707785  0.746021  0.553342  0.578253\n",
       "features_same_day        0.529106  0.584439  0.546257  0.562382\n",
       "features_previous_day    0.563063  0.571729  0.558289  0.588152\n",
       "features_differences     0.648764  0.597812  0.544385  0.583909"
      ]
     },
     "execution_count": 1357,
     "metadata": {},
     "output_type": "execute_result"
    }
   ],
   "source": [
    "# combine all results:\n",
    "pd.DataFrame(data = list(zip(y100_lr_results, y200_lr_results, y500_lr_results, y1000_lr_results)),\n",
    "                     index = feature_set_names, \n",
    "             columns = ['y100', 'y200', 'y500', 'y1000'])"
   ]
  },
  {
   "cell_type": "markdown",
   "metadata": {},
   "source": [
    "# Support Vector Machines"
   ]
  },
  {
   "cell_type": "markdown",
   "metadata": {},
   "source": [
    "Repeat all of the above for SVM"
   ]
  },
  {
   "cell_type": "code",
   "execution_count": 154,
   "metadata": {},
   "outputs": [],
   "source": [
    "features_lasso = list(larcv_coefs[larcv_coefs['y100'] > 1e-6].index.values)\n",
    "\n",
    "feature_sets = [features_all, features_lasso, features_VIF, features_no_correlation,\n",
    "               features_same_day, features_previous_day, features_differences]\n",
    "feature_set_names = ['features_all', 'features_lasso', 'features_VIF', 'features_no_correlation',\n",
    "                     'features_same_day', 'features_previous_day', 'features_differences']"
   ]
  },
  {
   "cell_type": "code",
   "execution_count": 156,
   "metadata": {},
   "outputs": [
    {
     "name": "stdout",
     "output_type": "stream",
     "text": [
      "Fitting 5 folds for each of 30 candidates, totalling 150 fits\n",
      "Fitting 5 folds for each of 30 candidates, totalling 150 fits\n",
      "Fitting 5 folds for each of 30 candidates, totalling 150 fits\n",
      "Fitting 5 folds for each of 30 candidates, totalling 150 fits\n",
      "Fitting 5 folds for each of 30 candidates, totalling 150 fits\n",
      "Fitting 5 folds for each of 30 candidates, totalling 150 fits\n",
      "Fitting 5 folds for each of 30 candidates, totalling 150 fits\n"
     ]
    }
   ],
   "source": [
    "# as above for threshold = 100 spores per day:\n",
    "\n",
    "y100_auc_test_scores = []\n",
    "y100_svm_models = []\n",
    "\n",
    "y100_svm_objects = []\n",
    "\n",
    "for features, name in zip(feature_sets, feature_set_names):\n",
    "    num_features = [i for i in features if i in numeric_features] \n",
    "    cat_features = [i for i in features if i in categorical_features] \n",
    "    \n",
    "    # create preprocessor\n",
    "    numeric_transformer = Pipeline([\n",
    "        ('scaler', StandardScaler()),\n",
    "        ('imputer', IterativeImputer(sample_posterior = False, \n",
    "                                     max_iter = 500, random_state = 356))\n",
    "    ])\n",
    "\n",
    "    categorical_transformer = Pipeline([\n",
    "        ('onehot', OneHotEncoder(sparse=False, handle_unknown='error', drop = 'first')),\n",
    "        ('imputer', SimpleImputer(strategy='most_frequent'))\n",
    "     ])\n",
    "    \n",
    "    preprocessor = ColumnTransformer([\n",
    "        ('numeric', numeric_transformer, num_features),\n",
    "        ('categorical', categorical_transformer, cat_features)\n",
    "    ])\n",
    "    \n",
    "    svm_pipeline = Pipeline([\n",
    "        ('preprocessor', preprocessor),\n",
    "        ('model', SVC(probability = True, random_state = 545))\n",
    "    ])\n",
    "\n",
    "    # I need to create\n",
    "    #   a dict of values I want to test in the random search\n",
    "    param_dist = {\n",
    "        'model__C'              : (0.01, 0.1, 1.0, 10, 100),\n",
    "        'model__class_weight'   : (None, 'balanced'),\n",
    "        'model__gamma'        : (0.01, 0.1, 1.0)\n",
    "    }\n",
    "\n",
    "    # Create the GridSearchCV\n",
    "    grid_search_auc = GridSearchCV(svm_pipeline,\n",
    "                              param_grid=param_dist,\n",
    "                              cv = 5,\n",
    "                              scoring = 'roc_auc', # maximize the auc score (ways to do multiple criteria)\n",
    "                              verbose = 1)\n",
    "    \n",
    "    # obtain AUC values from each of the models\n",
    "    grid_search_auc.fit(X_trainvalid_nosoil_log, y100_trainvalid_nosoil) \n",
    "    auc_score = ()\n",
    "    \n",
    "    preds = grid_search_auc.best_estimator_.predict_proba(X_test_nosoil_log)\n",
    "    \n",
    "    auc_score = roc_auc_score(y100_test_nosoil, preds[:,1])\n",
    "    \n",
    "    y100_auc_test_scores.append(auc_score)\n",
    "    \n",
    "    # save models in a dict\n",
    "    model = ()\n",
    "    model = grid_search_auc.best_estimator_.steps[1][1]\n",
    "    y100_svm_models.append(model)\n",
    "    \n",
    "    y100_svm_objects.append(grid_search_auc.best_estimator_)\n",
    "\n",
    "    y100_auc_test_scores\n",
    "    y100_svm_models\n",
    "    \n"
   ]
  },
  {
   "cell_type": "code",
   "execution_count": 157,
   "metadata": {},
   "outputs": [],
   "source": [
    "y100_svm_results = y100_auc_test_scores.copy()\n",
    "y100_svm_models = y100_svm_objects.copy()"
   ]
  },
  {
   "cell_type": "code",
   "execution_count": 158,
   "metadata": {},
   "outputs": [
    {
     "data": {
      "text/html": [
       "<div>\n",
       "<style scoped>\n",
       "    .dataframe tbody tr th:only-of-type {\n",
       "        vertical-align: middle;\n",
       "    }\n",
       "\n",
       "    .dataframe tbody tr th {\n",
       "        vertical-align: top;\n",
       "    }\n",
       "\n",
       "    .dataframe thead th {\n",
       "        text-align: right;\n",
       "    }\n",
       "</style>\n",
       "<table border=\"1\" class=\"dataframe\">\n",
       "  <thead>\n",
       "    <tr style=\"text-align: right;\">\n",
       "      <th></th>\n",
       "      <th>y100</th>\n",
       "    </tr>\n",
       "  </thead>\n",
       "  <tbody>\n",
       "    <tr>\n",
       "      <th>features_all</th>\n",
       "      <td>0.442134</td>\n",
       "    </tr>\n",
       "    <tr>\n",
       "      <th>features_lasso</th>\n",
       "      <td>0.686648</td>\n",
       "    </tr>\n",
       "    <tr>\n",
       "      <th>features_VIF</th>\n",
       "      <td>0.725341</td>\n",
       "    </tr>\n",
       "    <tr>\n",
       "      <th>features_no_correlation</th>\n",
       "      <td>0.724532</td>\n",
       "    </tr>\n",
       "    <tr>\n",
       "      <th>features_same_day</th>\n",
       "      <td>0.522754</td>\n",
       "    </tr>\n",
       "    <tr>\n",
       "      <th>features_previous_day</th>\n",
       "      <td>0.436013</td>\n",
       "    </tr>\n",
       "    <tr>\n",
       "      <th>features_differences</th>\n",
       "      <td>0.542389</td>\n",
       "    </tr>\n",
       "  </tbody>\n",
       "</table>\n",
       "</div>"
      ],
      "text/plain": [
       "                             y100\n",
       "features_all             0.442134\n",
       "features_lasso           0.686648\n",
       "features_VIF             0.725341\n",
       "features_no_correlation  0.724532\n",
       "features_same_day        0.522754\n",
       "features_previous_day    0.436013\n",
       "features_differences     0.542389"
      ]
     },
     "execution_count": 158,
     "metadata": {},
     "output_type": "execute_result"
    }
   ],
   "source": [
    "pd.DataFrame(data = y100_svm_results, index = feature_set_names, columns = ['y100'])"
   ]
  },
  {
   "cell_type": "markdown",
   "metadata": {},
   "source": [
    "Repeat for cuttoff of 200 ascospores per day:"
   ]
  },
  {
   "cell_type": "code",
   "execution_count": 1285,
   "metadata": {},
   "outputs": [],
   "source": [
    "features_lasso = list(larcv_coefs[larcv_coefs['y200'] > 1e-6].index.values)\n",
    "\n",
    "feature_sets = [features_all, features_lasso, features_VIF, features_no_correlation,\n",
    "               features_same_day, features_previous_day, features_differences]\n",
    "feature_set_names = ['features_all', 'features_lasso', 'features_VIF', 'features_no_correlation',\n",
    "                     'features_same_day', 'features_previous_day', 'features_differences']"
   ]
  },
  {
   "cell_type": "code",
   "execution_count": 159,
   "metadata": {},
   "outputs": [
    {
     "name": "stdout",
     "output_type": "stream",
     "text": [
      "Fitting 5 folds for each of 30 candidates, totalling 150 fits\n",
      "Fitting 5 folds for each of 30 candidates, totalling 150 fits\n",
      "Fitting 5 folds for each of 30 candidates, totalling 150 fits\n",
      "Fitting 5 folds for each of 30 candidates, totalling 150 fits\n",
      "Fitting 5 folds for each of 30 candidates, totalling 150 fits\n",
      "Fitting 5 folds for each of 30 candidates, totalling 150 fits\n",
      "Fitting 5 folds for each of 30 candidates, totalling 150 fits\n"
     ]
    }
   ],
   "source": [
    "# as above for threshold = 200 spores per day:\n",
    "\n",
    "y200_auc_test_scores = []\n",
    "y200_svm_models = []\n",
    "\n",
    "y200_svm_objects = []\n",
    "\n",
    "for features, name in zip(feature_sets, feature_set_names):\n",
    "    num_features = [i for i in features if i in numeric_features] \n",
    "    cat_features = [i for i in features if i in categorical_features] \n",
    "    \n",
    "    # create preprocessor\n",
    "    numeric_transformer = Pipeline([\n",
    "        ('scaler', StandardScaler()),\n",
    "        ('imputer', IterativeImputer(sample_posterior = False, \n",
    "                                     max_iter = 500, random_state = 356))\n",
    "    ])\n",
    "\n",
    "    categorical_transformer = Pipeline([\n",
    "        ('onehot', OneHotEncoder(sparse=False, handle_unknown='error', drop = 'first')),\n",
    "        ('imputer', SimpleImputer(strategy='most_frequent'))\n",
    "     ])\n",
    "    \n",
    "    preprocessor = ColumnTransformer([\n",
    "        ('numeric', numeric_transformer, num_features),\n",
    "        ('categorical', categorical_transformer, cat_features)\n",
    "    ])\n",
    "    \n",
    "    svm_pipeline = Pipeline([\n",
    "        ('preprocessor', preprocessor),\n",
    "        ('model', SVC(probability = True, random_state = 545))\n",
    "    ])\n",
    "\n",
    "    # I need to create\n",
    "    #   a dict of values I want to test in the random search\n",
    "    param_dist = {\n",
    "        'model__C'              : (0.01, 0.1, 1.0, 10, 100),\n",
    "        'model__class_weight'   : (None, 'balanced'),\n",
    "        'model__gamma'        : (0.01, 0.1, 1.0)\n",
    "    }\n",
    "\n",
    "    # Create the GridSearchCV\n",
    "    grid_search_auc = GridSearchCV(svm_pipeline,\n",
    "                              param_grid=param_dist,\n",
    "                              cv = 5,\n",
    "                              scoring = 'roc_auc', # maximize the auc score (ways to do multiple criteria)\n",
    "                              verbose = 1)\n",
    "    \n",
    "    # obtain AUC values from each of the models\n",
    "    grid_search_auc.fit(X_trainvalid_nosoil_log, y200_trainvalid_nosoil) \n",
    "    auc_score = ()\n",
    "    \n",
    "    preds = grid_search_auc.best_estimator_.predict_proba(X_test_nosoil_log)\n",
    "    \n",
    "    auc_score = roc_auc_score(y200_test_nosoil, preds[:,1])\n",
    "    \n",
    "    y200_auc_test_scores.append(auc_score)\n",
    "    \n",
    "    # save models in a dict\n",
    "    model = ()\n",
    "    model = grid_search_auc.best_estimator_.steps[1][1]\n",
    "    y200_svm_models.append(model)\n",
    "    \n",
    "    y200_svm_objects.append(grid_search_auc.best_estimator_)\n",
    "\n",
    "    y200_auc_test_scores\n",
    "    y200_svm_models\n",
    "    \n"
   ]
  },
  {
   "cell_type": "code",
   "execution_count": 160,
   "metadata": {},
   "outputs": [],
   "source": [
    "y200_svm_results = y200_auc_test_scores.copy()\n",
    "y200_svm_models = y200_svm_objects.copy()"
   ]
  },
  {
   "cell_type": "code",
   "execution_count": 161,
   "metadata": {},
   "outputs": [
    {
     "data": {
      "text/html": [
       "<div>\n",
       "<style scoped>\n",
       "    .dataframe tbody tr th:only-of-type {\n",
       "        vertical-align: middle;\n",
       "    }\n",
       "\n",
       "    .dataframe tbody tr th {\n",
       "        vertical-align: top;\n",
       "    }\n",
       "\n",
       "    .dataframe thead th {\n",
       "        text-align: right;\n",
       "    }\n",
       "</style>\n",
       "<table border=\"1\" class=\"dataframe\">\n",
       "  <thead>\n",
       "    <tr style=\"text-align: right;\">\n",
       "      <th></th>\n",
       "      <th>y200</th>\n",
       "    </tr>\n",
       "  </thead>\n",
       "  <tbody>\n",
       "    <tr>\n",
       "      <th>features_all</th>\n",
       "      <td>0.401359</td>\n",
       "    </tr>\n",
       "    <tr>\n",
       "      <th>features_lasso</th>\n",
       "      <td>0.751216</td>\n",
       "    </tr>\n",
       "    <tr>\n",
       "      <th>features_VIF</th>\n",
       "      <td>0.769065</td>\n",
       "    </tr>\n",
       "    <tr>\n",
       "      <th>features_no_correlation</th>\n",
       "      <td>0.765805</td>\n",
       "    </tr>\n",
       "    <tr>\n",
       "      <th>features_same_day</th>\n",
       "      <td>0.424790</td>\n",
       "    </tr>\n",
       "    <tr>\n",
       "      <th>features_previous_day</th>\n",
       "      <td>0.433908</td>\n",
       "    </tr>\n",
       "    <tr>\n",
       "      <th>features_differences</th>\n",
       "      <td>0.575652</td>\n",
       "    </tr>\n",
       "  </tbody>\n",
       "</table>\n",
       "</div>"
      ],
      "text/plain": [
       "                             y200\n",
       "features_all             0.401359\n",
       "features_lasso           0.751216\n",
       "features_VIF             0.769065\n",
       "features_no_correlation  0.765805\n",
       "features_same_day        0.424790\n",
       "features_previous_day    0.433908\n",
       "features_differences     0.575652"
      ]
     },
     "execution_count": 161,
     "metadata": {},
     "output_type": "execute_result"
    }
   ],
   "source": [
    "pd.DataFrame(data = y200_svm_results, index = feature_set_names, columns = ['y200'])"
   ]
  },
  {
   "cell_type": "code",
   "execution_count": null,
   "metadata": {},
   "outputs": [],
   "source": []
  },
  {
   "cell_type": "markdown",
   "metadata": {},
   "source": [
    "Repeat for features cutoff of 500 ascospores per day:"
   ]
  },
  {
   "cell_type": "code",
   "execution_count": 162,
   "metadata": {},
   "outputs": [],
   "source": [
    "features_lasso = list(larcv_coefs[larcv_coefs['y500'] > 1e-6].index.values)\n",
    "\n",
    "feature_sets = [features_all, features_lasso, features_VIF, features_no_correlation,\n",
    "               features_same_day, features_previous_day, features_differences]\n",
    "feature_set_names = ['features_all', 'features_lasso', 'features_VIF', 'features_no_correlation',\n",
    "                     'features_same_day', 'features_previous_day', 'features_differences']"
   ]
  },
  {
   "cell_type": "code",
   "execution_count": 163,
   "metadata": {
    "scrolled": true
   },
   "outputs": [
    {
     "name": "stdout",
     "output_type": "stream",
     "text": [
      "Fitting 5 folds for each of 30 candidates, totalling 150 fits\n",
      "Fitting 5 folds for each of 30 candidates, totalling 150 fits\n",
      "Fitting 5 folds for each of 30 candidates, totalling 150 fits\n",
      "Fitting 5 folds for each of 30 candidates, totalling 150 fits\n",
      "Fitting 5 folds for each of 30 candidates, totalling 150 fits\n",
      "Fitting 5 folds for each of 30 candidates, totalling 150 fits\n",
      "Fitting 5 folds for each of 30 candidates, totalling 150 fits\n"
     ]
    }
   ],
   "source": [
    "# as above for threshold = 500 spores per day:\n",
    "\n",
    "y500_auc_test_scores = []\n",
    "y500_svm_models = []\n",
    "\n",
    "y500_svm_objects = []\n",
    "\n",
    "for features, name in zip(feature_sets, feature_set_names):\n",
    "    num_features = [i for i in features if i in numeric_features] \n",
    "    cat_features = [i for i in features if i in categorical_features] \n",
    "    \n",
    "    # create preprocessor\n",
    "    numeric_transformer = Pipeline([\n",
    "        ('scaler', StandardScaler()),\n",
    "        ('imputer', IterativeImputer(sample_posterior = False, \n",
    "                                     max_iter = 500, random_state = 356))\n",
    "    ])\n",
    "\n",
    "    categorical_transformer = Pipeline([\n",
    "        ('onehot', OneHotEncoder(sparse=False, handle_unknown='error', drop = 'first')),\n",
    "        ('imputer', SimpleImputer(strategy='most_frequent'))\n",
    "     ])\n",
    "    \n",
    "    preprocessor = ColumnTransformer([\n",
    "        ('numeric', numeric_transformer, num_features),\n",
    "        ('categorical', categorical_transformer, cat_features)\n",
    "    ])\n",
    "    \n",
    "    svm_pipeline = Pipeline([\n",
    "        ('preprocessor', preprocessor),\n",
    "        ('model', SVC(probability = True, random_state = 545))\n",
    "    ])\n",
    "\n",
    "    # I need to create\n",
    "    #   a dict of values I want to test in the random search\n",
    "    param_dist = {\n",
    "        'model__C'              : (0.01, 0.1, 1.0, 10, 100),\n",
    "        'model__class_weight'   : (None, 'balanced'),\n",
    "        'model__gamma'        : (0.01, 0.1, 1.0)\n",
    "    }\n",
    "\n",
    "    # Create the GridSearchCV\n",
    "    grid_search_auc = GridSearchCV(svm_pipeline,\n",
    "                              param_grid=param_dist,\n",
    "                              cv = 5,\n",
    "                              scoring = 'roc_auc', # maximize the auc score (ways to do multiple criteria)\n",
    "                              verbose = 1)\n",
    "    \n",
    "    # obtain AUC values from each of the models\n",
    "    grid_search_auc.fit(X_trainvalid_nosoil_log, y500_trainvalid_nosoil) \n",
    "    auc_score = ()\n",
    "    \n",
    "    preds = grid_search_auc.best_estimator_.predict_proba(X_test_nosoil_log)\n",
    "    \n",
    "    auc_score = roc_auc_score(y500_test_nosoil, preds[:,1])\n",
    "    \n",
    "    y500_auc_test_scores.append(auc_score)\n",
    "    \n",
    "    # save models in a dict\n",
    "    model = ()\n",
    "    model = grid_search_auc.best_estimator_.steps[1][1]\n",
    "    y500_svm_models.append(model)\n",
    "    \n",
    "    y500_svm_objects.append(grid_search_auc.best_estimator_)\n",
    "\n",
    "    y500_auc_test_scores\n",
    "    y500_svm_models\n",
    "    \n"
   ]
  },
  {
   "cell_type": "code",
   "execution_count": 1282,
   "metadata": {},
   "outputs": [],
   "source": [
    "#preds[:,0]\n",
    "#preds = y500_svm_models[0].predict_proba(X_test_nosoil_log)\n",
    "#roc_auc_score(y500_test_nosoil, preds[:,0])\n"
   ]
  },
  {
   "cell_type": "code",
   "execution_count": 164,
   "metadata": {},
   "outputs": [],
   "source": [
    "y500_svm_results = y500_auc_test_scores.copy()\n",
    "y500_svm_models = y500_svm_objects.copy()"
   ]
  },
  {
   "cell_type": "code",
   "execution_count": 165,
   "metadata": {},
   "outputs": [
    {
     "data": {
      "text/html": [
       "<div>\n",
       "<style scoped>\n",
       "    .dataframe tbody tr th:only-of-type {\n",
       "        vertical-align: middle;\n",
       "    }\n",
       "\n",
       "    .dataframe tbody tr th {\n",
       "        vertical-align: top;\n",
       "    }\n",
       "\n",
       "    .dataframe thead th {\n",
       "        text-align: right;\n",
       "    }\n",
       "</style>\n",
       "<table border=\"1\" class=\"dataframe\">\n",
       "  <thead>\n",
       "    <tr style=\"text-align: right;\">\n",
       "      <th></th>\n",
       "      <th>y500</th>\n",
       "    </tr>\n",
       "  </thead>\n",
       "  <tbody>\n",
       "    <tr>\n",
       "      <th>features_all</th>\n",
       "      <td>0.433957</td>\n",
       "    </tr>\n",
       "    <tr>\n",
       "      <th>features_lasso</th>\n",
       "      <td>0.764037</td>\n",
       "    </tr>\n",
       "    <tr>\n",
       "      <th>features_VIF</th>\n",
       "      <td>0.758757</td>\n",
       "    </tr>\n",
       "    <tr>\n",
       "      <th>features_no_correlation</th>\n",
       "      <td>0.745455</td>\n",
       "    </tr>\n",
       "    <tr>\n",
       "      <th>features_same_day</th>\n",
       "      <td>0.544853</td>\n",
       "    </tr>\n",
       "    <tr>\n",
       "      <th>features_previous_day</th>\n",
       "      <td>0.425668</td>\n",
       "    </tr>\n",
       "    <tr>\n",
       "      <th>features_differences</th>\n",
       "      <td>0.558021</td>\n",
       "    </tr>\n",
       "  </tbody>\n",
       "</table>\n",
       "</div>"
      ],
      "text/plain": [
       "                             y500\n",
       "features_all             0.433957\n",
       "features_lasso           0.764037\n",
       "features_VIF             0.758757\n",
       "features_no_correlation  0.745455\n",
       "features_same_day        0.544853\n",
       "features_previous_day    0.425668\n",
       "features_differences     0.558021"
      ]
     },
     "execution_count": 165,
     "metadata": {},
     "output_type": "execute_result"
    }
   ],
   "source": [
    "pd.DataFrame(data = y500_svm_results, index = feature_set_names, columns = ['y500'])"
   ]
  },
  {
   "cell_type": "code",
   "execution_count": null,
   "metadata": {},
   "outputs": [],
   "source": []
  },
  {
   "cell_type": "markdown",
   "metadata": {},
   "source": [
    "Repeat for 1,000 ascospores per day"
   ]
  },
  {
   "cell_type": "code",
   "execution_count": 1280,
   "metadata": {},
   "outputs": [],
   "source": [
    "features_lasso = list(larcv_coefs[larcv_coefs['y1000'] > 1e-6].index.values)\n",
    "\n",
    "feature_sets = [features_all, features_lasso, features_VIF, features_no_correlation,\n",
    "               features_same_day, features_previous_day, features_differences]\n",
    "feature_set_names = ['features_all', 'features_lasso', 'features_VIF', 'features_no_correlation',\n",
    "                     'features_same_day', 'features_previous_day', 'features_differences']"
   ]
  },
  {
   "cell_type": "code",
   "execution_count": 166,
   "metadata": {
    "scrolled": true
   },
   "outputs": [
    {
     "name": "stdout",
     "output_type": "stream",
     "text": [
      "Fitting 5 folds for each of 30 candidates, totalling 150 fits\n",
      "Fitting 5 folds for each of 30 candidates, totalling 150 fits\n",
      "Fitting 5 folds for each of 30 candidates, totalling 150 fits\n",
      "Fitting 5 folds for each of 30 candidates, totalling 150 fits\n",
      "Fitting 5 folds for each of 30 candidates, totalling 150 fits\n",
      "Fitting 5 folds for each of 30 candidates, totalling 150 fits\n",
      "Fitting 5 folds for each of 30 candidates, totalling 150 fits\n"
     ]
    }
   ],
   "source": [
    "# as above for threshold = 1000 spores per day:\n",
    "\n",
    "y1000_auc_test_scores = []\n",
    "y1000_svm_models = []\n",
    "\n",
    "y1000_svm_objects = []\n",
    "\n",
    "for features, name in zip(feature_sets, feature_set_names):\n",
    "    num_features = [i for i in features if i in numeric_features] \n",
    "    cat_features = [i for i in features if i in categorical_features] \n",
    "    \n",
    "    # create preprocessor\n",
    "    numeric_transformer = Pipeline([\n",
    "        ('scaler', StandardScaler()),\n",
    "        ('imputer', IterativeImputer(sample_posterior = False, \n",
    "                                     max_iter = 500, random_state = 356))\n",
    "    ])\n",
    "\n",
    "    categorical_transformer = Pipeline([\n",
    "        ('onehot', OneHotEncoder(sparse=False, handle_unknown='error', drop = 'first')),\n",
    "        ('imputer', SimpleImputer(strategy='most_frequent'))\n",
    "     ])\n",
    "    \n",
    "    preprocessor = ColumnTransformer([\n",
    "        ('numeric', numeric_transformer, num_features),\n",
    "        ('categorical', categorical_transformer, cat_features)\n",
    "    ])\n",
    "    \n",
    "    svm_pipeline = Pipeline([\n",
    "        ('preprocessor', preprocessor),\n",
    "        ('model', SVC(probability = True, random_state = 545))\n",
    "    ])\n",
    "\n",
    "    # I need to create\n",
    "    #   a dict of values I want to test in the random search\n",
    "    param_dist = {\n",
    "        'model__C'              : (0.01, 0.1, 1.0, 10, 100),\n",
    "        'model__class_weight'   : (None, 'balanced'),\n",
    "        'model__gamma'        : (0.01, 0.1, 1.0)\n",
    "    }\n",
    "\n",
    "    # Create the GridSearchCV\n",
    "    grid_search_auc = GridSearchCV(svm_pipeline,\n",
    "                              param_grid=param_dist,\n",
    "                              cv = 5,\n",
    "                              scoring = 'roc_auc', # maximize the auc score (ways to do multiple criteria)\n",
    "                              verbose = 1)\n",
    "    \n",
    "    # obtain AUC values from each of the models\n",
    "    grid_search_auc.fit(X_trainvalid_nosoil_log, y1000_trainvalid_nosoil) \n",
    "    auc_score = ()\n",
    "    \n",
    "    preds = grid_search_auc.best_estimator_.predict_proba(X_test_nosoil_log)\n",
    "    \n",
    "    auc_score = roc_auc_score(y1000_test_nosoil, preds[:,1])\n",
    "    \n",
    "    y1000_auc_test_scores.append(auc_score)\n",
    "    \n",
    "    # save models in a dict\n",
    "    model = ()\n",
    "    model = grid_search_auc.best_estimator_.steps[1][1]\n",
    "    y1000_svm_models.append(model)\n",
    "    \n",
    "    y1000_svm_objects.append(grid_search_auc.best_estimator_)\n",
    "\n",
    "    y1000_auc_test_scores\n",
    "    y1000_svm_models\n",
    "    \n"
   ]
  },
  {
   "cell_type": "code",
   "execution_count": 167,
   "metadata": {},
   "outputs": [],
   "source": [
    "y1000_svm_results = y1000_auc_test_scores.copy()\n",
    "y1000_svm_models = y1000_svm_objects.copy()"
   ]
  },
  {
   "cell_type": "code",
   "execution_count": 168,
   "metadata": {
    "scrolled": true
   },
   "outputs": [
    {
     "data": {
      "text/html": [
       "<div>\n",
       "<style scoped>\n",
       "    .dataframe tbody tr th:only-of-type {\n",
       "        vertical-align: middle;\n",
       "    }\n",
       "\n",
       "    .dataframe tbody tr th {\n",
       "        vertical-align: top;\n",
       "    }\n",
       "\n",
       "    .dataframe thead th {\n",
       "        text-align: right;\n",
       "    }\n",
       "</style>\n",
       "<table border=\"1\" class=\"dataframe\">\n",
       "  <thead>\n",
       "    <tr style=\"text-align: right;\">\n",
       "      <th></th>\n",
       "      <th>y1000</th>\n",
       "    </tr>\n",
       "  </thead>\n",
       "  <tbody>\n",
       "    <tr>\n",
       "      <th>features_all</th>\n",
       "      <td>0.535512</td>\n",
       "    </tr>\n",
       "    <tr>\n",
       "      <th>features_lasso</th>\n",
       "      <td>0.778284</td>\n",
       "    </tr>\n",
       "    <tr>\n",
       "      <th>features_VIF</th>\n",
       "      <td>0.749529</td>\n",
       "    </tr>\n",
       "    <tr>\n",
       "      <th>features_no_correlation</th>\n",
       "      <td>0.764535</td>\n",
       "    </tr>\n",
       "    <tr>\n",
       "      <th>features_same_day</th>\n",
       "      <td>0.402891</td>\n",
       "    </tr>\n",
       "    <tr>\n",
       "      <th>features_previous_day</th>\n",
       "      <td>0.465745</td>\n",
       "    </tr>\n",
       "    <tr>\n",
       "      <th>features_differences</th>\n",
       "      <td>0.560497</td>\n",
       "    </tr>\n",
       "  </tbody>\n",
       "</table>\n",
       "</div>"
      ],
      "text/plain": [
       "                            y1000\n",
       "features_all             0.535512\n",
       "features_lasso           0.778284\n",
       "features_VIF             0.749529\n",
       "features_no_correlation  0.764535\n",
       "features_same_day        0.402891\n",
       "features_previous_day    0.465745\n",
       "features_differences     0.560497"
      ]
     },
     "execution_count": 168,
     "metadata": {},
     "output_type": "execute_result"
    }
   ],
   "source": [
    "pd.DataFrame(data = y1000_svm_results, index = feature_set_names, columns = ['y1000'])"
   ]
  },
  {
   "cell_type": "code",
   "execution_count": 169,
   "metadata": {},
   "outputs": [
    {
     "data": {
      "text/html": [
       "<div>\n",
       "<style scoped>\n",
       "    .dataframe tbody tr th:only-of-type {\n",
       "        vertical-align: middle;\n",
       "    }\n",
       "\n",
       "    .dataframe tbody tr th {\n",
       "        vertical-align: top;\n",
       "    }\n",
       "\n",
       "    .dataframe thead th {\n",
       "        text-align: right;\n",
       "    }\n",
       "</style>\n",
       "<table border=\"1\" class=\"dataframe\">\n",
       "  <thead>\n",
       "    <tr style=\"text-align: right;\">\n",
       "      <th></th>\n",
       "      <th>y100</th>\n",
       "      <th>y200</th>\n",
       "      <th>y500</th>\n",
       "      <th>y1000</th>\n",
       "    </tr>\n",
       "  </thead>\n",
       "  <tbody>\n",
       "    <tr>\n",
       "      <th>features_all</th>\n",
       "      <td>0.442134</td>\n",
       "      <td>0.401359</td>\n",
       "      <td>0.433957</td>\n",
       "      <td>0.535512</td>\n",
       "    </tr>\n",
       "    <tr>\n",
       "      <th>features_lasso</th>\n",
       "      <td>0.686648</td>\n",
       "      <td>0.751216</td>\n",
       "      <td>0.764037</td>\n",
       "      <td>0.778284</td>\n",
       "    </tr>\n",
       "    <tr>\n",
       "      <th>features_VIF</th>\n",
       "      <td>0.725341</td>\n",
       "      <td>0.769065</td>\n",
       "      <td>0.758757</td>\n",
       "      <td>0.749529</td>\n",
       "    </tr>\n",
       "    <tr>\n",
       "      <th>features_no_correlation</th>\n",
       "      <td>0.724532</td>\n",
       "      <td>0.765805</td>\n",
       "      <td>0.745455</td>\n",
       "      <td>0.764535</td>\n",
       "    </tr>\n",
       "    <tr>\n",
       "      <th>features_same_day</th>\n",
       "      <td>0.522754</td>\n",
       "      <td>0.424790</td>\n",
       "      <td>0.544853</td>\n",
       "      <td>0.402891</td>\n",
       "    </tr>\n",
       "    <tr>\n",
       "      <th>features_previous_day</th>\n",
       "      <td>0.436013</td>\n",
       "      <td>0.433908</td>\n",
       "      <td>0.425668</td>\n",
       "      <td>0.465745</td>\n",
       "    </tr>\n",
       "    <tr>\n",
       "      <th>features_differences</th>\n",
       "      <td>0.542389</td>\n",
       "      <td>0.575652</td>\n",
       "      <td>0.558021</td>\n",
       "      <td>0.560497</td>\n",
       "    </tr>\n",
       "  </tbody>\n",
       "</table>\n",
       "</div>"
      ],
      "text/plain": [
       "                             y100      y200      y500     y1000\n",
       "features_all             0.442134  0.401359  0.433957  0.535512\n",
       "features_lasso           0.686648  0.751216  0.764037  0.778284\n",
       "features_VIF             0.725341  0.769065  0.758757  0.749529\n",
       "features_no_correlation  0.724532  0.765805  0.745455  0.764535\n",
       "features_same_day        0.522754  0.424790  0.544853  0.402891\n",
       "features_previous_day    0.436013  0.433908  0.425668  0.465745\n",
       "features_differences     0.542389  0.575652  0.558021  0.560497"
      ]
     },
     "execution_count": 169,
     "metadata": {},
     "output_type": "execute_result"
    }
   ],
   "source": [
    "# combine all data for final results table:\n",
    "# combine all results:\n",
    "pd.DataFrame(data = list(zip(y100_svm_results, y200_svm_results, y500_svm_results, y1000_svm_results)),\n",
    "                     index = feature_set_names, \n",
    "             columns = ['y100', 'y200', 'y500', 'y1000'])"
   ]
  },
  {
   "cell_type": "code",
   "execution_count": 1206,
   "metadata": {},
   "outputs": [
    {
     "data": {
      "text/plain": [
       "55"
      ]
     },
     "execution_count": 1206,
     "metadata": {},
     "output_type": "execute_result"
    }
   ],
   "source": [
    "# predictions are different between runs... would I have to \n",
    "y1000_svm_models[2].predict(X_test_nosoil_log).sum()"
   ]
  },
  {
   "cell_type": "code",
   "execution_count": 1220,
   "metadata": {},
   "outputs": [
    {
     "data": {
      "text/plain": [
       "make_scorer(roc_auc_score, needs_threshold=True)"
      ]
     },
     "execution_count": 1220,
     "metadata": {},
     "output_type": "execute_result"
    }
   ],
   "source": [
    "grid_search_auc.best_estimator_.score(X_trainvalid_nosoil_log, y1000_trainvalid_nosoil)\n",
    "# pd.DataFrame(grid_search_auc.cv_results_)\n",
    "grid_search_auc.scorer_"
   ]
  },
  {
   "cell_type": "code",
   "execution_count": 1213,
   "metadata": {},
   "outputs": [
    {
     "data": {
      "text/plain": [
       "SVC(C=10, gamma=0.1, probability=True, random_state=545)"
      ]
     },
     "execution_count": 1213,
     "metadata": {},
     "output_type": "execute_result"
    }
   ],
   "source": [
    "#y100_svm_objects\n",
    "y1000_svm_models[7][1]"
   ]
  },
  {
   "cell_type": "code",
   "execution_count": 1242,
   "metadata": {},
   "outputs": [
    {
     "data": {
      "text/plain": [
       "0.6236144578313253"
      ]
     },
     "execution_count": 1242,
     "metadata": {},
     "output_type": "execute_result"
    }
   ],
   "source": [
    "y1000_svm_pred = y1000_svm_models[7].predict(X_test_nosoil_log)\n",
    "auc_val = roc_auc_score(y1000_svm_pred, y1000_test_nosoil)\n",
    "auc_val"
   ]
  },
  {
   "cell_type": "code",
   "execution_count": 1240,
   "metadata": {
    "scrolled": true
   },
   "outputs": [
    {
     "data": {
      "text/html": [
       "<div>\n",
       "<style scoped>\n",
       "    .dataframe tbody tr th:only-of-type {\n",
       "        vertical-align: middle;\n",
       "    }\n",
       "\n",
       "    .dataframe tbody tr th {\n",
       "        vertical-align: top;\n",
       "    }\n",
       "\n",
       "    .dataframe thead th {\n",
       "        text-align: right;\n",
       "    }\n",
       "</style>\n",
       "<table border=\"1\" class=\"dataframe\">\n",
       "  <thead>\n",
       "    <tr style=\"text-align: right;\">\n",
       "      <th></th>\n",
       "      <th>value</th>\n",
       "    </tr>\n",
       "  </thead>\n",
       "  <tbody>\n",
       "    <tr>\n",
       "      <th>accuracy</th>\n",
       "      <td>0.759162</td>\n",
       "    </tr>\n",
       "    <tr>\n",
       "      <th>precision</th>\n",
       "      <td>0.440000</td>\n",
       "    </tr>\n",
       "    <tr>\n",
       "      <th>recall</th>\n",
       "      <td>0.255814</td>\n",
       "    </tr>\n",
       "    <tr>\n",
       "      <th>specificity</th>\n",
       "      <td>0.905405</td>\n",
       "    </tr>\n",
       "    <tr>\n",
       "      <th>F1</th>\n",
       "      <td>0.323529</td>\n",
       "    </tr>\n",
       "    <tr>\n",
       "      <th>AUC</th>\n",
       "      <td>0.580610</td>\n",
       "    </tr>\n",
       "  </tbody>\n",
       "</table>\n",
       "</div>"
      ],
      "text/plain": [
       "                value\n",
       "accuracy     0.759162\n",
       "precision    0.440000\n",
       "recall       0.255814\n",
       "specificity  0.905405\n",
       "F1           0.323529\n",
       "AUC          0.580610"
      ]
     },
     "execution_count": 1240,
     "metadata": {},
     "output_type": "execute_result"
    }
   ],
   "source": [
    "# I think only LR has probabilities; therefore maybe use the non-probability metrics:\n",
    "y1000_svm_pred = y1000_svm_models[7].predict(X_test_nosoil_log)\n",
    "\n",
    "#y1000_sm_pred = y1000_svm_models[2].\n",
    "\n",
    "score_metrics_no_prob(y1000_test_nosoil, y1000_svm_pred)"
   ]
  },
  {
   "cell_type": "code",
   "execution_count": null,
   "metadata": {},
   "outputs": [],
   "source": []
  },
  {
   "cell_type": "markdown",
   "metadata": {},
   "source": [
    "## Classification model evaluation statistics AND feature importances for all models:"
   ]
  },
  {
   "cell_type": "markdown",
   "metadata": {},
   "source": [
    "Here I'll summarize the models based on the statistics I've decided on above (in the 'score_metrics()' function I've defined). These are primarily for the classification models.\n",
    "\n",
    "I'm going to focus on VIF-models "
   ]
  },
  {
   "cell_type": "markdown",
   "metadata": {},
   "source": [
    "First, create null models for all of these:"
   ]
  },
  {
   "cell_type": "code",
   "execution_count": null,
   "metadata": {},
   "outputs": [],
   "source": []
  },
  {
   "cell_type": "code",
   "execution_count": 210,
   "metadata": {},
   "outputs": [],
   "source": [
    "# evaluate null models:\n",
    "dummy_reg = DummyRegressor()\n",
    "dummy_reg.fit(X_trainvalid_nosoil_log, y_trainvalid_nosoil_log)\n",
    "\n",
    "dc_100 = DummyClassifier(strategy='prior')\n",
    "dc_100.fit(X_trainvalid_nosoil_log, y100_trainvalid_nosoil)\n",
    "\n",
    "dc_200 = DummyClassifier(strategy='prior')\n",
    "dc_200.fit(X_trainvalid_nosoil_log, y200_trainvalid_nosoil)\n",
    "\n",
    "dc_500 = DummyClassifier(strategy='prior')\n",
    "dc_500.fit(X_trainvalid_nosoil_log, y500_trainvalid_nosoil)\n",
    "\n",
    "dc_1000 = DummyClassifier(strategy='prior')\n",
    "dc_1000.fit(X_trainvalid_nosoil_log, y1000_trainvalid_nosoil);\n",
    "\n",
    "#rf500_probs = y500_rf_models[2].predict_proba(X_test_nosoil_log)\n",
    "\n",
    "#score_metrics(y500_test_nosoil, rf500_probs[:,1], 0.5)"
   ]
  },
  {
   "cell_type": "code",
   "execution_count": 204,
   "metadata": {},
   "outputs": [
    {
     "name": "stdout",
     "output_type": "stream",
     "text": [
      "-0.06287204887821218\n",
      "inf\n",
      "0.6916652091441942\n"
     ]
    }
   ],
   "source": [
    "# for regression:\n",
    "preds = dummy_reg.predict(X_test_nosoil_log)\n",
    "print(r2_score(y_test_nosoil_log, preds))\n",
    "print(100*np.mean(np.abs((preds - y_test_nosoil_log)/y_test_nosoil_log)))\n",
    "print(mean_squared_error(y_test_nosoil_log, preds))"
   ]
  },
  {
   "cell_type": "code",
   "execution_count": 212,
   "metadata": {},
   "outputs": [
    {
     "name": "stderr",
     "output_type": "stream",
     "text": [
      "<ipython-input-2-d6cf8bb53d5f>:13: RuntimeWarning: invalid value encountered in long_scalars\n",
      "  precision = tp / (tp + fp)\n",
      "<ipython-input-2-d6cf8bb53d5f>:13: RuntimeWarning: invalid value encountered in long_scalars\n",
      "  precision = tp / (tp + fp)\n"
     ]
    },
    {
     "data": {
      "text/html": [
       "<div>\n",
       "<style scoped>\n",
       "    .dataframe tbody tr th:only-of-type {\n",
       "        vertical-align: middle;\n",
       "    }\n",
       "\n",
       "    .dataframe tbody tr th {\n",
       "        vertical-align: top;\n",
       "    }\n",
       "\n",
       "    .dataframe thead th {\n",
       "        text-align: right;\n",
       "    }\n",
       "</style>\n",
       "<table border=\"1\" class=\"dataframe\">\n",
       "  <thead>\n",
       "    <tr style=\"text-align: right;\">\n",
       "      <th></th>\n",
       "      <th>y100</th>\n",
       "      <th>y200</th>\n",
       "      <th>y500</th>\n",
       "      <th>y1000</th>\n",
       "    </tr>\n",
       "  </thead>\n",
       "  <tbody>\n",
       "    <tr>\n",
       "      <th>accuracy</th>\n",
       "      <td>0.612565</td>\n",
       "      <td>0.455497</td>\n",
       "      <td>0.712042</td>\n",
       "      <td>0.774869</td>\n",
       "    </tr>\n",
       "    <tr>\n",
       "      <th>precision</th>\n",
       "      <td>0.612565</td>\n",
       "      <td>0.455497</td>\n",
       "      <td>NaN</td>\n",
       "      <td>NaN</td>\n",
       "    </tr>\n",
       "    <tr>\n",
       "      <th>recall</th>\n",
       "      <td>1.000000</td>\n",
       "      <td>1.000000</td>\n",
       "      <td>0.000000</td>\n",
       "      <td>0.000000</td>\n",
       "    </tr>\n",
       "    <tr>\n",
       "      <th>specificity</th>\n",
       "      <td>0.000000</td>\n",
       "      <td>0.000000</td>\n",
       "      <td>1.000000</td>\n",
       "      <td>1.000000</td>\n",
       "    </tr>\n",
       "    <tr>\n",
       "      <th>F1</th>\n",
       "      <td>0.759740</td>\n",
       "      <td>0.625899</td>\n",
       "      <td>NaN</td>\n",
       "      <td>NaN</td>\n",
       "    </tr>\n",
       "    <tr>\n",
       "      <th>AUC</th>\n",
       "      <td>0.500000</td>\n",
       "      <td>0.500000</td>\n",
       "      <td>0.500000</td>\n",
       "      <td>0.500000</td>\n",
       "    </tr>\n",
       "  </tbody>\n",
       "</table>\n",
       "</div>"
      ],
      "text/plain": [
       "                 y100      y200      y500     y1000\n",
       "accuracy     0.612565  0.455497  0.712042  0.774869\n",
       "precision    0.612565  0.455497       NaN       NaN\n",
       "recall       1.000000  1.000000  0.000000  0.000000\n",
       "specificity  0.000000  0.000000  1.000000  1.000000\n",
       "F1           0.759740  0.625899       NaN       NaN\n",
       "AUC          0.500000  0.500000  0.500000  0.500000"
      ]
     },
     "execution_count": 212,
     "metadata": {},
     "output_type": "execute_result"
    }
   ],
   "source": [
    "# for classification:\n",
    "dummy_model_sets = [dc_100, dc_200, dc_500, dc_1000]\n",
    "test_sets = [y100_test_nosoil, y200_test_nosoil, y500_test_nosoil, y1000_test_nosoil]\n",
    "\n",
    "dummy_scores_df = pd.DataFrame()\n",
    "\n",
    "for models, test in zip(dummy_model_sets, test_sets):\n",
    "    probs = models.predict_proba(X_test_nosoil_log)\n",
    "    \n",
    "    scores = score_metrics(test, probs[:,1], 0.5)\n",
    "    \n",
    "    dummy_scores_df = pd.concat([dummy_scores_df, scores], axis=1)\n",
    "    \n",
    "dummy_scores_df.columns = ['y100', 'y200', 'y500', 'y1000']\n",
    "dummy_scores_df"
   ]
  },
  {
   "cell_type": "code",
   "execution_count": 190,
   "metadata": {},
   "outputs": [
    {
     "data": {
      "text/html": [
       "<div>\n",
       "<style scoped>\n",
       "    .dataframe tbody tr th:only-of-type {\n",
       "        vertical-align: middle;\n",
       "    }\n",
       "\n",
       "    .dataframe tbody tr th {\n",
       "        vertical-align: top;\n",
       "    }\n",
       "\n",
       "    .dataframe thead th {\n",
       "        text-align: right;\n",
       "    }\n",
       "</style>\n",
       "<table border=\"1\" class=\"dataframe\">\n",
       "  <thead>\n",
       "    <tr style=\"text-align: right;\">\n",
       "      <th></th>\n",
       "      <th>randomforest</th>\n",
       "      <th>logistic</th>\n",
       "      <th>SVM</th>\n",
       "    </tr>\n",
       "  </thead>\n",
       "  <tbody>\n",
       "    <tr>\n",
       "      <th>accuracy</th>\n",
       "      <td>0.753927</td>\n",
       "      <td>0.748691</td>\n",
       "      <td>0.753927</td>\n",
       "    </tr>\n",
       "    <tr>\n",
       "      <th>precision</th>\n",
       "      <td>0.600000</td>\n",
       "      <td>0.600000</td>\n",
       "      <td>0.590909</td>\n",
       "    </tr>\n",
       "    <tr>\n",
       "      <th>recall</th>\n",
       "      <td>0.436364</td>\n",
       "      <td>0.381818</td>\n",
       "      <td>0.472727</td>\n",
       "    </tr>\n",
       "    <tr>\n",
       "      <th>specificity</th>\n",
       "      <td>0.882353</td>\n",
       "      <td>0.897059</td>\n",
       "      <td>0.867647</td>\n",
       "    </tr>\n",
       "    <tr>\n",
       "      <th>F1</th>\n",
       "      <td>0.505263</td>\n",
       "      <td>0.466667</td>\n",
       "      <td>0.525253</td>\n",
       "    </tr>\n",
       "    <tr>\n",
       "      <th>AUC</th>\n",
       "      <td>0.772059</td>\n",
       "      <td>0.766444</td>\n",
       "      <td>0.758757</td>\n",
       "    </tr>\n",
       "  </tbody>\n",
       "</table>\n",
       "</div>"
      ],
      "text/plain": [
       "             randomforest  logistic       SVM\n",
       "accuracy         0.753927  0.748691  0.753927\n",
       "precision        0.600000  0.600000  0.590909\n",
       "recall           0.436364  0.381818  0.472727\n",
       "specificity      0.882353  0.897059  0.867647\n",
       "F1               0.505263  0.466667  0.525253\n",
       "AUC              0.772059  0.766444  0.758757"
      ]
     },
     "execution_count": 190,
     "metadata": {},
     "output_type": "execute_result"
    }
   ],
   "source": [
    "# models = [y500_rf_models[2], y500_lr_models[2], y500_svm_models[2]]\n",
    "\n",
    "# scores_df = pd.DataFrame()\n",
    "\n",
    "# for m in models:\n",
    "#     probs = m.predict_proba(X_test_nosoil_log)\n",
    "    \n",
    "#     scores = score_metrics(y500_test_nosoil, probs[:,1], 0.5)\n",
    "    \n",
    "#     scores_df = pd.concat([scores_df, scores], axis=1)\n",
    "    \n",
    "# scores_df.columns = ['randomforest', 'logistic', 'SVM']\n",
    "# scores_df"
   ]
  },
  {
   "cell_type": "code",
   "execution_count": 189,
   "metadata": {},
   "outputs": [
    {
     "data": {
      "text/html": [
       "<div>\n",
       "<style scoped>\n",
       "    .dataframe tbody tr th:only-of-type {\n",
       "        vertical-align: middle;\n",
       "    }\n",
       "\n",
       "    .dataframe tbody tr th {\n",
       "        vertical-align: top;\n",
       "    }\n",
       "\n",
       "    .dataframe thead th {\n",
       "        text-align: right;\n",
       "    }\n",
       "</style>\n",
       "<table border=\"1\" class=\"dataframe\">\n",
       "  <thead>\n",
       "    <tr style=\"text-align: right;\">\n",
       "      <th></th>\n",
       "      <th>y100</th>\n",
       "      <th>y200</th>\n",
       "      <th>y500</th>\n",
       "      <th>y1000</th>\n",
       "    </tr>\n",
       "  </thead>\n",
       "  <tbody>\n",
       "    <tr>\n",
       "      <th>accuracy</th>\n",
       "      <td>0.649215</td>\n",
       "      <td>0.675393</td>\n",
       "      <td>0.753927</td>\n",
       "      <td>0.795812</td>\n",
       "    </tr>\n",
       "    <tr>\n",
       "      <th>precision</th>\n",
       "      <td>0.771739</td>\n",
       "      <td>0.647059</td>\n",
       "      <td>0.600000</td>\n",
       "      <td>0.547619</td>\n",
       "    </tr>\n",
       "    <tr>\n",
       "      <th>recall</th>\n",
       "      <td>0.606838</td>\n",
       "      <td>0.632184</td>\n",
       "      <td>0.436364</td>\n",
       "      <td>0.534884</td>\n",
       "    </tr>\n",
       "    <tr>\n",
       "      <th>specificity</th>\n",
       "      <td>0.716216</td>\n",
       "      <td>0.711538</td>\n",
       "      <td>0.882353</td>\n",
       "      <td>0.871622</td>\n",
       "    </tr>\n",
       "    <tr>\n",
       "      <th>F1</th>\n",
       "      <td>0.679426</td>\n",
       "      <td>0.639535</td>\n",
       "      <td>0.505263</td>\n",
       "      <td>0.541176</td>\n",
       "    </tr>\n",
       "    <tr>\n",
       "      <th>AUC</th>\n",
       "      <td>0.702934</td>\n",
       "      <td>0.761052</td>\n",
       "      <td>0.772059</td>\n",
       "      <td>0.739786</td>\n",
       "    </tr>\n",
       "  </tbody>\n",
       "</table>\n",
       "</div>"
      ],
      "text/plain": [
       "                 y100      y200      y500     y1000\n",
       "accuracy     0.649215  0.675393  0.753927  0.795812\n",
       "precision    0.771739  0.647059  0.600000  0.547619\n",
       "recall       0.606838  0.632184  0.436364  0.534884\n",
       "specificity  0.716216  0.711538  0.882353  0.871622\n",
       "F1           0.679426  0.639535  0.505263  0.541176\n",
       "AUC          0.702934  0.761052  0.772059  0.739786"
      ]
     },
     "execution_count": 189,
     "metadata": {},
     "output_type": "execute_result"
    }
   ],
   "source": [
    "# random forest models:\n",
    "\n",
    "model_sets = [y100_rf_models[2], y200_rf_models[2], y500_rf_models[2], y1000_rf_models[2]]\n",
    "test_sets = [y100_test_nosoil, y200_test_nosoil, y500_test_nosoil, y1000_test_nosoil]\n",
    "\n",
    "scores_df = pd.DataFrame()\n",
    "\n",
    "for models, test in zip(model_sets, test_sets):\n",
    "    probs = models.predict_proba(X_test_nosoil_log)\n",
    "    \n",
    "    scores = score_metrics(test, probs[:,1], 0.5)\n",
    "    \n",
    "    scores_df = pd.concat([scores_df, scores], axis=1)\n",
    "    \n",
    "scores_df.columns = ['y100', 'y200', 'y500', 'y1000']\n",
    "scores_df"
   ]
  },
  {
   "cell_type": "code",
   "execution_count": 213,
   "metadata": {},
   "outputs": [
    {
     "data": {
      "text/html": [
       "<div>\n",
       "<style scoped>\n",
       "    .dataframe tbody tr th:only-of-type {\n",
       "        vertical-align: middle;\n",
       "    }\n",
       "\n",
       "    .dataframe tbody tr th {\n",
       "        vertical-align: top;\n",
       "    }\n",
       "\n",
       "    .dataframe thead th {\n",
       "        text-align: right;\n",
       "    }\n",
       "</style>\n",
       "<table border=\"1\" class=\"dataframe\">\n",
       "  <thead>\n",
       "    <tr style=\"text-align: right;\">\n",
       "      <th></th>\n",
       "      <th>y100</th>\n",
       "      <th>y200</th>\n",
       "      <th>y500</th>\n",
       "      <th>y1000</th>\n",
       "    </tr>\n",
       "  </thead>\n",
       "  <tbody>\n",
       "    <tr>\n",
       "      <th>accuracy</th>\n",
       "      <td>0.664921</td>\n",
       "      <td>0.722513</td>\n",
       "      <td>0.748691</td>\n",
       "      <td>0.795812</td>\n",
       "    </tr>\n",
       "    <tr>\n",
       "      <th>precision</th>\n",
       "      <td>0.797753</td>\n",
       "      <td>0.717949</td>\n",
       "      <td>0.600000</td>\n",
       "      <td>1.000000</td>\n",
       "    </tr>\n",
       "    <tr>\n",
       "      <th>recall</th>\n",
       "      <td>0.606838</td>\n",
       "      <td>0.643678</td>\n",
       "      <td>0.381818</td>\n",
       "      <td>0.093023</td>\n",
       "    </tr>\n",
       "    <tr>\n",
       "      <th>specificity</th>\n",
       "      <td>0.756757</td>\n",
       "      <td>0.788462</td>\n",
       "      <td>0.897059</td>\n",
       "      <td>1.000000</td>\n",
       "    </tr>\n",
       "    <tr>\n",
       "      <th>F1</th>\n",
       "      <td>0.689320</td>\n",
       "      <td>0.678788</td>\n",
       "      <td>0.466667</td>\n",
       "      <td>0.170213</td>\n",
       "    </tr>\n",
       "    <tr>\n",
       "      <th>AUC</th>\n",
       "      <td>0.728575</td>\n",
       "      <td>0.764589</td>\n",
       "      <td>0.766444</td>\n",
       "      <td>0.755185</td>\n",
       "    </tr>\n",
       "  </tbody>\n",
       "</table>\n",
       "</div>"
      ],
      "text/plain": [
       "                 y100      y200      y500     y1000\n",
       "accuracy     0.664921  0.722513  0.748691  0.795812\n",
       "precision    0.797753  0.717949  0.600000  1.000000\n",
       "recall       0.606838  0.643678  0.381818  0.093023\n",
       "specificity  0.756757  0.788462  0.897059  1.000000\n",
       "F1           0.689320  0.678788  0.466667  0.170213\n",
       "AUC          0.728575  0.764589  0.766444  0.755185"
      ]
     },
     "execution_count": 213,
     "metadata": {},
     "output_type": "execute_result"
    }
   ],
   "source": [
    "# logistic regression models:\n",
    "\n",
    "model_sets = [y100_lr_models[2], y200_lr_models[2], y500_lr_models[2], y1000_lr_models[2]]\n",
    "test_sets = [y100_test_nosoil, y200_test_nosoil, y500_test_nosoil, y1000_test_nosoil]\n",
    "\n",
    "scores_lr_df = pd.DataFrame()\n",
    "\n",
    "for models, test in zip(model_sets, test_sets):\n",
    "    probs = models.predict_proba(X_test_nosoil_log)\n",
    "    \n",
    "    scores = score_metrics(test, probs[:,1], 0.5)\n",
    "    \n",
    "    scores_lr_df = pd.concat([scores_lr_df, scores], axis=1)\n",
    "    \n",
    "scores_lr_df.columns = ['y100', 'y200', 'y500', 'y1000']\n",
    "scores_lr_df"
   ]
  },
  {
   "cell_type": "code",
   "execution_count": 214,
   "metadata": {
    "scrolled": true
   },
   "outputs": [
    {
     "data": {
      "text/html": [
       "<div>\n",
       "<style scoped>\n",
       "    .dataframe tbody tr th:only-of-type {\n",
       "        vertical-align: middle;\n",
       "    }\n",
       "\n",
       "    .dataframe tbody tr th {\n",
       "        vertical-align: top;\n",
       "    }\n",
       "\n",
       "    .dataframe thead th {\n",
       "        text-align: right;\n",
       "    }\n",
       "</style>\n",
       "<table border=\"1\" class=\"dataframe\">\n",
       "  <thead>\n",
       "    <tr style=\"text-align: right;\">\n",
       "      <th></th>\n",
       "      <th>y100</th>\n",
       "      <th>y200</th>\n",
       "      <th>y500</th>\n",
       "      <th>y1000</th>\n",
       "    </tr>\n",
       "  </thead>\n",
       "  <tbody>\n",
       "    <tr>\n",
       "      <th>accuracy</th>\n",
       "      <td>0.607330</td>\n",
       "      <td>0.643979</td>\n",
       "      <td>0.753927</td>\n",
       "      <td>0.801047</td>\n",
       "    </tr>\n",
       "    <tr>\n",
       "      <th>precision</th>\n",
       "      <td>0.617978</td>\n",
       "      <td>0.579832</td>\n",
       "      <td>0.590909</td>\n",
       "      <td>0.666667</td>\n",
       "    </tr>\n",
       "    <tr>\n",
       "      <th>recall</th>\n",
       "      <td>0.940171</td>\n",
       "      <td>0.793103</td>\n",
       "      <td>0.472727</td>\n",
       "      <td>0.232558</td>\n",
       "    </tr>\n",
       "    <tr>\n",
       "      <th>specificity</th>\n",
       "      <td>0.081081</td>\n",
       "      <td>0.519231</td>\n",
       "      <td>0.867647</td>\n",
       "      <td>0.966216</td>\n",
       "    </tr>\n",
       "    <tr>\n",
       "      <th>F1</th>\n",
       "      <td>0.745763</td>\n",
       "      <td>0.669903</td>\n",
       "      <td>0.525253</td>\n",
       "      <td>0.344828</td>\n",
       "    </tr>\n",
       "    <tr>\n",
       "      <th>AUC</th>\n",
       "      <td>0.725341</td>\n",
       "      <td>0.769065</td>\n",
       "      <td>0.758757</td>\n",
       "      <td>0.749529</td>\n",
       "    </tr>\n",
       "  </tbody>\n",
       "</table>\n",
       "</div>"
      ],
      "text/plain": [
       "                 y100      y200      y500     y1000\n",
       "accuracy     0.607330  0.643979  0.753927  0.801047\n",
       "precision    0.617978  0.579832  0.590909  0.666667\n",
       "recall       0.940171  0.793103  0.472727  0.232558\n",
       "specificity  0.081081  0.519231  0.867647  0.966216\n",
       "F1           0.745763  0.669903  0.525253  0.344828\n",
       "AUC          0.725341  0.769065  0.758757  0.749529"
      ]
     },
     "execution_count": 214,
     "metadata": {},
     "output_type": "execute_result"
    }
   ],
   "source": [
    "# SVM models:\n",
    "\n",
    "model_sets = [y100_svm_models[2], y200_svm_models[2], y500_svm_models[2], y1000_svm_models[2]]\n",
    "test_sets = [y100_test_nosoil, y200_test_nosoil, y500_test_nosoil, y1000_test_nosoil]\n",
    "\n",
    "scores_svm_df = pd.DataFrame()\n",
    "\n",
    "for models, test in zip(model_sets, test_sets):\n",
    "    probs = models.predict_proba(X_test_nosoil_log)\n",
    "    \n",
    "    scores = score_metrics(test, probs[:,1], 0.5)\n",
    "    \n",
    "    scores_svm_df = pd.concat([scores_svm_df, scores], axis=1)\n",
    "    \n",
    "scores_svm_df.columns = ['y100', 'y200', 'y500', 'y1000']\n",
    "scores_svm_df"
   ]
  },
  {
   "cell_type": "markdown",
   "metadata": {},
   "source": []
  },
  {
   "cell_type": "markdown",
   "metadata": {},
   "source": [
    "#### Make feature importance plots for each of the methods; will focus on y500 threshold for now!"
   ]
  },
  {
   "cell_type": "code",
   "execution_count": null,
   "metadata": {},
   "outputs": [],
   "source": []
  },
  {
   "cell_type": "markdown",
   "metadata": {},
   "source": [
    "The tricky part is getting the right column names for each of the models. NB: never mind! The same feature set can be used for all models using the VIF variables"
   ]
  },
  {
   "cell_type": "code",
   "execution_count": 224,
   "metadata": {},
   "outputs": [],
   "source": [
    "\n",
    "cols = list(feature_sets[2])     # CAREFUL WHEN DUPLICATING OBJECTS! CHANGES TO THE COPY CAN AFFECT THE ORIGINAL\n",
    "cols.remove('RainYN') # remove this variable from the list of variables; alternatively,\n",
    "                                    # could use a separate 'numeric' variable list and add that, but\n",
    "                                    # that has some complications\n",
    "\n",
    "ohe = ylog_rf_models[2].named_steps['preprocessor'].named_transformers_['categorical'].named_steps['onehot']\n",
    "ohe_feature_names = list(ohe.get_feature_names_out(categorical_features))\n",
    "new_columns = cols + ohe_feature_names # may or may not need to remove RainYN from data set:\n",
    "                        # feature_sets[2].remove('RainYN')\n",
    "new_columns;\n",
    "\n",
    "#ohe = y500_rf_models[2].named_steps['preprocessor'].named_transformers_['categorical'].named_steps['onehot']\n",
    "#ohe_feature_names = list(ohe.get_feature_names_out(categorical_features))\n",
    "#new_columns_rfclass = cols + ohe_feature_names # may or may not need to remove RainYN from data set:\n",
    "                        # feature_sets[2].remove('RainYN')\n",
    "#new_columns_rfclass\n",
    "\n",
    "#ohe = y500_lr_models[2].named_steps['preprocessor'].named_transformers_['categorical'].named_steps['onehot']\n",
    "#ohe_feature_names = list(ohe.get_feature_names_out(categorical_features))\n",
    "#new_columns_lr = cols + ohe_feature_names # may or may not need to remove RainYN from data set:\n",
    "                        # feature_sets[2].remove('RainYN')\n",
    "#new_columns_lr\n",
    "\n",
    "#ohe = y500_svm_models[2].named_steps['preprocessor'].named_transformers_['categorical'].named_steps['onehot']\n",
    "#ohe_feature_names = list(ohe.get_feature_names_out(categorical_features))\n",
    "#new_columns_svm = cols + ohe_feature_names # may or may not need to remove RainYN from data set:\n",
    "                        # feature_sets[2].remove('RainYN')\n",
    "#new_columns_svm;"
   ]
  },
  {
   "cell_type": "code",
   "execution_count": 225,
   "metadata": {},
   "outputs": [],
   "source": [
    "#print(new_columns_rfreg)\n",
    "#print(new_columns_rfclass)\n",
    "#print(new_columns_lr)\n",
    "#print(new_columns_svm)"
   ]
  },
  {
   "cell_type": "code",
   "execution_count": 275,
   "metadata": {},
   "outputs": [],
   "source": [
    "from pylab import rcParams"
   ]
  },
  {
   "cell_type": "code",
   "execution_count": 283,
   "metadata": {},
   "outputs": [
    {
     "data": {
      "image/png": "[encoded data removed]",
      "text/plain": [
       "<Figure size 360x720 with 4 Axes>"
      ]
     },
     "metadata": {
      "needs_background": "light"
     },
     "output_type": "display_data"
    }
   ],
   "source": [
    "\n",
    "rcParams['figure.figsize'] = 5, 10\n",
    "\n",
    "fig = plt.figure()\n",
    "\n",
    "plt.subplot(4,1,1)\n",
    "feat_importances_rfreg = pd.Series(ylog_rf_models[2].steps[1][1].feature_importances_,\n",
    "                             index=new_columns)\n",
    "feat_importances_rfreg.nlargest(10).sort_values(ascending = True).plot(kind='barh', width = 0.85)\n",
    "plt.title(\"Random forest regression\")\n",
    "#plt.show()\n",
    "\n",
    "\n",
    "plt.subplot(4,1,2)\n",
    "feat_importances_rf500 = pd.Series(y500_rf_models[2].steps[1][1].feature_importances_,\n",
    "                             index=new_columns)\n",
    "feat_importances_rf500.nlargest(10).sort_values(ascending = True).plot(kind='barh', width = 0.85)\n",
    "plt.title(\"Random forest classification, 500\")\n",
    "#plt.show()\n",
    "\n",
    "\n",
    "plt.subplot(4,1,3)\n",
    "feat_importances_lr500 = pd.Series(np.abs(y500_lr_models[2].steps[1][1].coef_[0]), # take absolute values here\n",
    "                             index=new_columns)\n",
    "feat_importances_lr500.nlargest(10).sort_values(ascending = True).plot(kind='barh', width = 0.85)\n",
    "plt.title(\"Logistic regression, 500\")\n",
    "#plt.show()\n",
    "\n",
    "\n",
    "# getting feature importances is a bit weird for SVM if using the 'rbf' kernel, but here it is:\n",
    "\n",
    "plt.subplot(4,1,4)\n",
    "perm_importance = permutation_importance(y500_svm_models[2], X_test_nosoil_log, y500_test_nosoil)\n",
    "\n",
    "feature_names = X_test_nosoil_log.columns # must use all original column names\n",
    "features = np.array(feature_names)\n",
    "\n",
    "feat_importances_svm500 = pd.Series(np.abs(perm_importance.importances_mean),\n",
    "                             index=features)\n",
    "\n",
    "feat_importances_svm500.nlargest(10).sort_values(ascending = True).plot(kind='barh', width = 0.85)\n",
    "plt.title(\"Support vector machine, 500\")\n",
    "plt.xlabel(\"Relative importance\")\n",
    "#plt.show()\n",
    "\n",
    "fig.tight_layout()\n",
    "#fig.subplots_adjust(hspace=0.6)\n",
    "plt.savefig(\"feature importances.png\", dpi = 300)\n"
   ]
  },
  {
   "cell_type": "markdown",
   "metadata": {},
   "source": [
    "And also make a dataframe showing all the feature importance values:"
   ]
  },
  {
   "cell_type": "code",
   "execution_count": 286,
   "metadata": {},
   "outputs": [],
   "source": [
    "blah = pd.concat([feat_importances_rfreg, feat_importances_rf500, feat_importances_lr500, feat_importances_svm500], \n",
    "                 axis=1)\n",
    "\n",
    "blah.columns = ['rf_reg', 'rf_y500', 'lr_y500', 'svm_y500']\n",
    "\n",
    "blah.to_csv(\"feature importances dataframe.csv\")\n"
   ]
  },
  {
   "cell_type": "code",
   "execution_count": 67,
   "metadata": {},
   "outputs": [],
   "source": [
    "# LASSO feature selection - need scaled features\n",
    "# ONE OPTION FOR DOING THIS BELOW: this is using the transformed/encoded X data set and using the binary y\n",
    "#                                  target\n",
    "# Lasso:\n",
    "larcv = LassoCV(n_alphas=100, cv = 10, max_iter = 10000) \n",
    "\n",
    "y_data_sets = [y_trainvalid_nosoil_log, y100_trainvalid_nosoil, y200_trainvalid_nosoil, \n",
    "               y500_trainvalid_nosoil, y1000_trainvalid_nosoil]\n",
    "#y_data_sets = [ylog_all, y100_all, y200_all, y500_all, y1000_all]\n",
    "#larcv_coefs = pd.DataFrame(index = X_all.columns)\n",
    "larcv_coefs = pd.DataFrame(index = X_trainvalid.columns)\n",
    "\n",
    "# a for loop to perform all fits at once:\n",
    "for y in y_data_sets:\n",
    "    larcv.fit(X_trainvalid, y)\n",
    "    larcv_ycoefs = pd.DataFrame(data=abs(larcv.coef_), index=X_trainvalid.columns)\n",
    "    \n",
    "    larcv_coefs = pd.concat([larcv_coefs, larcv_ycoefs], axis=1)\n",
    "    \n",
    "larcv_coefs.columns = ['ylog', 'y100', 'y200', 'y500', 'y1000']"
   ]
  },
  {
   "cell_type": "code",
   "execution_count": 68,
   "metadata": {},
   "outputs": [
    {
     "data": {
      "text/html": [
       "<div>\n",
       "<style scoped>\n",
       "    .dataframe tbody tr th:only-of-type {\n",
       "        vertical-align: middle;\n",
       "    }\n",
       "\n",
       "    .dataframe tbody tr th {\n",
       "        vertical-align: top;\n",
       "    }\n",
       "\n",
       "    .dataframe thead th {\n",
       "        text-align: right;\n",
       "    }\n",
       "</style>\n",
       "<table border=\"1\" class=\"dataframe\">\n",
       "  <thead>\n",
       "    <tr style=\"text-align: right;\">\n",
       "      <th></th>\n",
       "      <th>ylog</th>\n",
       "      <th>y100</th>\n",
       "      <th>y200</th>\n",
       "      <th>y500</th>\n",
       "      <th>y1000</th>\n",
       "    </tr>\n",
       "  </thead>\n",
       "  <tbody>\n",
       "    <tr>\n",
       "      <th>logSs_t1</th>\n",
       "      <td>0.368919</td>\n",
       "      <td>0.128645</td>\n",
       "      <td>0.155954</td>\n",
       "      <td>0.181878</td>\n",
       "      <td>0.14188</td>\n",
       "    </tr>\n",
       "    <tr>\n",
       "      <th>MeanRH</th>\n",
       "      <td>0.073478</td>\n",
       "      <td>0.000000</td>\n",
       "      <td>0.035407</td>\n",
       "      <td>0.019537</td>\n",
       "      <td>0.00000</td>\n",
       "    </tr>\n",
       "    <tr>\n",
       "      <th>TotalPrecip</th>\n",
       "      <td>0.063709</td>\n",
       "      <td>0.025243</td>\n",
       "      <td>0.019007</td>\n",
       "      <td>0.000000</td>\n",
       "      <td>0.00000</td>\n",
       "    </tr>\n",
       "    <tr>\n",
       "      <th>MaxDP</th>\n",
       "      <td>0.058479</td>\n",
       "      <td>0.030315</td>\n",
       "      <td>0.032696</td>\n",
       "      <td>0.000000</td>\n",
       "      <td>0.00000</td>\n",
       "    </tr>\n",
       "    <tr>\n",
       "      <th>MinTemp</th>\n",
       "      <td>0.022790</td>\n",
       "      <td>0.000000</td>\n",
       "      <td>0.040527</td>\n",
       "      <td>0.000000</td>\n",
       "      <td>0.00000</td>\n",
       "    </tr>\n",
       "    <tr>\n",
       "      <th>MeanVPD_1d</th>\n",
       "      <td>0.005460</td>\n",
       "      <td>0.017325</td>\n",
       "      <td>0.031176</td>\n",
       "      <td>0.001569</td>\n",
       "      <td>0.00000</td>\n",
       "    </tr>\n",
       "    <tr>\n",
       "      <th>MinDP_1d</th>\n",
       "      <td>0.002042</td>\n",
       "      <td>0.003667</td>\n",
       "      <td>0.000000</td>\n",
       "      <td>0.000000</td>\n",
       "      <td>0.00000</td>\n",
       "    </tr>\n",
       "    <tr>\n",
       "      <th>DiffRH_0d</th>\n",
       "      <td>0.000000</td>\n",
       "      <td>0.000000</td>\n",
       "      <td>0.004352</td>\n",
       "      <td>0.000000</td>\n",
       "      <td>0.00000</td>\n",
       "    </tr>\n",
       "    <tr>\n",
       "      <th>MeanTemp</th>\n",
       "      <td>0.000000</td>\n",
       "      <td>0.000000</td>\n",
       "      <td>0.020870</td>\n",
       "      <td>0.001591</td>\n",
       "      <td>0.00000</td>\n",
       "    </tr>\n",
       "    <tr>\n",
       "      <th>MaxDiffRH_3h</th>\n",
       "      <td>0.000000</td>\n",
       "      <td>0.000830</td>\n",
       "      <td>0.000000</td>\n",
       "      <td>0.000000</td>\n",
       "      <td>0.00000</td>\n",
       "    </tr>\n",
       "    <tr>\n",
       "      <th>MeanVPD</th>\n",
       "      <td>0.000000</td>\n",
       "      <td>0.018441</td>\n",
       "      <td>0.000000</td>\n",
       "      <td>0.000000</td>\n",
       "      <td>0.00000</td>\n",
       "    </tr>\n",
       "    <tr>\n",
       "      <th>DiffMinRH</th>\n",
       "      <td>0.000000</td>\n",
       "      <td>0.000000</td>\n",
       "      <td>0.006337</td>\n",
       "      <td>0.000000</td>\n",
       "      <td>0.00000</td>\n",
       "    </tr>\n",
       "    <tr>\n",
       "      <th>MinT_1d</th>\n",
       "      <td>0.000000</td>\n",
       "      <td>0.000000</td>\n",
       "      <td>0.002379</td>\n",
       "      <td>0.000000</td>\n",
       "      <td>0.00000</td>\n",
       "    </tr>\n",
       "    <tr>\n",
       "      <th>MaxTemp</th>\n",
       "      <td>0.000000</td>\n",
       "      <td>0.009255</td>\n",
       "      <td>0.000000</td>\n",
       "      <td>0.003816</td>\n",
       "      <td>0.00000</td>\n",
       "    </tr>\n",
       "    <tr>\n",
       "      <th>MaxDP_1d</th>\n",
       "      <td>0.000000</td>\n",
       "      <td>0.001350</td>\n",
       "      <td>0.000000</td>\n",
       "      <td>0.000000</td>\n",
       "      <td>0.00000</td>\n",
       "    </tr>\n",
       "    <tr>\n",
       "      <th>MinDP</th>\n",
       "      <td>0.000000</td>\n",
       "      <td>0.020043</td>\n",
       "      <td>0.000000</td>\n",
       "      <td>0.000000</td>\n",
       "      <td>0.00000</td>\n",
       "    </tr>\n",
       "    <tr>\n",
       "      <th>MaxDiffRH_2h</th>\n",
       "      <td>0.000000</td>\n",
       "      <td>0.004291</td>\n",
       "      <td>0.000000</td>\n",
       "      <td>0.000000</td>\n",
       "      <td>0.00000</td>\n",
       "    </tr>\n",
       "  </tbody>\n",
       "</table>\n",
       "</div>"
      ],
      "text/plain": [
       "                  ylog      y100      y200      y500    y1000\n",
       "logSs_t1      0.368919  0.128645  0.155954  0.181878  0.14188\n",
       "MeanRH        0.073478  0.000000  0.035407  0.019537  0.00000\n",
       "TotalPrecip   0.063709  0.025243  0.019007  0.000000  0.00000\n",
       "MaxDP         0.058479  0.030315  0.032696  0.000000  0.00000\n",
       "MinTemp       0.022790  0.000000  0.040527  0.000000  0.00000\n",
       "MeanVPD_1d    0.005460  0.017325  0.031176  0.001569  0.00000\n",
       "MinDP_1d      0.002042  0.003667  0.000000  0.000000  0.00000\n",
       "DiffRH_0d     0.000000  0.000000  0.004352  0.000000  0.00000\n",
       "MeanTemp      0.000000  0.000000  0.020870  0.001591  0.00000\n",
       "MaxDiffRH_3h  0.000000  0.000830  0.000000  0.000000  0.00000\n",
       "MeanVPD       0.000000  0.018441  0.000000  0.000000  0.00000\n",
       "DiffMinRH     0.000000  0.000000  0.006337  0.000000  0.00000\n",
       "MinT_1d       0.000000  0.000000  0.002379  0.000000  0.00000\n",
       "MaxTemp       0.000000  0.009255  0.000000  0.003816  0.00000\n",
       "MaxDP_1d      0.000000  0.001350  0.000000  0.000000  0.00000\n",
       "MinDP         0.000000  0.020043  0.000000  0.000000  0.00000\n",
       "MaxDiffRH_2h  0.000000  0.004291  0.000000  0.000000  0.00000"
      ]
     },
     "execution_count": 68,
     "metadata": {},
     "output_type": "execute_result"
    }
   ],
   "source": [
    "# display results; remove variables that weren't selected in any of the models (i.e. their coefficient = 0)\n",
    "larcv_coefs[(larcv_coefs.T > 1e-6).any()].sort_values(by='ylog', ascending=False)"
   ]
  }
 ],
 "metadata": {
  "kernelspec": {
   "display_name": "Python 3",
   "language": "python",
   "name": "python3"
  },
  "language_info": {
   "codemirror_mode": {
    "name": "ipython",
    "version": 3
   },
   "file_extension": ".py",
   "mimetype": "text/x-python",
   "name": "python",
   "nbconvert_exporter": "python",
   "pygments_lexer": "ipython3",
   "version": "3.8.5"
  }
 },
 "nbformat": 4,
 "nbformat_minor": 4
}
